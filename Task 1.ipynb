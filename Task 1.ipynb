{
 "cells": [
  {
   "cell_type": "markdown",
   "id": "1e3724a7",
   "metadata": {},
   "source": [
    "# Unemployment Analysis in India during covid pandamic\n",
    "\n",
    "            -> Unemployment is measured by the unemployment rate which is the number of people who are unemployed as a percentage of the total labour force.\n",
    "\n",
    "            -> During the covid-19 period there was a sharp increase in the unemployment rate.\n",
    "\n",
    "            -> The aim is to analyze the unemployment rate using python.\n",
    "            \n",
    "Goal:\n",
    "\n",
    "This analysis focuses on evaluating the far-reaching impacts of the COVID-19 pandemic on India's employment landscape. The dataset at hand provides essential insights into the fluctuations of unemployment rates among different states in India. Within the dataset, vital indicators including State-wise breakdown, timeline, measurement frequency, Estimated Unemployment Rate (%), Estimated Employed Individuals, and Estimated Labour Participation Rate (%) are encompassed."
   ]
  },
  {
   "cell_type": "code",
   "execution_count": 1,
   "id": "9f5d459c",
   "metadata": {},
   "outputs": [],
   "source": [
    "import numpy as np\n",
    "import pandas as pd\n",
    "import matplotlib.pyplot as plt\n",
    "import seaborn as sns\n",
    "import plotly.express as px\n",
    "import datetime as dt\n",
    "import plotly.graph_objects as go\n"
   ]
  },
  {
   "cell_type": "markdown",
   "id": "9be73890",
   "metadata": {},
   "source": [
    "PLOTLY LIBRARY :- \n",
    "\n",
    "Plotly Express is a high-level data visualization library in Python that is part of the Plotly ecosystem. It provides a simple and expressive interface for creating a variety of interactive plots and charts.\n",
    "\n",
    "MATPLOTLIB LIBRARY :-\n",
    "\n",
    "Matplotlib is a popular Python library for creating static, interactive, and animated plots and visualizations. It provides a wide variety of plotting options and is extensively used in the field of data science and scientific research.\n",
    "\n",
    "SEABORN LIBRARY :-\n",
    "\n",
    "Seaborn is another powerful data visualization library in Python that is built on top of Matplotlib. It provides a high-level interface for drawing attractive and informative statistical graphics. Seaborn is particularly well-suited for visualizing complex datasets with multiple variables. "
   ]
  },
  {
   "cell_type": "code",
   "execution_count": 2,
   "id": "fbfb4d92",
   "metadata": {},
   "outputs": [
    {
     "data": {
      "text/html": [
       "<div>\n",
       "<style scoped>\n",
       "    .dataframe tbody tr th:only-of-type {\n",
       "        vertical-align: middle;\n",
       "    }\n",
       "\n",
       "    .dataframe tbody tr th {\n",
       "        vertical-align: top;\n",
       "    }\n",
       "\n",
       "    .dataframe thead th {\n",
       "        text-align: right;\n",
       "    }\n",
       "</style>\n",
       "<table border=\"1\" class=\"dataframe\">\n",
       "  <thead>\n",
       "    <tr style=\"text-align: right;\">\n",
       "      <th></th>\n",
       "      <th>Region</th>\n",
       "      <th>Date</th>\n",
       "      <th>Frequency</th>\n",
       "      <th>Estimated Unemployment Rate (%)</th>\n",
       "      <th>Estimated Employed</th>\n",
       "      <th>Estimated Labour Participation Rate (%)</th>\n",
       "      <th>Area</th>\n",
       "    </tr>\n",
       "  </thead>\n",
       "  <tbody>\n",
       "    <tr>\n",
       "      <th>0</th>\n",
       "      <td>Andhra Pradesh</td>\n",
       "      <td>31-05-2019</td>\n",
       "      <td>Monthly</td>\n",
       "      <td>3.65</td>\n",
       "      <td>11999139.0</td>\n",
       "      <td>43.24</td>\n",
       "      <td>Rural</td>\n",
       "    </tr>\n",
       "    <tr>\n",
       "      <th>1</th>\n",
       "      <td>Andhra Pradesh</td>\n",
       "      <td>30-06-2019</td>\n",
       "      <td>Monthly</td>\n",
       "      <td>3.05</td>\n",
       "      <td>11755881.0</td>\n",
       "      <td>42.05</td>\n",
       "      <td>Rural</td>\n",
       "    </tr>\n",
       "    <tr>\n",
       "      <th>2</th>\n",
       "      <td>Andhra Pradesh</td>\n",
       "      <td>31-07-2019</td>\n",
       "      <td>Monthly</td>\n",
       "      <td>3.75</td>\n",
       "      <td>12086707.0</td>\n",
       "      <td>43.50</td>\n",
       "      <td>Rural</td>\n",
       "    </tr>\n",
       "    <tr>\n",
       "      <th>3</th>\n",
       "      <td>Andhra Pradesh</td>\n",
       "      <td>31-08-2019</td>\n",
       "      <td>Monthly</td>\n",
       "      <td>3.32</td>\n",
       "      <td>12285693.0</td>\n",
       "      <td>43.97</td>\n",
       "      <td>Rural</td>\n",
       "    </tr>\n",
       "    <tr>\n",
       "      <th>4</th>\n",
       "      <td>Andhra Pradesh</td>\n",
       "      <td>30-09-2019</td>\n",
       "      <td>Monthly</td>\n",
       "      <td>5.17</td>\n",
       "      <td>12256762.0</td>\n",
       "      <td>44.68</td>\n",
       "      <td>Rural</td>\n",
       "    </tr>\n",
       "    <tr>\n",
       "      <th>5</th>\n",
       "      <td>Andhra Pradesh</td>\n",
       "      <td>31-10-2019</td>\n",
       "      <td>Monthly</td>\n",
       "      <td>3.52</td>\n",
       "      <td>12017412.0</td>\n",
       "      <td>43.01</td>\n",
       "      <td>Rural</td>\n",
       "    </tr>\n",
       "    <tr>\n",
       "      <th>6</th>\n",
       "      <td>Andhra Pradesh</td>\n",
       "      <td>30-11-2019</td>\n",
       "      <td>Monthly</td>\n",
       "      <td>4.12</td>\n",
       "      <td>11397681.0</td>\n",
       "      <td>41.00</td>\n",
       "      <td>Rural</td>\n",
       "    </tr>\n",
       "    <tr>\n",
       "      <th>7</th>\n",
       "      <td>Andhra Pradesh</td>\n",
       "      <td>31-12-2019</td>\n",
       "      <td>Monthly</td>\n",
       "      <td>4.38</td>\n",
       "      <td>12528395.0</td>\n",
       "      <td>45.14</td>\n",
       "      <td>Rural</td>\n",
       "    </tr>\n",
       "    <tr>\n",
       "      <th>8</th>\n",
       "      <td>Andhra Pradesh</td>\n",
       "      <td>31-01-2020</td>\n",
       "      <td>Monthly</td>\n",
       "      <td>4.84</td>\n",
       "      <td>12016676.0</td>\n",
       "      <td>43.46</td>\n",
       "      <td>Rural</td>\n",
       "    </tr>\n",
       "    <tr>\n",
       "      <th>9</th>\n",
       "      <td>Andhra Pradesh</td>\n",
       "      <td>29-02-2020</td>\n",
       "      <td>Monthly</td>\n",
       "      <td>5.91</td>\n",
       "      <td>11723617.0</td>\n",
       "      <td>42.83</td>\n",
       "      <td>Rural</td>\n",
       "    </tr>\n",
       "  </tbody>\n",
       "</table>\n",
       "</div>"
      ],
      "text/plain": [
       "           Region         Date  Frequency   Estimated Unemployment Rate (%)  \\\n",
       "0  Andhra Pradesh   31-05-2019    Monthly                              3.65   \n",
       "1  Andhra Pradesh   30-06-2019    Monthly                              3.05   \n",
       "2  Andhra Pradesh   31-07-2019    Monthly                              3.75   \n",
       "3  Andhra Pradesh   31-08-2019    Monthly                              3.32   \n",
       "4  Andhra Pradesh   30-09-2019    Monthly                              5.17   \n",
       "5  Andhra Pradesh   31-10-2019    Monthly                              3.52   \n",
       "6  Andhra Pradesh   30-11-2019    Monthly                              4.12   \n",
       "7  Andhra Pradesh   31-12-2019    Monthly                              4.38   \n",
       "8  Andhra Pradesh   31-01-2020    Monthly                              4.84   \n",
       "9  Andhra Pradesh   29-02-2020    Monthly                              5.91   \n",
       "\n",
       "    Estimated Employed   Estimated Labour Participation Rate (%)   Area  \n",
       "0           11999139.0                                     43.24  Rural  \n",
       "1           11755881.0                                     42.05  Rural  \n",
       "2           12086707.0                                     43.50  Rural  \n",
       "3           12285693.0                                     43.97  Rural  \n",
       "4           12256762.0                                     44.68  Rural  \n",
       "5           12017412.0                                     43.01  Rural  \n",
       "6           11397681.0                                     41.00  Rural  \n",
       "7           12528395.0                                     45.14  Rural  \n",
       "8           12016676.0                                     43.46  Rural  \n",
       "9           11723617.0                                     42.83  Rural  "
      ]
     },
     "execution_count": 2,
     "metadata": {},
     "output_type": "execute_result"
    }
   ],
   "source": [
    "data = pd.read_csv(r\"D:\\NIVASH\\My_Projects\\Cogno_rise\\Task 1\\Unemployment in India.csv\")\n",
    "data.head(10)"
   ]
  },
  {
   "cell_type": "code",
   "execution_count": 3,
   "id": "2aefef1b",
   "metadata": {},
   "outputs": [
    {
     "data": {
      "text/plain": [
       "(768, 7)"
      ]
     },
     "execution_count": 3,
     "metadata": {},
     "output_type": "execute_result"
    }
   ],
   "source": [
    "data.shape"
   ]
  },
  {
   "cell_type": "code",
   "execution_count": 4,
   "id": "1950bddb",
   "metadata": {},
   "outputs": [
    {
     "name": "stdout",
     "output_type": "stream",
     "text": [
      "<class 'pandas.core.frame.DataFrame'>\n",
      "RangeIndex: 768 entries, 0 to 767\n",
      "Data columns (total 7 columns):\n",
      " #   Column                                    Non-Null Count  Dtype  \n",
      "---  ------                                    --------------  -----  \n",
      " 0   Region                                    740 non-null    object \n",
      " 1    Date                                     740 non-null    object \n",
      " 2    Frequency                                740 non-null    object \n",
      " 3    Estimated Unemployment Rate (%)          740 non-null    float64\n",
      " 4    Estimated Employed                       740 non-null    float64\n",
      " 5    Estimated Labour Participation Rate (%)  740 non-null    float64\n",
      " 6   Area                                      740 non-null    object \n",
      "dtypes: float64(3), object(4)\n",
      "memory usage: 42.1+ KB\n"
     ]
    }
   ],
   "source": [
    "data.info()"
   ]
  },
  {
   "cell_type": "code",
   "execution_count": 5,
   "id": "4d58dfe5",
   "metadata": {},
   "outputs": [
    {
     "data": {
      "text/html": [
       "<div>\n",
       "<style scoped>\n",
       "    .dataframe tbody tr th:only-of-type {\n",
       "        vertical-align: middle;\n",
       "    }\n",
       "\n",
       "    .dataframe tbody tr th {\n",
       "        vertical-align: top;\n",
       "    }\n",
       "\n",
       "    .dataframe thead th {\n",
       "        text-align: right;\n",
       "    }\n",
       "</style>\n",
       "<table border=\"1\" class=\"dataframe\">\n",
       "  <thead>\n",
       "    <tr style=\"text-align: right;\">\n",
       "      <th></th>\n",
       "      <th>Estimated Unemployment Rate (%)</th>\n",
       "      <th>Estimated Employed</th>\n",
       "      <th>Estimated Labour Participation Rate (%)</th>\n",
       "    </tr>\n",
       "  </thead>\n",
       "  <tbody>\n",
       "    <tr>\n",
       "      <th>count</th>\n",
       "      <td>740.000000</td>\n",
       "      <td>7.400000e+02</td>\n",
       "      <td>740.000000</td>\n",
       "    </tr>\n",
       "    <tr>\n",
       "      <th>mean</th>\n",
       "      <td>11.787946</td>\n",
       "      <td>7.204460e+06</td>\n",
       "      <td>42.630122</td>\n",
       "    </tr>\n",
       "    <tr>\n",
       "      <th>std</th>\n",
       "      <td>10.721298</td>\n",
       "      <td>8.087988e+06</td>\n",
       "      <td>8.111094</td>\n",
       "    </tr>\n",
       "    <tr>\n",
       "      <th>min</th>\n",
       "      <td>0.000000</td>\n",
       "      <td>4.942000e+04</td>\n",
       "      <td>13.330000</td>\n",
       "    </tr>\n",
       "    <tr>\n",
       "      <th>25%</th>\n",
       "      <td>4.657500</td>\n",
       "      <td>1.190404e+06</td>\n",
       "      <td>38.062500</td>\n",
       "    </tr>\n",
       "    <tr>\n",
       "      <th>50%</th>\n",
       "      <td>8.350000</td>\n",
       "      <td>4.744178e+06</td>\n",
       "      <td>41.160000</td>\n",
       "    </tr>\n",
       "    <tr>\n",
       "      <th>75%</th>\n",
       "      <td>15.887500</td>\n",
       "      <td>1.127549e+07</td>\n",
       "      <td>45.505000</td>\n",
       "    </tr>\n",
       "    <tr>\n",
       "      <th>max</th>\n",
       "      <td>76.740000</td>\n",
       "      <td>4.577751e+07</td>\n",
       "      <td>72.570000</td>\n",
       "    </tr>\n",
       "  </tbody>\n",
       "</table>\n",
       "</div>"
      ],
      "text/plain": [
       "        Estimated Unemployment Rate (%)   Estimated Employed  \\\n",
       "count                        740.000000         7.400000e+02   \n",
       "mean                          11.787946         7.204460e+06   \n",
       "std                           10.721298         8.087988e+06   \n",
       "min                            0.000000         4.942000e+04   \n",
       "25%                            4.657500         1.190404e+06   \n",
       "50%                            8.350000         4.744178e+06   \n",
       "75%                           15.887500         1.127549e+07   \n",
       "max                           76.740000         4.577751e+07   \n",
       "\n",
       "        Estimated Labour Participation Rate (%)  \n",
       "count                                740.000000  \n",
       "mean                                  42.630122  \n",
       "std                                    8.111094  \n",
       "min                                   13.330000  \n",
       "25%                                   38.062500  \n",
       "50%                                   41.160000  \n",
       "75%                                   45.505000  \n",
       "max                                   72.570000  "
      ]
     },
     "execution_count": 5,
     "metadata": {},
     "output_type": "execute_result"
    }
   ],
   "source": [
    "data.describe()"
   ]
  },
  {
   "cell_type": "code",
   "execution_count": 6,
   "id": "1c7abd82",
   "metadata": {},
   "outputs": [
    {
     "data": {
      "text/html": [
       "<div>\n",
       "<style scoped>\n",
       "    .dataframe tbody tr th:only-of-type {\n",
       "        vertical-align: middle;\n",
       "    }\n",
       "\n",
       "    .dataframe tbody tr th {\n",
       "        vertical-align: top;\n",
       "    }\n",
       "\n",
       "    .dataframe thead th {\n",
       "        text-align: right;\n",
       "    }\n",
       "</style>\n",
       "<table border=\"1\" class=\"dataframe\">\n",
       "  <thead>\n",
       "    <tr style=\"text-align: right;\">\n",
       "      <th></th>\n",
       "      <th>Region</th>\n",
       "      <th>Date</th>\n",
       "      <th>Frequency</th>\n",
       "      <th>Estimated Unemployment Rate (%)</th>\n",
       "      <th>Estimated Employed</th>\n",
       "      <th>Estimated Labour Participation Rate (%)</th>\n",
       "      <th>Area</th>\n",
       "    </tr>\n",
       "  </thead>\n",
       "  <tbody>\n",
       "    <tr>\n",
       "      <th>748</th>\n",
       "      <td>West Bengal</td>\n",
       "      <td>31-01-2020</td>\n",
       "      <td>Monthly</td>\n",
       "      <td>7.27</td>\n",
       "      <td>11208617.0</td>\n",
       "      <td>45.39</td>\n",
       "      <td>Urban</td>\n",
       "    </tr>\n",
       "    <tr>\n",
       "      <th>749</th>\n",
       "      <td>West Bengal</td>\n",
       "      <td>29-02-2020</td>\n",
       "      <td>Monthly</td>\n",
       "      <td>7.55</td>\n",
       "      <td>10871168.0</td>\n",
       "      <td>44.09</td>\n",
       "      <td>Urban</td>\n",
       "    </tr>\n",
       "    <tr>\n",
       "      <th>750</th>\n",
       "      <td>West Bengal</td>\n",
       "      <td>31-03-2020</td>\n",
       "      <td>Monthly</td>\n",
       "      <td>6.67</td>\n",
       "      <td>10806105.0</td>\n",
       "      <td>43.34</td>\n",
       "      <td>Urban</td>\n",
       "    </tr>\n",
       "    <tr>\n",
       "      <th>751</th>\n",
       "      <td>West Bengal</td>\n",
       "      <td>30-04-2020</td>\n",
       "      <td>Monthly</td>\n",
       "      <td>15.63</td>\n",
       "      <td>9299466.0</td>\n",
       "      <td>41.20</td>\n",
       "      <td>Urban</td>\n",
       "    </tr>\n",
       "    <tr>\n",
       "      <th>752</th>\n",
       "      <td>West Bengal</td>\n",
       "      <td>31-05-2020</td>\n",
       "      <td>Monthly</td>\n",
       "      <td>15.22</td>\n",
       "      <td>9240903.0</td>\n",
       "      <td>40.67</td>\n",
       "      <td>Urban</td>\n",
       "    </tr>\n",
       "    <tr>\n",
       "      <th>753</th>\n",
       "      <td>West Bengal</td>\n",
       "      <td>30-06-2020</td>\n",
       "      <td>Monthly</td>\n",
       "      <td>9.86</td>\n",
       "      <td>9088931.0</td>\n",
       "      <td>37.57</td>\n",
       "      <td>Urban</td>\n",
       "    </tr>\n",
       "    <tr>\n",
       "      <th>754</th>\n",
       "      <td>NaN</td>\n",
       "      <td>NaN</td>\n",
       "      <td>NaN</td>\n",
       "      <td>NaN</td>\n",
       "      <td>NaN</td>\n",
       "      <td>NaN</td>\n",
       "      <td>NaN</td>\n",
       "    </tr>\n",
       "    <tr>\n",
       "      <th>755</th>\n",
       "      <td>NaN</td>\n",
       "      <td>NaN</td>\n",
       "      <td>NaN</td>\n",
       "      <td>NaN</td>\n",
       "      <td>NaN</td>\n",
       "      <td>NaN</td>\n",
       "      <td>NaN</td>\n",
       "    </tr>\n",
       "    <tr>\n",
       "      <th>756</th>\n",
       "      <td>NaN</td>\n",
       "      <td>NaN</td>\n",
       "      <td>NaN</td>\n",
       "      <td>NaN</td>\n",
       "      <td>NaN</td>\n",
       "      <td>NaN</td>\n",
       "      <td>NaN</td>\n",
       "    </tr>\n",
       "    <tr>\n",
       "      <th>757</th>\n",
       "      <td>NaN</td>\n",
       "      <td>NaN</td>\n",
       "      <td>NaN</td>\n",
       "      <td>NaN</td>\n",
       "      <td>NaN</td>\n",
       "      <td>NaN</td>\n",
       "      <td>NaN</td>\n",
       "    </tr>\n",
       "    <tr>\n",
       "      <th>758</th>\n",
       "      <td>NaN</td>\n",
       "      <td>NaN</td>\n",
       "      <td>NaN</td>\n",
       "      <td>NaN</td>\n",
       "      <td>NaN</td>\n",
       "      <td>NaN</td>\n",
       "      <td>NaN</td>\n",
       "    </tr>\n",
       "    <tr>\n",
       "      <th>759</th>\n",
       "      <td>NaN</td>\n",
       "      <td>NaN</td>\n",
       "      <td>NaN</td>\n",
       "      <td>NaN</td>\n",
       "      <td>NaN</td>\n",
       "      <td>NaN</td>\n",
       "      <td>NaN</td>\n",
       "    </tr>\n",
       "    <tr>\n",
       "      <th>760</th>\n",
       "      <td>NaN</td>\n",
       "      <td>NaN</td>\n",
       "      <td>NaN</td>\n",
       "      <td>NaN</td>\n",
       "      <td>NaN</td>\n",
       "      <td>NaN</td>\n",
       "      <td>NaN</td>\n",
       "    </tr>\n",
       "    <tr>\n",
       "      <th>761</th>\n",
       "      <td>NaN</td>\n",
       "      <td>NaN</td>\n",
       "      <td>NaN</td>\n",
       "      <td>NaN</td>\n",
       "      <td>NaN</td>\n",
       "      <td>NaN</td>\n",
       "      <td>NaN</td>\n",
       "    </tr>\n",
       "    <tr>\n",
       "      <th>762</th>\n",
       "      <td>NaN</td>\n",
       "      <td>NaN</td>\n",
       "      <td>NaN</td>\n",
       "      <td>NaN</td>\n",
       "      <td>NaN</td>\n",
       "      <td>NaN</td>\n",
       "      <td>NaN</td>\n",
       "    </tr>\n",
       "    <tr>\n",
       "      <th>763</th>\n",
       "      <td>NaN</td>\n",
       "      <td>NaN</td>\n",
       "      <td>NaN</td>\n",
       "      <td>NaN</td>\n",
       "      <td>NaN</td>\n",
       "      <td>NaN</td>\n",
       "      <td>NaN</td>\n",
       "    </tr>\n",
       "    <tr>\n",
       "      <th>764</th>\n",
       "      <td>NaN</td>\n",
       "      <td>NaN</td>\n",
       "      <td>NaN</td>\n",
       "      <td>NaN</td>\n",
       "      <td>NaN</td>\n",
       "      <td>NaN</td>\n",
       "      <td>NaN</td>\n",
       "    </tr>\n",
       "    <tr>\n",
       "      <th>765</th>\n",
       "      <td>NaN</td>\n",
       "      <td>NaN</td>\n",
       "      <td>NaN</td>\n",
       "      <td>NaN</td>\n",
       "      <td>NaN</td>\n",
       "      <td>NaN</td>\n",
       "      <td>NaN</td>\n",
       "    </tr>\n",
       "    <tr>\n",
       "      <th>766</th>\n",
       "      <td>NaN</td>\n",
       "      <td>NaN</td>\n",
       "      <td>NaN</td>\n",
       "      <td>NaN</td>\n",
       "      <td>NaN</td>\n",
       "      <td>NaN</td>\n",
       "      <td>NaN</td>\n",
       "    </tr>\n",
       "    <tr>\n",
       "      <th>767</th>\n",
       "      <td>NaN</td>\n",
       "      <td>NaN</td>\n",
       "      <td>NaN</td>\n",
       "      <td>NaN</td>\n",
       "      <td>NaN</td>\n",
       "      <td>NaN</td>\n",
       "      <td>NaN</td>\n",
       "    </tr>\n",
       "  </tbody>\n",
       "</table>\n",
       "</div>"
      ],
      "text/plain": [
       "          Region         Date  Frequency   Estimated Unemployment Rate (%)  \\\n",
       "748  West Bengal   31-01-2020    Monthly                              7.27   \n",
       "749  West Bengal   29-02-2020    Monthly                              7.55   \n",
       "750  West Bengal   31-03-2020    Monthly                              6.67   \n",
       "751  West Bengal   30-04-2020    Monthly                             15.63   \n",
       "752  West Bengal   31-05-2020    Monthly                             15.22   \n",
       "753  West Bengal   30-06-2020    Monthly                              9.86   \n",
       "754          NaN          NaN        NaN                               NaN   \n",
       "755          NaN          NaN        NaN                               NaN   \n",
       "756          NaN          NaN        NaN                               NaN   \n",
       "757          NaN          NaN        NaN                               NaN   \n",
       "758          NaN          NaN        NaN                               NaN   \n",
       "759          NaN          NaN        NaN                               NaN   \n",
       "760          NaN          NaN        NaN                               NaN   \n",
       "761          NaN          NaN        NaN                               NaN   \n",
       "762          NaN          NaN        NaN                               NaN   \n",
       "763          NaN          NaN        NaN                               NaN   \n",
       "764          NaN          NaN        NaN                               NaN   \n",
       "765          NaN          NaN        NaN                               NaN   \n",
       "766          NaN          NaN        NaN                               NaN   \n",
       "767          NaN          NaN        NaN                               NaN   \n",
       "\n",
       "      Estimated Employed   Estimated Labour Participation Rate (%)   Area  \n",
       "748           11208617.0                                     45.39  Urban  \n",
       "749           10871168.0                                     44.09  Urban  \n",
       "750           10806105.0                                     43.34  Urban  \n",
       "751            9299466.0                                     41.20  Urban  \n",
       "752            9240903.0                                     40.67  Urban  \n",
       "753            9088931.0                                     37.57  Urban  \n",
       "754                  NaN                                       NaN    NaN  \n",
       "755                  NaN                                       NaN    NaN  \n",
       "756                  NaN                                       NaN    NaN  \n",
       "757                  NaN                                       NaN    NaN  \n",
       "758                  NaN                                       NaN    NaN  \n",
       "759                  NaN                                       NaN    NaN  \n",
       "760                  NaN                                       NaN    NaN  \n",
       "761                  NaN                                       NaN    NaN  \n",
       "762                  NaN                                       NaN    NaN  \n",
       "763                  NaN                                       NaN    NaN  \n",
       "764                  NaN                                       NaN    NaN  \n",
       "765                  NaN                                       NaN    NaN  \n",
       "766                  NaN                                       NaN    NaN  \n",
       "767                  NaN                                       NaN    NaN  "
      ]
     },
     "execution_count": 6,
     "metadata": {},
     "output_type": "execute_result"
    }
   ],
   "source": [
    "data.tail(20)"
   ]
  },
  {
   "cell_type": "code",
   "execution_count": 7,
   "id": "5fde7459",
   "metadata": {},
   "outputs": [
    {
     "data": {
      "text/plain": [
       "Region                                      28\n",
       " Date                                       28\n",
       " Frequency                                  28\n",
       " Estimated Unemployment Rate (%)            28\n",
       " Estimated Employed                         28\n",
       " Estimated Labour Participation Rate (%)    28\n",
       "Area                                        28\n",
       "dtype: int64"
      ]
     },
     "execution_count": 7,
     "metadata": {},
     "output_type": "execute_result"
    }
   ],
   "source": [
    "#Checking for empty values\n",
    "data.isna().sum()\n"
   ]
  },
  {
   "cell_type": "code",
   "execution_count": 8,
   "id": "e6303629",
   "metadata": {},
   "outputs": [],
   "source": [
    "#Drop all empty values\n",
    "data.dropna(inplace = True)"
   ]
  },
  {
   "cell_type": "code",
   "execution_count": 9,
   "id": "66516a32",
   "metadata": {},
   "outputs": [
    {
     "data": {
      "text/plain": [
       "(740, 7)"
      ]
     },
     "execution_count": 9,
     "metadata": {},
     "output_type": "execute_result"
    }
   ],
   "source": [
    "data.shape\n"
   ]
  },
  {
   "cell_type": "code",
   "execution_count": 10,
   "id": "7b344624",
   "metadata": {},
   "outputs": [
    {
     "data": {
      "text/plain": [
       "5180"
      ]
     },
     "execution_count": 10,
     "metadata": {},
     "output_type": "execute_result"
    }
   ],
   "source": [
    "data.size"
   ]
  },
  {
   "cell_type": "code",
   "execution_count": 11,
   "id": "2e1aea2b",
   "metadata": {},
   "outputs": [
    {
     "data": {
      "text/html": [
       "<div>\n",
       "<style scoped>\n",
       "    .dataframe tbody tr th:only-of-type {\n",
       "        vertical-align: middle;\n",
       "    }\n",
       "\n",
       "    .dataframe tbody tr th {\n",
       "        vertical-align: top;\n",
       "    }\n",
       "\n",
       "    .dataframe thead th {\n",
       "        text-align: right;\n",
       "    }\n",
       "</style>\n",
       "<table border=\"1\" class=\"dataframe\">\n",
       "  <thead>\n",
       "    <tr style=\"text-align: right;\">\n",
       "      <th></th>\n",
       "      <th>Region</th>\n",
       "      <th>Date</th>\n",
       "      <th>Frequency</th>\n",
       "      <th>Estimated Unemployment Rate (%)</th>\n",
       "      <th>Estimated Employed</th>\n",
       "      <th>Estimated Labour Participation Rate (%)</th>\n",
       "      <th>Area</th>\n",
       "    </tr>\n",
       "  </thead>\n",
       "  <tbody>\n",
       "    <tr>\n",
       "      <th>count</th>\n",
       "      <td>740</td>\n",
       "      <td>740</td>\n",
       "      <td>740</td>\n",
       "      <td>740.000000</td>\n",
       "      <td>7.400000e+02</td>\n",
       "      <td>740.000000</td>\n",
       "      <td>740</td>\n",
       "    </tr>\n",
       "    <tr>\n",
       "      <th>unique</th>\n",
       "      <td>28</td>\n",
       "      <td>14</td>\n",
       "      <td>2</td>\n",
       "      <td>NaN</td>\n",
       "      <td>NaN</td>\n",
       "      <td>NaN</td>\n",
       "      <td>2</td>\n",
       "    </tr>\n",
       "    <tr>\n",
       "      <th>top</th>\n",
       "      <td>Andhra Pradesh</td>\n",
       "      <td>31-10-2019</td>\n",
       "      <td>Monthly</td>\n",
       "      <td>NaN</td>\n",
       "      <td>NaN</td>\n",
       "      <td>NaN</td>\n",
       "      <td>Urban</td>\n",
       "    </tr>\n",
       "    <tr>\n",
       "      <th>freq</th>\n",
       "      <td>28</td>\n",
       "      <td>55</td>\n",
       "      <td>381</td>\n",
       "      <td>NaN</td>\n",
       "      <td>NaN</td>\n",
       "      <td>NaN</td>\n",
       "      <td>381</td>\n",
       "    </tr>\n",
       "    <tr>\n",
       "      <th>mean</th>\n",
       "      <td>NaN</td>\n",
       "      <td>NaN</td>\n",
       "      <td>NaN</td>\n",
       "      <td>11.787946</td>\n",
       "      <td>7.204460e+06</td>\n",
       "      <td>42.630122</td>\n",
       "      <td>NaN</td>\n",
       "    </tr>\n",
       "    <tr>\n",
       "      <th>std</th>\n",
       "      <td>NaN</td>\n",
       "      <td>NaN</td>\n",
       "      <td>NaN</td>\n",
       "      <td>10.721298</td>\n",
       "      <td>8.087988e+06</td>\n",
       "      <td>8.111094</td>\n",
       "      <td>NaN</td>\n",
       "    </tr>\n",
       "    <tr>\n",
       "      <th>min</th>\n",
       "      <td>NaN</td>\n",
       "      <td>NaN</td>\n",
       "      <td>NaN</td>\n",
       "      <td>0.000000</td>\n",
       "      <td>4.942000e+04</td>\n",
       "      <td>13.330000</td>\n",
       "      <td>NaN</td>\n",
       "    </tr>\n",
       "    <tr>\n",
       "      <th>25%</th>\n",
       "      <td>NaN</td>\n",
       "      <td>NaN</td>\n",
       "      <td>NaN</td>\n",
       "      <td>4.657500</td>\n",
       "      <td>1.190404e+06</td>\n",
       "      <td>38.062500</td>\n",
       "      <td>NaN</td>\n",
       "    </tr>\n",
       "    <tr>\n",
       "      <th>50%</th>\n",
       "      <td>NaN</td>\n",
       "      <td>NaN</td>\n",
       "      <td>NaN</td>\n",
       "      <td>8.350000</td>\n",
       "      <td>4.744178e+06</td>\n",
       "      <td>41.160000</td>\n",
       "      <td>NaN</td>\n",
       "    </tr>\n",
       "    <tr>\n",
       "      <th>75%</th>\n",
       "      <td>NaN</td>\n",
       "      <td>NaN</td>\n",
       "      <td>NaN</td>\n",
       "      <td>15.887500</td>\n",
       "      <td>1.127549e+07</td>\n",
       "      <td>45.505000</td>\n",
       "      <td>NaN</td>\n",
       "    </tr>\n",
       "    <tr>\n",
       "      <th>max</th>\n",
       "      <td>NaN</td>\n",
       "      <td>NaN</td>\n",
       "      <td>NaN</td>\n",
       "      <td>76.740000</td>\n",
       "      <td>4.577751e+07</td>\n",
       "      <td>72.570000</td>\n",
       "      <td>NaN</td>\n",
       "    </tr>\n",
       "  </tbody>\n",
       "</table>\n",
       "</div>"
      ],
      "text/plain": [
       "                Region         Date  Frequency  \\\n",
       "count              740          740        740   \n",
       "unique              28           14          2   \n",
       "top     Andhra Pradesh   31-10-2019    Monthly   \n",
       "freq                28           55        381   \n",
       "mean               NaN          NaN        NaN   \n",
       "std                NaN          NaN        NaN   \n",
       "min                NaN          NaN        NaN   \n",
       "25%                NaN          NaN        NaN   \n",
       "50%                NaN          NaN        NaN   \n",
       "75%                NaN          NaN        NaN   \n",
       "max                NaN          NaN        NaN   \n",
       "\n",
       "         Estimated Unemployment Rate (%)   Estimated Employed  \\\n",
       "count                         740.000000         7.400000e+02   \n",
       "unique                               NaN                  NaN   \n",
       "top                                  NaN                  NaN   \n",
       "freq                                 NaN                  NaN   \n",
       "mean                           11.787946         7.204460e+06   \n",
       "std                            10.721298         8.087988e+06   \n",
       "min                             0.000000         4.942000e+04   \n",
       "25%                             4.657500         1.190404e+06   \n",
       "50%                             8.350000         4.744178e+06   \n",
       "75%                            15.887500         1.127549e+07   \n",
       "max                            76.740000         4.577751e+07   \n",
       "\n",
       "         Estimated Labour Participation Rate (%)   Area  \n",
       "count                                 740.000000    740  \n",
       "unique                                       NaN      2  \n",
       "top                                          NaN  Urban  \n",
       "freq                                         NaN    381  \n",
       "mean                                   42.630122    NaN  \n",
       "std                                     8.111094    NaN  \n",
       "min                                    13.330000    NaN  \n",
       "25%                                    38.062500    NaN  \n",
       "50%                                    41.160000    NaN  \n",
       "75%                                    45.505000    NaN  \n",
       "max                                    72.570000    NaN  "
      ]
     },
     "execution_count": 11,
     "metadata": {},
     "output_type": "execute_result"
    }
   ],
   "source": [
    "data.describe(include = 'all')"
   ]
  },
  {
   "cell_type": "code",
   "execution_count": 12,
   "id": "b46e9529",
   "metadata": {},
   "outputs": [
    {
     "data": {
      "text/plain": [
       "Index(['Region', ' Date', ' Frequency', ' Estimated Unemployment Rate (%)',\n",
       "       ' Estimated Employed', ' Estimated Labour Participation Rate (%)',\n",
       "       'Area'],\n",
       "      dtype='object')"
      ]
     },
     "execution_count": 12,
     "metadata": {},
     "output_type": "execute_result"
    }
   ],
   "source": [
    "data.columns"
   ]
  },
  {
   "cell_type": "code",
   "execution_count": 13,
   "id": "88d1c2e4",
   "metadata": {},
   "outputs": [],
   "source": [
    "#Removing unwantaed whitespaces in column labels\n",
    "data.columns = data.columns.str.strip()"
   ]
  },
  {
   "cell_type": "code",
   "execution_count": 14,
   "id": "d2ca6041",
   "metadata": {},
   "outputs": [],
   "source": [
    "data.columns = data.columns.str.replace(' ', '_')"
   ]
  },
  {
   "cell_type": "code",
   "execution_count": 15,
   "id": "d7fa2ba7",
   "metadata": {},
   "outputs": [
    {
     "name": "stderr",
     "output_type": "stream",
     "text": [
      "C:\\Users\\user\\AppData\\Local\\Temp\\ipykernel_7264\\3822779281.py:1: UserWarning: Parsing dates in  %d-%m-%Y format when dayfirst=False (the default) was specified. Pass `dayfirst=True` or specify a format to silence this warning.\n",
      "  data.Date = pd.to_datetime(data.Date)\n"
     ]
    }
   ],
   "source": [
    "data.Date = pd.to_datetime(data.Date)"
   ]
  },
  {
   "cell_type": "code",
   "execution_count": 16,
   "id": "89173282",
   "metadata": {},
   "outputs": [
    {
     "data": {
      "text/plain": [
       "0     2019-05-31\n",
       "1     2019-06-30\n",
       "2     2019-07-31\n",
       "3     2019-08-31\n",
       "4     2019-09-30\n",
       "         ...    \n",
       "749   2020-02-29\n",
       "750   2020-03-31\n",
       "751   2020-04-30\n",
       "752   2020-05-31\n",
       "753   2020-06-30\n",
       "Name: Date, Length: 740, dtype: datetime64[ns]"
      ]
     },
     "execution_count": 16,
     "metadata": {},
     "output_type": "execute_result"
    }
   ],
   "source": [
    "data.Date"
   ]
  },
  {
   "cell_type": "code",
   "execution_count": 17,
   "id": "1a0c9b11",
   "metadata": {},
   "outputs": [
    {
     "data": {
      "text/plain": [
       "Region\n",
       "Andhra Pradesh      28\n",
       "Kerala              28\n",
       "West Bengal         28\n",
       "Uttar Pradesh       28\n",
       "Tripura             28\n",
       "Telangana           28\n",
       "Tamil Nadu          28\n",
       "Rajasthan           28\n",
       "Punjab              28\n",
       "Odisha              28\n",
       "Madhya Pradesh      28\n",
       "Maharashtra         28\n",
       "Karnataka           28\n",
       "Jharkhand           28\n",
       "Himachal Pradesh    28\n",
       "Haryana             28\n",
       "Gujarat             28\n",
       "Delhi               28\n",
       "Chhattisgarh        28\n",
       "Bihar               28\n",
       "Meghalaya           27\n",
       "Uttarakhand         27\n",
       "Assam               26\n",
       "Puducherry          26\n",
       "Goa                 24\n",
       "Jammu & Kashmir     21\n",
       "Sikkim              17\n",
       "Chandigarh          12\n",
       "Name: count, dtype: int64"
      ]
     },
     "execution_count": 17,
     "metadata": {},
     "output_type": "execute_result"
    }
   ],
   "source": [
    "#Count the unique value in the Region column\n",
    "data.Region.value_counts()"
   ]
  },
  {
   "cell_type": "code",
   "execution_count": 18,
   "id": "911f06df",
   "metadata": {},
   "outputs": [],
   "source": [
    "data['Year'] = data.Date.dt.year"
   ]
  },
  {
   "cell_type": "code",
   "execution_count": 19,
   "id": "3fc76d8a",
   "metadata": {},
   "outputs": [],
   "source": [
    "data['Month_name'] = data.Date.dt.month_name()"
   ]
  },
  {
   "cell_type": "code",
   "execution_count": 20,
   "id": "9faf7395",
   "metadata": {},
   "outputs": [
    {
     "data": {
      "text/html": [
       "<div>\n",
       "<style scoped>\n",
       "    .dataframe tbody tr th:only-of-type {\n",
       "        vertical-align: middle;\n",
       "    }\n",
       "\n",
       "    .dataframe tbody tr th {\n",
       "        vertical-align: top;\n",
       "    }\n",
       "\n",
       "    .dataframe thead th {\n",
       "        text-align: right;\n",
       "    }\n",
       "</style>\n",
       "<table border=\"1\" class=\"dataframe\">\n",
       "  <thead>\n",
       "    <tr style=\"text-align: right;\">\n",
       "      <th></th>\n",
       "      <th>Region</th>\n",
       "      <th>Date</th>\n",
       "      <th>Frequency</th>\n",
       "      <th>Estimated_Unemployment_Rate_(%)</th>\n",
       "      <th>Estimated_Employed</th>\n",
       "      <th>Estimated_Labour_Participation_Rate_(%)</th>\n",
       "      <th>Area</th>\n",
       "      <th>Year</th>\n",
       "      <th>Month_name</th>\n",
       "    </tr>\n",
       "  </thead>\n",
       "  <tbody>\n",
       "    <tr>\n",
       "      <th>0</th>\n",
       "      <td>Andhra Pradesh</td>\n",
       "      <td>2019-05-31</td>\n",
       "      <td>Monthly</td>\n",
       "      <td>3.65</td>\n",
       "      <td>11999139.0</td>\n",
       "      <td>43.24</td>\n",
       "      <td>Rural</td>\n",
       "      <td>2019</td>\n",
       "      <td>May</td>\n",
       "    </tr>\n",
       "    <tr>\n",
       "      <th>1</th>\n",
       "      <td>Andhra Pradesh</td>\n",
       "      <td>2019-06-30</td>\n",
       "      <td>Monthly</td>\n",
       "      <td>3.05</td>\n",
       "      <td>11755881.0</td>\n",
       "      <td>42.05</td>\n",
       "      <td>Rural</td>\n",
       "      <td>2019</td>\n",
       "      <td>June</td>\n",
       "    </tr>\n",
       "    <tr>\n",
       "      <th>2</th>\n",
       "      <td>Andhra Pradesh</td>\n",
       "      <td>2019-07-31</td>\n",
       "      <td>Monthly</td>\n",
       "      <td>3.75</td>\n",
       "      <td>12086707.0</td>\n",
       "      <td>43.50</td>\n",
       "      <td>Rural</td>\n",
       "      <td>2019</td>\n",
       "      <td>July</td>\n",
       "    </tr>\n",
       "    <tr>\n",
       "      <th>3</th>\n",
       "      <td>Andhra Pradesh</td>\n",
       "      <td>2019-08-31</td>\n",
       "      <td>Monthly</td>\n",
       "      <td>3.32</td>\n",
       "      <td>12285693.0</td>\n",
       "      <td>43.97</td>\n",
       "      <td>Rural</td>\n",
       "      <td>2019</td>\n",
       "      <td>August</td>\n",
       "    </tr>\n",
       "    <tr>\n",
       "      <th>4</th>\n",
       "      <td>Andhra Pradesh</td>\n",
       "      <td>2019-09-30</td>\n",
       "      <td>Monthly</td>\n",
       "      <td>5.17</td>\n",
       "      <td>12256762.0</td>\n",
       "      <td>44.68</td>\n",
       "      <td>Rural</td>\n",
       "      <td>2019</td>\n",
       "      <td>September</td>\n",
       "    </tr>\n",
       "    <tr>\n",
       "      <th>...</th>\n",
       "      <td>...</td>\n",
       "      <td>...</td>\n",
       "      <td>...</td>\n",
       "      <td>...</td>\n",
       "      <td>...</td>\n",
       "      <td>...</td>\n",
       "      <td>...</td>\n",
       "      <td>...</td>\n",
       "      <td>...</td>\n",
       "    </tr>\n",
       "    <tr>\n",
       "      <th>749</th>\n",
       "      <td>West Bengal</td>\n",
       "      <td>2020-02-29</td>\n",
       "      <td>Monthly</td>\n",
       "      <td>7.55</td>\n",
       "      <td>10871168.0</td>\n",
       "      <td>44.09</td>\n",
       "      <td>Urban</td>\n",
       "      <td>2020</td>\n",
       "      <td>February</td>\n",
       "    </tr>\n",
       "    <tr>\n",
       "      <th>750</th>\n",
       "      <td>West Bengal</td>\n",
       "      <td>2020-03-31</td>\n",
       "      <td>Monthly</td>\n",
       "      <td>6.67</td>\n",
       "      <td>10806105.0</td>\n",
       "      <td>43.34</td>\n",
       "      <td>Urban</td>\n",
       "      <td>2020</td>\n",
       "      <td>March</td>\n",
       "    </tr>\n",
       "    <tr>\n",
       "      <th>751</th>\n",
       "      <td>West Bengal</td>\n",
       "      <td>2020-04-30</td>\n",
       "      <td>Monthly</td>\n",
       "      <td>15.63</td>\n",
       "      <td>9299466.0</td>\n",
       "      <td>41.20</td>\n",
       "      <td>Urban</td>\n",
       "      <td>2020</td>\n",
       "      <td>April</td>\n",
       "    </tr>\n",
       "    <tr>\n",
       "      <th>752</th>\n",
       "      <td>West Bengal</td>\n",
       "      <td>2020-05-31</td>\n",
       "      <td>Monthly</td>\n",
       "      <td>15.22</td>\n",
       "      <td>9240903.0</td>\n",
       "      <td>40.67</td>\n",
       "      <td>Urban</td>\n",
       "      <td>2020</td>\n",
       "      <td>May</td>\n",
       "    </tr>\n",
       "    <tr>\n",
       "      <th>753</th>\n",
       "      <td>West Bengal</td>\n",
       "      <td>2020-06-30</td>\n",
       "      <td>Monthly</td>\n",
       "      <td>9.86</td>\n",
       "      <td>9088931.0</td>\n",
       "      <td>37.57</td>\n",
       "      <td>Urban</td>\n",
       "      <td>2020</td>\n",
       "      <td>June</td>\n",
       "    </tr>\n",
       "  </tbody>\n",
       "</table>\n",
       "<p>740 rows × 9 columns</p>\n",
       "</div>"
      ],
      "text/plain": [
       "             Region       Date Frequency  Estimated_Unemployment_Rate_(%)  \\\n",
       "0    Andhra Pradesh 2019-05-31   Monthly                             3.65   \n",
       "1    Andhra Pradesh 2019-06-30   Monthly                             3.05   \n",
       "2    Andhra Pradesh 2019-07-31   Monthly                             3.75   \n",
       "3    Andhra Pradesh 2019-08-31   Monthly                             3.32   \n",
       "4    Andhra Pradesh 2019-09-30   Monthly                             5.17   \n",
       "..              ...        ...       ...                              ...   \n",
       "749     West Bengal 2020-02-29   Monthly                             7.55   \n",
       "750     West Bengal 2020-03-31   Monthly                             6.67   \n",
       "751     West Bengal 2020-04-30   Monthly                            15.63   \n",
       "752     West Bengal 2020-05-31   Monthly                            15.22   \n",
       "753     West Bengal 2020-06-30   Monthly                             9.86   \n",
       "\n",
       "     Estimated_Employed  Estimated_Labour_Participation_Rate_(%)   Area  Year  \\\n",
       "0            11999139.0                                    43.24  Rural  2019   \n",
       "1            11755881.0                                    42.05  Rural  2019   \n",
       "2            12086707.0                                    43.50  Rural  2019   \n",
       "3            12285693.0                                    43.97  Rural  2019   \n",
       "4            12256762.0                                    44.68  Rural  2019   \n",
       "..                  ...                                      ...    ...   ...   \n",
       "749          10871168.0                                    44.09  Urban  2020   \n",
       "750          10806105.0                                    43.34  Urban  2020   \n",
       "751           9299466.0                                    41.20  Urban  2020   \n",
       "752           9240903.0                                    40.67  Urban  2020   \n",
       "753           9088931.0                                    37.57  Urban  2020   \n",
       "\n",
       "    Month_name  \n",
       "0          May  \n",
       "1         June  \n",
       "2         July  \n",
       "3       August  \n",
       "4    September  \n",
       "..         ...  \n",
       "749   February  \n",
       "750      March  \n",
       "751      April  \n",
       "752        May  \n",
       "753       June  \n",
       "\n",
       "[740 rows x 9 columns]"
      ]
     },
     "execution_count": 20,
     "metadata": {},
     "output_type": "execute_result"
    }
   ],
   "source": [
    "data"
   ]
  },
  {
   "cell_type": "markdown",
   "id": "7ca6b69f",
   "metadata": {},
   "source": [
    "# ESTIMATED_EMPLOYEMENT_ANALYSIS"
   ]
  },
  {
   "cell_type": "code",
   "execution_count": 21,
   "id": "e88b38cd",
   "metadata": {},
   "outputs": [
    {
     "data": {
      "text/html": [
       "<div>\n",
       "<style scoped>\n",
       "    .dataframe tbody tr th:only-of-type {\n",
       "        vertical-align: middle;\n",
       "    }\n",
       "\n",
       "    .dataframe tbody tr th {\n",
       "        vertical-align: top;\n",
       "    }\n",
       "\n",
       "    .dataframe thead th {\n",
       "        text-align: right;\n",
       "    }\n",
       "</style>\n",
       "<table border=\"1\" class=\"dataframe\">\n",
       "  <thead>\n",
       "    <tr style=\"text-align: right;\">\n",
       "      <th></th>\n",
       "      <th>Region</th>\n",
       "      <th>Year</th>\n",
       "      <th>Estimated_Employed</th>\n",
       "    </tr>\n",
       "  </thead>\n",
       "  <tbody>\n",
       "    <tr>\n",
       "      <th>50</th>\n",
       "      <td>Uttar Pradesh</td>\n",
       "      <td>2019</td>\n",
       "      <td>2.852497e+07</td>\n",
       "    </tr>\n",
       "    <tr>\n",
       "      <th>51</th>\n",
       "      <td>Uttar Pradesh</td>\n",
       "      <td>2020</td>\n",
       "      <td>2.752132e+07</td>\n",
       "    </tr>\n",
       "    <tr>\n",
       "      <th>30</th>\n",
       "      <td>Maharashtra</td>\n",
       "      <td>2019</td>\n",
       "      <td>2.101646e+07</td>\n",
       "    </tr>\n",
       "    <tr>\n",
       "      <th>31</th>\n",
       "      <td>Maharashtra</td>\n",
       "      <td>2020</td>\n",
       "      <td>1.862185e+07</td>\n",
       "    </tr>\n",
       "    <tr>\n",
       "      <th>54</th>\n",
       "      <td>West Bengal</td>\n",
       "      <td>2019</td>\n",
       "      <td>1.795374e+07</td>\n",
       "    </tr>\n",
       "    <tr>\n",
       "      <th>55</th>\n",
       "      <td>West Bengal</td>\n",
       "      <td>2020</td>\n",
       "      <td>1.619160e+07</td>\n",
       "    </tr>\n",
       "    <tr>\n",
       "      <th>44</th>\n",
       "      <td>Tamil Nadu</td>\n",
       "      <td>2019</td>\n",
       "      <td>1.394580e+07</td>\n",
       "    </tr>\n",
       "    <tr>\n",
       "      <th>4</th>\n",
       "      <td>Bihar</td>\n",
       "      <td>2019</td>\n",
       "      <td>1.323785e+07</td>\n",
       "    </tr>\n",
       "    <tr>\n",
       "      <th>14</th>\n",
       "      <td>Gujarat</td>\n",
       "      <td>2019</td>\n",
       "      <td>1.190651e+07</td>\n",
       "    </tr>\n",
       "    <tr>\n",
       "      <th>28</th>\n",
       "      <td>Madhya Pradesh</td>\n",
       "      <td>2019</td>\n",
       "      <td>1.147777e+07</td>\n",
       "    </tr>\n",
       "    <tr>\n",
       "      <th>5</th>\n",
       "      <td>Bihar</td>\n",
       "      <td>2020</td>\n",
       "      <td>1.120397e+07</td>\n",
       "    </tr>\n",
       "    <tr>\n",
       "      <th>24</th>\n",
       "      <td>Karnataka</td>\n",
       "      <td>2019</td>\n",
       "      <td>1.075008e+07</td>\n",
       "    </tr>\n",
       "    <tr>\n",
       "      <th>15</th>\n",
       "      <td>Gujarat</td>\n",
       "      <td>2020</td>\n",
       "      <td>1.072935e+07</td>\n",
       "    </tr>\n",
       "    <tr>\n",
       "      <th>29</th>\n",
       "      <td>Madhya Pradesh</td>\n",
       "      <td>2020</td>\n",
       "      <td>1.063243e+07</td>\n",
       "    </tr>\n",
       "    <tr>\n",
       "      <th>25</th>\n",
       "      <td>Karnataka</td>\n",
       "      <td>2020</td>\n",
       "      <td>1.055650e+07</td>\n",
       "    </tr>\n",
       "    <tr>\n",
       "      <th>40</th>\n",
       "      <td>Rajasthan</td>\n",
       "      <td>2019</td>\n",
       "      <td>1.018783e+07</td>\n",
       "    </tr>\n",
       "    <tr>\n",
       "      <th>45</th>\n",
       "      <td>Tamil Nadu</td>\n",
       "      <td>2020</td>\n",
       "      <td>1.003455e+07</td>\n",
       "    </tr>\n",
       "    <tr>\n",
       "      <th>41</th>\n",
       "      <td>Rajasthan</td>\n",
       "      <td>2020</td>\n",
       "      <td>9.845378e+06</td>\n",
       "    </tr>\n",
       "    <tr>\n",
       "      <th>0</th>\n",
       "      <td>Andhra Pradesh</td>\n",
       "      <td>2019</td>\n",
       "      <td>8.402043e+06</td>\n",
       "    </tr>\n",
       "    <tr>\n",
       "      <th>46</th>\n",
       "      <td>Telangana</td>\n",
       "      <td>2019</td>\n",
       "      <td>8.392168e+06</td>\n",
       "    </tr>\n",
       "    <tr>\n",
       "      <th>1</th>\n",
       "      <td>Andhra Pradesh</td>\n",
       "      <td>2020</td>\n",
       "      <td>7.823493e+06</td>\n",
       "    </tr>\n",
       "    <tr>\n",
       "      <th>47</th>\n",
       "      <td>Telangana</td>\n",
       "      <td>2020</td>\n",
       "      <td>7.336322e+06</td>\n",
       "    </tr>\n",
       "    <tr>\n",
       "      <th>34</th>\n",
       "      <td>Odisha</td>\n",
       "      <td>2019</td>\n",
       "      <td>7.003220e+06</td>\n",
       "    </tr>\n",
       "    <tr>\n",
       "      <th>35</th>\n",
       "      <td>Odisha</td>\n",
       "      <td>2020</td>\n",
       "      <td>5.935783e+06</td>\n",
       "    </tr>\n",
       "    <tr>\n",
       "      <th>2</th>\n",
       "      <td>Assam</td>\n",
       "      <td>2019</td>\n",
       "      <td>5.508148e+06</td>\n",
       "    </tr>\n",
       "    <tr>\n",
       "      <th>3</th>\n",
       "      <td>Assam</td>\n",
       "      <td>2020</td>\n",
       "      <td>5.145623e+06</td>\n",
       "    </tr>\n",
       "    <tr>\n",
       "      <th>26</th>\n",
       "      <td>Kerala</td>\n",
       "      <td>2019</td>\n",
       "      <td>4.803638e+06</td>\n",
       "    </tr>\n",
       "    <tr>\n",
       "      <th>22</th>\n",
       "      <td>Jharkhand</td>\n",
       "      <td>2019</td>\n",
       "      <td>4.798559e+06</td>\n",
       "    </tr>\n",
       "    <tr>\n",
       "      <th>38</th>\n",
       "      <td>Punjab</td>\n",
       "      <td>2019</td>\n",
       "      <td>4.788320e+06</td>\n",
       "    </tr>\n",
       "    <tr>\n",
       "      <th>8</th>\n",
       "      <td>Chhattisgarh</td>\n",
       "      <td>2019</td>\n",
       "      <td>4.483388e+06</td>\n",
       "    </tr>\n",
       "    <tr>\n",
       "      <th>39</th>\n",
       "      <td>Punjab</td>\n",
       "      <td>2020</td>\n",
       "      <td>4.207418e+06</td>\n",
       "    </tr>\n",
       "    <tr>\n",
       "      <th>9</th>\n",
       "      <td>Chhattisgarh</td>\n",
       "      <td>2020</td>\n",
       "      <td>4.063647e+06</td>\n",
       "    </tr>\n",
       "    <tr>\n",
       "      <th>23</th>\n",
       "      <td>Jharkhand</td>\n",
       "      <td>2020</td>\n",
       "      <td>4.030149e+06</td>\n",
       "    </tr>\n",
       "    <tr>\n",
       "      <th>27</th>\n",
       "      <td>Kerala</td>\n",
       "      <td>2020</td>\n",
       "      <td>3.922248e+06</td>\n",
       "    </tr>\n",
       "    <tr>\n",
       "      <th>16</th>\n",
       "      <td>Haryana</td>\n",
       "      <td>2019</td>\n",
       "      <td>3.731464e+06</td>\n",
       "    </tr>\n",
       "    <tr>\n",
       "      <th>17</th>\n",
       "      <td>Haryana</td>\n",
       "      <td>2020</td>\n",
       "      <td>3.324551e+06</td>\n",
       "    </tr>\n",
       "    <tr>\n",
       "      <th>10</th>\n",
       "      <td>Delhi</td>\n",
       "      <td>2019</td>\n",
       "      <td>2.896461e+06</td>\n",
       "    </tr>\n",
       "    <tr>\n",
       "      <th>11</th>\n",
       "      <td>Delhi</td>\n",
       "      <td>2020</td>\n",
       "      <td>2.268915e+06</td>\n",
       "    </tr>\n",
       "    <tr>\n",
       "      <th>20</th>\n",
       "      <td>Jammu &amp; Kashmir</td>\n",
       "      <td>2019</td>\n",
       "      <td>1.838242e+06</td>\n",
       "    </tr>\n",
       "    <tr>\n",
       "      <th>21</th>\n",
       "      <td>Jammu &amp; Kashmir</td>\n",
       "      <td>2020</td>\n",
       "      <td>1.748851e+06</td>\n",
       "    </tr>\n",
       "    <tr>\n",
       "      <th>52</th>\n",
       "      <td>Uttarakhand</td>\n",
       "      <td>2019</td>\n",
       "      <td>1.427203e+06</td>\n",
       "    </tr>\n",
       "    <tr>\n",
       "      <th>53</th>\n",
       "      <td>Uttarakhand</td>\n",
       "      <td>2020</td>\n",
       "      <td>1.336447e+06</td>\n",
       "    </tr>\n",
       "    <tr>\n",
       "      <th>18</th>\n",
       "      <td>Himachal Pradesh</td>\n",
       "      <td>2019</td>\n",
       "      <td>1.108268e+06</td>\n",
       "    </tr>\n",
       "    <tr>\n",
       "      <th>19</th>\n",
       "      <td>Himachal Pradesh</td>\n",
       "      <td>2020</td>\n",
       "      <td>9.952317e+05</td>\n",
       "    </tr>\n",
       "    <tr>\n",
       "      <th>48</th>\n",
       "      <td>Tripura</td>\n",
       "      <td>2019</td>\n",
       "      <td>7.316091e+05</td>\n",
       "    </tr>\n",
       "    <tr>\n",
       "      <th>49</th>\n",
       "      <td>Tripura</td>\n",
       "      <td>2020</td>\n",
       "      <td>6.975273e+05</td>\n",
       "    </tr>\n",
       "    <tr>\n",
       "      <th>33</th>\n",
       "      <td>Meghalaya</td>\n",
       "      <td>2020</td>\n",
       "      <td>6.955085e+05</td>\n",
       "    </tr>\n",
       "    <tr>\n",
       "      <th>32</th>\n",
       "      <td>Meghalaya</td>\n",
       "      <td>2019</td>\n",
       "      <td>6.857688e+05</td>\n",
       "    </tr>\n",
       "    <tr>\n",
       "      <th>6</th>\n",
       "      <td>Chandigarh</td>\n",
       "      <td>2019</td>\n",
       "      <td>3.208352e+05</td>\n",
       "    </tr>\n",
       "    <tr>\n",
       "      <th>7</th>\n",
       "      <td>Chandigarh</td>\n",
       "      <td>2020</td>\n",
       "      <td>3.088232e+05</td>\n",
       "    </tr>\n",
       "    <tr>\n",
       "      <th>36</th>\n",
       "      <td>Puducherry</td>\n",
       "      <td>2019</td>\n",
       "      <td>2.330804e+05</td>\n",
       "    </tr>\n",
       "    <tr>\n",
       "      <th>12</th>\n",
       "      <td>Goa</td>\n",
       "      <td>2019</td>\n",
       "      <td>2.268961e+05</td>\n",
       "    </tr>\n",
       "    <tr>\n",
       "      <th>13</th>\n",
       "      <td>Goa</td>\n",
       "      <td>2020</td>\n",
       "      <td>2.251329e+05</td>\n",
       "    </tr>\n",
       "    <tr>\n",
       "      <th>37</th>\n",
       "      <td>Puducherry</td>\n",
       "      <td>2020</td>\n",
       "      <td>1.789944e+05</td>\n",
       "    </tr>\n",
       "    <tr>\n",
       "      <th>42</th>\n",
       "      <td>Sikkim</td>\n",
       "      <td>2019</td>\n",
       "      <td>1.111313e+05</td>\n",
       "    </tr>\n",
       "    <tr>\n",
       "      <th>43</th>\n",
       "      <td>Sikkim</td>\n",
       "      <td>2020</td>\n",
       "      <td>9.908800e+04</td>\n",
       "    </tr>\n",
       "  </tbody>\n",
       "</table>\n",
       "</div>"
      ],
      "text/plain": [
       "              Region  Year  Estimated_Employed\n",
       "50     Uttar Pradesh  2019        2.852497e+07\n",
       "51     Uttar Pradesh  2020        2.752132e+07\n",
       "30       Maharashtra  2019        2.101646e+07\n",
       "31       Maharashtra  2020        1.862185e+07\n",
       "54       West Bengal  2019        1.795374e+07\n",
       "55       West Bengal  2020        1.619160e+07\n",
       "44        Tamil Nadu  2019        1.394580e+07\n",
       "4              Bihar  2019        1.323785e+07\n",
       "14           Gujarat  2019        1.190651e+07\n",
       "28    Madhya Pradesh  2019        1.147777e+07\n",
       "5              Bihar  2020        1.120397e+07\n",
       "24         Karnataka  2019        1.075008e+07\n",
       "15           Gujarat  2020        1.072935e+07\n",
       "29    Madhya Pradesh  2020        1.063243e+07\n",
       "25         Karnataka  2020        1.055650e+07\n",
       "40         Rajasthan  2019        1.018783e+07\n",
       "45        Tamil Nadu  2020        1.003455e+07\n",
       "41         Rajasthan  2020        9.845378e+06\n",
       "0     Andhra Pradesh  2019        8.402043e+06\n",
       "46         Telangana  2019        8.392168e+06\n",
       "1     Andhra Pradesh  2020        7.823493e+06\n",
       "47         Telangana  2020        7.336322e+06\n",
       "34            Odisha  2019        7.003220e+06\n",
       "35            Odisha  2020        5.935783e+06\n",
       "2              Assam  2019        5.508148e+06\n",
       "3              Assam  2020        5.145623e+06\n",
       "26            Kerala  2019        4.803638e+06\n",
       "22         Jharkhand  2019        4.798559e+06\n",
       "38            Punjab  2019        4.788320e+06\n",
       "8       Chhattisgarh  2019        4.483388e+06\n",
       "39            Punjab  2020        4.207418e+06\n",
       "9       Chhattisgarh  2020        4.063647e+06\n",
       "23         Jharkhand  2020        4.030149e+06\n",
       "27            Kerala  2020        3.922248e+06\n",
       "16           Haryana  2019        3.731464e+06\n",
       "17           Haryana  2020        3.324551e+06\n",
       "10             Delhi  2019        2.896461e+06\n",
       "11             Delhi  2020        2.268915e+06\n",
       "20   Jammu & Kashmir  2019        1.838242e+06\n",
       "21   Jammu & Kashmir  2020        1.748851e+06\n",
       "52       Uttarakhand  2019        1.427203e+06\n",
       "53       Uttarakhand  2020        1.336447e+06\n",
       "18  Himachal Pradesh  2019        1.108268e+06\n",
       "19  Himachal Pradesh  2020        9.952317e+05\n",
       "48           Tripura  2019        7.316091e+05\n",
       "49           Tripura  2020        6.975273e+05\n",
       "33         Meghalaya  2020        6.955085e+05\n",
       "32         Meghalaya  2019        6.857688e+05\n",
       "6         Chandigarh  2019        3.208352e+05\n",
       "7         Chandigarh  2020        3.088232e+05\n",
       "36        Puducherry  2019        2.330804e+05\n",
       "12               Goa  2019        2.268961e+05\n",
       "13               Goa  2020        2.251329e+05\n",
       "37        Puducherry  2020        1.789944e+05\n",
       "42            Sikkim  2019        1.111313e+05\n",
       "43            Sikkim  2020        9.908800e+04"
      ]
     },
     "execution_count": 21,
     "metadata": {},
     "output_type": "execute_result"
    }
   ],
   "source": [
    "#Calculating Average employed people in the years 2019 and 2020\n",
    "employement_state = data.groupby(['Region', 'Year']).agg({'Estimated_Employed':'mean'}).reset_index().sort_values(by = 'Estimated_Employed', ascending = False)\n",
    "employement_state"
   ]
  },
  {
   "cell_type": "code",
   "execution_count": 23,
   "id": "d4f201c9",
   "metadata": {},
   "outputs": [
    {
     "data": {
      "application/vnd.plotly.v1+json": {
       "config": {
        "plotlyServerURL": "https://plot.ly"
       },
       "data": [
        {
         "domain": {
          "x": [
           0,
           1
          ],
          "y": [
           0,
           1
          ]
         },
         "hovertemplate": "Region=%{label}<br>Estimated_Employed=%{value}<extra></extra>",
         "labels": [
          "Uttar Pradesh",
          "Uttar Pradesh",
          "Maharashtra",
          "Maharashtra",
          "West Bengal",
          "West Bengal",
          "Tamil Nadu",
          "Bihar",
          "Gujarat",
          "Madhya Pradesh",
          "Bihar",
          "Karnataka",
          "Gujarat",
          "Madhya Pradesh",
          "Karnataka",
          "Rajasthan",
          "Tamil Nadu",
          "Rajasthan",
          "Andhra Pradesh",
          "Telangana",
          "Andhra Pradesh",
          "Telangana",
          "Odisha",
          "Odisha",
          "Assam",
          "Assam",
          "Kerala",
          "Jharkhand",
          "Punjab",
          "Chhattisgarh",
          "Punjab",
          "Chhattisgarh",
          "Jharkhand",
          "Kerala",
          "Haryana",
          "Haryana",
          "Delhi",
          "Delhi",
          "Jammu & Kashmir",
          "Jammu & Kashmir",
          "Uttarakhand",
          "Uttarakhand",
          "Himachal Pradesh",
          "Himachal Pradesh",
          "Tripura",
          "Tripura",
          "Meghalaya",
          "Meghalaya",
          "Chandigarh",
          "Chandigarh",
          "Puducherry",
          "Goa",
          "Goa",
          "Puducherry",
          "Sikkim",
          "Sikkim"
         ],
         "legendgroup": "",
         "name": "",
         "showlegend": true,
         "type": "pie",
         "values": [
          28524968.6875,
          27521316.833333332,
          21016458.3125,
          18621845.916666668,
          17953740.8125,
          16191600.916666666,
          13945797.5625,
          13237852.4375,
          11906510.375,
          11477774.125,
          11203971.416666666,
          10750083.5,
          10729349.333333334,
          10632431.25,
          10556500.333333334,
          10187829.9375,
          10034545.666666666,
          9845377.833333334,
          8402043.1875,
          8392168.5,
          7823493.166666667,
          7336321.75,
          7003219.8125,
          5935783.166666667,
          5508147.933333334,
          5145623.363636363,
          4803638,
          4798558.8125,
          4788320.3125,
          4483387.5625,
          4207417.583333333,
          4063646.5833333335,
          4030149.25,
          3922248.1666666665,
          3731463.875,
          3324550.5833333335,
          2896461.375,
          2268914.8333333335,
          1838241.8333333333,
          1748851.4444444445,
          1427202.875,
          1336446.6363636365,
          1108267.75,
          995231.6666666666,
          731609.125,
          697527.3333333334,
          695508.5454545454,
          685768.75,
          320835.25,
          308823.25,
          233080.375,
          226896.0625,
          225132.875,
          178994.4,
          111131.27272727272,
          99088
         ]
        }
       ],
       "layout": {
        "legend": {
         "tracegroupgap": 0
        },
        "template": {
         "data": {
          "bar": [
           {
            "error_x": {
             "color": "#2a3f5f"
            },
            "error_y": {
             "color": "#2a3f5f"
            },
            "marker": {
             "line": {
              "color": "#E5ECF6",
              "width": 0.5
             },
             "pattern": {
              "fillmode": "overlay",
              "size": 10,
              "solidity": 0.2
             }
            },
            "type": "bar"
           }
          ],
          "barpolar": [
           {
            "marker": {
             "line": {
              "color": "#E5ECF6",
              "width": 0.5
             },
             "pattern": {
              "fillmode": "overlay",
              "size": 10,
              "solidity": 0.2
             }
            },
            "type": "barpolar"
           }
          ],
          "carpet": [
           {
            "aaxis": {
             "endlinecolor": "#2a3f5f",
             "gridcolor": "white",
             "linecolor": "white",
             "minorgridcolor": "white",
             "startlinecolor": "#2a3f5f"
            },
            "baxis": {
             "endlinecolor": "#2a3f5f",
             "gridcolor": "white",
             "linecolor": "white",
             "minorgridcolor": "white",
             "startlinecolor": "#2a3f5f"
            },
            "type": "carpet"
           }
          ],
          "choropleth": [
           {
            "colorbar": {
             "outlinewidth": 0,
             "ticks": ""
            },
            "type": "choropleth"
           }
          ],
          "contour": [
           {
            "colorbar": {
             "outlinewidth": 0,
             "ticks": ""
            },
            "colorscale": [
             [
              0,
              "#0d0887"
             ],
             [
              0.1111111111111111,
              "#46039f"
             ],
             [
              0.2222222222222222,
              "#7201a8"
             ],
             [
              0.3333333333333333,
              "#9c179e"
             ],
             [
              0.4444444444444444,
              "#bd3786"
             ],
             [
              0.5555555555555556,
              "#d8576b"
             ],
             [
              0.6666666666666666,
              "#ed7953"
             ],
             [
              0.7777777777777778,
              "#fb9f3a"
             ],
             [
              0.8888888888888888,
              "#fdca26"
             ],
             [
              1,
              "#f0f921"
             ]
            ],
            "type": "contour"
           }
          ],
          "contourcarpet": [
           {
            "colorbar": {
             "outlinewidth": 0,
             "ticks": ""
            },
            "type": "contourcarpet"
           }
          ],
          "heatmap": [
           {
            "colorbar": {
             "outlinewidth": 0,
             "ticks": ""
            },
            "colorscale": [
             [
              0,
              "#0d0887"
             ],
             [
              0.1111111111111111,
              "#46039f"
             ],
             [
              0.2222222222222222,
              "#7201a8"
             ],
             [
              0.3333333333333333,
              "#9c179e"
             ],
             [
              0.4444444444444444,
              "#bd3786"
             ],
             [
              0.5555555555555556,
              "#d8576b"
             ],
             [
              0.6666666666666666,
              "#ed7953"
             ],
             [
              0.7777777777777778,
              "#fb9f3a"
             ],
             [
              0.8888888888888888,
              "#fdca26"
             ],
             [
              1,
              "#f0f921"
             ]
            ],
            "type": "heatmap"
           }
          ],
          "heatmapgl": [
           {
            "colorbar": {
             "outlinewidth": 0,
             "ticks": ""
            },
            "colorscale": [
             [
              0,
              "#0d0887"
             ],
             [
              0.1111111111111111,
              "#46039f"
             ],
             [
              0.2222222222222222,
              "#7201a8"
             ],
             [
              0.3333333333333333,
              "#9c179e"
             ],
             [
              0.4444444444444444,
              "#bd3786"
             ],
             [
              0.5555555555555556,
              "#d8576b"
             ],
             [
              0.6666666666666666,
              "#ed7953"
             ],
             [
              0.7777777777777778,
              "#fb9f3a"
             ],
             [
              0.8888888888888888,
              "#fdca26"
             ],
             [
              1,
              "#f0f921"
             ]
            ],
            "type": "heatmapgl"
           }
          ],
          "histogram": [
           {
            "marker": {
             "pattern": {
              "fillmode": "overlay",
              "size": 10,
              "solidity": 0.2
             }
            },
            "type": "histogram"
           }
          ],
          "histogram2d": [
           {
            "colorbar": {
             "outlinewidth": 0,
             "ticks": ""
            },
            "colorscale": [
             [
              0,
              "#0d0887"
             ],
             [
              0.1111111111111111,
              "#46039f"
             ],
             [
              0.2222222222222222,
              "#7201a8"
             ],
             [
              0.3333333333333333,
              "#9c179e"
             ],
             [
              0.4444444444444444,
              "#bd3786"
             ],
             [
              0.5555555555555556,
              "#d8576b"
             ],
             [
              0.6666666666666666,
              "#ed7953"
             ],
             [
              0.7777777777777778,
              "#fb9f3a"
             ],
             [
              0.8888888888888888,
              "#fdca26"
             ],
             [
              1,
              "#f0f921"
             ]
            ],
            "type": "histogram2d"
           }
          ],
          "histogram2dcontour": [
           {
            "colorbar": {
             "outlinewidth": 0,
             "ticks": ""
            },
            "colorscale": [
             [
              0,
              "#0d0887"
             ],
             [
              0.1111111111111111,
              "#46039f"
             ],
             [
              0.2222222222222222,
              "#7201a8"
             ],
             [
              0.3333333333333333,
              "#9c179e"
             ],
             [
              0.4444444444444444,
              "#bd3786"
             ],
             [
              0.5555555555555556,
              "#d8576b"
             ],
             [
              0.6666666666666666,
              "#ed7953"
             ],
             [
              0.7777777777777778,
              "#fb9f3a"
             ],
             [
              0.8888888888888888,
              "#fdca26"
             ],
             [
              1,
              "#f0f921"
             ]
            ],
            "type": "histogram2dcontour"
           }
          ],
          "mesh3d": [
           {
            "colorbar": {
             "outlinewidth": 0,
             "ticks": ""
            },
            "type": "mesh3d"
           }
          ],
          "parcoords": [
           {
            "line": {
             "colorbar": {
              "outlinewidth": 0,
              "ticks": ""
             }
            },
            "type": "parcoords"
           }
          ],
          "pie": [
           {
            "automargin": true,
            "type": "pie"
           }
          ],
          "scatter": [
           {
            "fillpattern": {
             "fillmode": "overlay",
             "size": 10,
             "solidity": 0.2
            },
            "type": "scatter"
           }
          ],
          "scatter3d": [
           {
            "line": {
             "colorbar": {
              "outlinewidth": 0,
              "ticks": ""
             }
            },
            "marker": {
             "colorbar": {
              "outlinewidth": 0,
              "ticks": ""
             }
            },
            "type": "scatter3d"
           }
          ],
          "scattercarpet": [
           {
            "marker": {
             "colorbar": {
              "outlinewidth": 0,
              "ticks": ""
             }
            },
            "type": "scattercarpet"
           }
          ],
          "scattergeo": [
           {
            "marker": {
             "colorbar": {
              "outlinewidth": 0,
              "ticks": ""
             }
            },
            "type": "scattergeo"
           }
          ],
          "scattergl": [
           {
            "marker": {
             "colorbar": {
              "outlinewidth": 0,
              "ticks": ""
             }
            },
            "type": "scattergl"
           }
          ],
          "scattermapbox": [
           {
            "marker": {
             "colorbar": {
              "outlinewidth": 0,
              "ticks": ""
             }
            },
            "type": "scattermapbox"
           }
          ],
          "scatterpolar": [
           {
            "marker": {
             "colorbar": {
              "outlinewidth": 0,
              "ticks": ""
             }
            },
            "type": "scatterpolar"
           }
          ],
          "scatterpolargl": [
           {
            "marker": {
             "colorbar": {
              "outlinewidth": 0,
              "ticks": ""
             }
            },
            "type": "scatterpolargl"
           }
          ],
          "scatterternary": [
           {
            "marker": {
             "colorbar": {
              "outlinewidth": 0,
              "ticks": ""
             }
            },
            "type": "scatterternary"
           }
          ],
          "surface": [
           {
            "colorbar": {
             "outlinewidth": 0,
             "ticks": ""
            },
            "colorscale": [
             [
              0,
              "#0d0887"
             ],
             [
              0.1111111111111111,
              "#46039f"
             ],
             [
              0.2222222222222222,
              "#7201a8"
             ],
             [
              0.3333333333333333,
              "#9c179e"
             ],
             [
              0.4444444444444444,
              "#bd3786"
             ],
             [
              0.5555555555555556,
              "#d8576b"
             ],
             [
              0.6666666666666666,
              "#ed7953"
             ],
             [
              0.7777777777777778,
              "#fb9f3a"
             ],
             [
              0.8888888888888888,
              "#fdca26"
             ],
             [
              1,
              "#f0f921"
             ]
            ],
            "type": "surface"
           }
          ],
          "table": [
           {
            "cells": {
             "fill": {
              "color": "#EBF0F8"
             },
             "line": {
              "color": "white"
             }
            },
            "header": {
             "fill": {
              "color": "#C8D4E3"
             },
             "line": {
              "color": "white"
             }
            },
            "type": "table"
           }
          ]
         },
         "layout": {
          "annotationdefaults": {
           "arrowcolor": "#2a3f5f",
           "arrowhead": 0,
           "arrowwidth": 1
          },
          "autotypenumbers": "strict",
          "coloraxis": {
           "colorbar": {
            "outlinewidth": 0,
            "ticks": ""
           }
          },
          "colorscale": {
           "diverging": [
            [
             0,
             "#8e0152"
            ],
            [
             0.1,
             "#c51b7d"
            ],
            [
             0.2,
             "#de77ae"
            ],
            [
             0.3,
             "#f1b6da"
            ],
            [
             0.4,
             "#fde0ef"
            ],
            [
             0.5,
             "#f7f7f7"
            ],
            [
             0.6,
             "#e6f5d0"
            ],
            [
             0.7,
             "#b8e186"
            ],
            [
             0.8,
             "#7fbc41"
            ],
            [
             0.9,
             "#4d9221"
            ],
            [
             1,
             "#276419"
            ]
           ],
           "sequential": [
            [
             0,
             "#0d0887"
            ],
            [
             0.1111111111111111,
             "#46039f"
            ],
            [
             0.2222222222222222,
             "#7201a8"
            ],
            [
             0.3333333333333333,
             "#9c179e"
            ],
            [
             0.4444444444444444,
             "#bd3786"
            ],
            [
             0.5555555555555556,
             "#d8576b"
            ],
            [
             0.6666666666666666,
             "#ed7953"
            ],
            [
             0.7777777777777778,
             "#fb9f3a"
            ],
            [
             0.8888888888888888,
             "#fdca26"
            ],
            [
             1,
             "#f0f921"
            ]
           ],
           "sequentialminus": [
            [
             0,
             "#0d0887"
            ],
            [
             0.1111111111111111,
             "#46039f"
            ],
            [
             0.2222222222222222,
             "#7201a8"
            ],
            [
             0.3333333333333333,
             "#9c179e"
            ],
            [
             0.4444444444444444,
             "#bd3786"
            ],
            [
             0.5555555555555556,
             "#d8576b"
            ],
            [
             0.6666666666666666,
             "#ed7953"
            ],
            [
             0.7777777777777778,
             "#fb9f3a"
            ],
            [
             0.8888888888888888,
             "#fdca26"
            ],
            [
             1,
             "#f0f921"
            ]
           ]
          },
          "colorway": [
           "#636efa",
           "#EF553B",
           "#00cc96",
           "#ab63fa",
           "#FFA15A",
           "#19d3f3",
           "#FF6692",
           "#B6E880",
           "#FF97FF",
           "#FECB52"
          ],
          "font": {
           "color": "#2a3f5f"
          },
          "geo": {
           "bgcolor": "white",
           "lakecolor": "white",
           "landcolor": "#E5ECF6",
           "showlakes": true,
           "showland": true,
           "subunitcolor": "white"
          },
          "hoverlabel": {
           "align": "left"
          },
          "hovermode": "closest",
          "mapbox": {
           "style": "light"
          },
          "paper_bgcolor": "white",
          "plot_bgcolor": "#E5ECF6",
          "polar": {
           "angularaxis": {
            "gridcolor": "white",
            "linecolor": "white",
            "ticks": ""
           },
           "bgcolor": "#E5ECF6",
           "radialaxis": {
            "gridcolor": "white",
            "linecolor": "white",
            "ticks": ""
           }
          },
          "scene": {
           "xaxis": {
            "backgroundcolor": "#E5ECF6",
            "gridcolor": "white",
            "gridwidth": 2,
            "linecolor": "white",
            "showbackground": true,
            "ticks": "",
            "zerolinecolor": "white"
           },
           "yaxis": {
            "backgroundcolor": "#E5ECF6",
            "gridcolor": "white",
            "gridwidth": 2,
            "linecolor": "white",
            "showbackground": true,
            "ticks": "",
            "zerolinecolor": "white"
           },
           "zaxis": {
            "backgroundcolor": "#E5ECF6",
            "gridcolor": "white",
            "gridwidth": 2,
            "linecolor": "white",
            "showbackground": true,
            "ticks": "",
            "zerolinecolor": "white"
           }
          },
          "shapedefaults": {
           "line": {
            "color": "#2a3f5f"
           }
          },
          "ternary": {
           "aaxis": {
            "gridcolor": "white",
            "linecolor": "white",
            "ticks": ""
           },
           "baxis": {
            "gridcolor": "white",
            "linecolor": "white",
            "ticks": ""
           },
           "bgcolor": "#E5ECF6",
           "caxis": {
            "gridcolor": "white",
            "linecolor": "white",
            "ticks": ""
           }
          },
          "title": {
           "x": 0.05
          },
          "xaxis": {
           "automargin": true,
           "gridcolor": "white",
           "linecolor": "white",
           "ticks": "",
           "title": {
            "standoff": 15
           },
           "zerolinecolor": "white",
           "zerolinewidth": 2
          },
          "yaxis": {
           "automargin": true,
           "gridcolor": "white",
           "linecolor": "white",
           "ticks": "",
           "title": {
            "standoff": 15
           },
           "zerolinecolor": "white",
           "zerolinewidth": 2
          }
         }
        },
        "title": {
         "text": "Distribution of Estimated Employement Rate by Region"
        }
       }
      },
      "text/html": [
       "<div>                            <div id=\"2a98accd-ce5f-4465-b382-dfae33a81b57\" class=\"plotly-graph-div\" style=\"height:525px; width:100%;\"></div>            <script type=\"text/javascript\">                require([\"plotly\"], function(Plotly) {                    window.PLOTLYENV=window.PLOTLYENV || {};                                    if (document.getElementById(\"2a98accd-ce5f-4465-b382-dfae33a81b57\")) {                    Plotly.newPlot(                        \"2a98accd-ce5f-4465-b382-dfae33a81b57\",                        [{\"domain\":{\"x\":[0.0,1.0],\"y\":[0.0,1.0]},\"hovertemplate\":\"Region=%{label}<br>Estimated_Employed=%{value}<extra></extra>\",\"labels\":[\"Uttar Pradesh\",\"Uttar Pradesh\",\"Maharashtra\",\"Maharashtra\",\"West Bengal\",\"West Bengal\",\"Tamil Nadu\",\"Bihar\",\"Gujarat\",\"Madhya Pradesh\",\"Bihar\",\"Karnataka\",\"Gujarat\",\"Madhya Pradesh\",\"Karnataka\",\"Rajasthan\",\"Tamil Nadu\",\"Rajasthan\",\"Andhra Pradesh\",\"Telangana\",\"Andhra Pradesh\",\"Telangana\",\"Odisha\",\"Odisha\",\"Assam\",\"Assam\",\"Kerala\",\"Jharkhand\",\"Punjab\",\"Chhattisgarh\",\"Punjab\",\"Chhattisgarh\",\"Jharkhand\",\"Kerala\",\"Haryana\",\"Haryana\",\"Delhi\",\"Delhi\",\"Jammu & Kashmir\",\"Jammu & Kashmir\",\"Uttarakhand\",\"Uttarakhand\",\"Himachal Pradesh\",\"Himachal Pradesh\",\"Tripura\",\"Tripura\",\"Meghalaya\",\"Meghalaya\",\"Chandigarh\",\"Chandigarh\",\"Puducherry\",\"Goa\",\"Goa\",\"Puducherry\",\"Sikkim\",\"Sikkim\"],\"legendgroup\":\"\",\"name\":\"\",\"showlegend\":true,\"values\":[28524968.6875,27521316.833333332,21016458.3125,18621845.916666668,17953740.8125,16191600.916666666,13945797.5625,13237852.4375,11906510.375,11477774.125,11203971.416666666,10750083.5,10729349.333333334,10632431.25,10556500.333333334,10187829.9375,10034545.666666666,9845377.833333334,8402043.1875,8392168.5,7823493.166666667,7336321.75,7003219.8125,5935783.166666667,5508147.933333334,5145623.363636363,4803638.0,4798558.8125,4788320.3125,4483387.5625,4207417.583333333,4063646.5833333335,4030149.25,3922248.1666666665,3731463.875,3324550.5833333335,2896461.375,2268914.8333333335,1838241.8333333333,1748851.4444444445,1427202.875,1336446.6363636365,1108267.75,995231.6666666666,731609.125,697527.3333333334,695508.5454545454,685768.75,320835.25,308823.25,233080.375,226896.0625,225132.875,178994.4,111131.27272727272,99088.0],\"type\":\"pie\"}],                        {\"template\":{\"data\":{\"histogram2dcontour\":[{\"type\":\"histogram2dcontour\",\"colorbar\":{\"outlinewidth\":0,\"ticks\":\"\"},\"colorscale\":[[0.0,\"#0d0887\"],[0.1111111111111111,\"#46039f\"],[0.2222222222222222,\"#7201a8\"],[0.3333333333333333,\"#9c179e\"],[0.4444444444444444,\"#bd3786\"],[0.5555555555555556,\"#d8576b\"],[0.6666666666666666,\"#ed7953\"],[0.7777777777777778,\"#fb9f3a\"],[0.8888888888888888,\"#fdca26\"],[1.0,\"#f0f921\"]]}],\"choropleth\":[{\"type\":\"choropleth\",\"colorbar\":{\"outlinewidth\":0,\"ticks\":\"\"}}],\"histogram2d\":[{\"type\":\"histogram2d\",\"colorbar\":{\"outlinewidth\":0,\"ticks\":\"\"},\"colorscale\":[[0.0,\"#0d0887\"],[0.1111111111111111,\"#46039f\"],[0.2222222222222222,\"#7201a8\"],[0.3333333333333333,\"#9c179e\"],[0.4444444444444444,\"#bd3786\"],[0.5555555555555556,\"#d8576b\"],[0.6666666666666666,\"#ed7953\"],[0.7777777777777778,\"#fb9f3a\"],[0.8888888888888888,\"#fdca26\"],[1.0,\"#f0f921\"]]}],\"heatmap\":[{\"type\":\"heatmap\",\"colorbar\":{\"outlinewidth\":0,\"ticks\":\"\"},\"colorscale\":[[0.0,\"#0d0887\"],[0.1111111111111111,\"#46039f\"],[0.2222222222222222,\"#7201a8\"],[0.3333333333333333,\"#9c179e\"],[0.4444444444444444,\"#bd3786\"],[0.5555555555555556,\"#d8576b\"],[0.6666666666666666,\"#ed7953\"],[0.7777777777777778,\"#fb9f3a\"],[0.8888888888888888,\"#fdca26\"],[1.0,\"#f0f921\"]]}],\"heatmapgl\":[{\"type\":\"heatmapgl\",\"colorbar\":{\"outlinewidth\":0,\"ticks\":\"\"},\"colorscale\":[[0.0,\"#0d0887\"],[0.1111111111111111,\"#46039f\"],[0.2222222222222222,\"#7201a8\"],[0.3333333333333333,\"#9c179e\"],[0.4444444444444444,\"#bd3786\"],[0.5555555555555556,\"#d8576b\"],[0.6666666666666666,\"#ed7953\"],[0.7777777777777778,\"#fb9f3a\"],[0.8888888888888888,\"#fdca26\"],[1.0,\"#f0f921\"]]}],\"contourcarpet\":[{\"type\":\"contourcarpet\",\"colorbar\":{\"outlinewidth\":0,\"ticks\":\"\"}}],\"contour\":[{\"type\":\"contour\",\"colorbar\":{\"outlinewidth\":0,\"ticks\":\"\"},\"colorscale\":[[0.0,\"#0d0887\"],[0.1111111111111111,\"#46039f\"],[0.2222222222222222,\"#7201a8\"],[0.3333333333333333,\"#9c179e\"],[0.4444444444444444,\"#bd3786\"],[0.5555555555555556,\"#d8576b\"],[0.6666666666666666,\"#ed7953\"],[0.7777777777777778,\"#fb9f3a\"],[0.8888888888888888,\"#fdca26\"],[1.0,\"#f0f921\"]]}],\"surface\":[{\"type\":\"surface\",\"colorbar\":{\"outlinewidth\":0,\"ticks\":\"\"},\"colorscale\":[[0.0,\"#0d0887\"],[0.1111111111111111,\"#46039f\"],[0.2222222222222222,\"#7201a8\"],[0.3333333333333333,\"#9c179e\"],[0.4444444444444444,\"#bd3786\"],[0.5555555555555556,\"#d8576b\"],[0.6666666666666666,\"#ed7953\"],[0.7777777777777778,\"#fb9f3a\"],[0.8888888888888888,\"#fdca26\"],[1.0,\"#f0f921\"]]}],\"mesh3d\":[{\"type\":\"mesh3d\",\"colorbar\":{\"outlinewidth\":0,\"ticks\":\"\"}}],\"scatter\":[{\"fillpattern\":{\"fillmode\":\"overlay\",\"size\":10,\"solidity\":0.2},\"type\":\"scatter\"}],\"parcoords\":[{\"type\":\"parcoords\",\"line\":{\"colorbar\":{\"outlinewidth\":0,\"ticks\":\"\"}}}],\"scatterpolargl\":[{\"type\":\"scatterpolargl\",\"marker\":{\"colorbar\":{\"outlinewidth\":0,\"ticks\":\"\"}}}],\"bar\":[{\"error_x\":{\"color\":\"#2a3f5f\"},\"error_y\":{\"color\":\"#2a3f5f\"},\"marker\":{\"line\":{\"color\":\"#E5ECF6\",\"width\":0.5},\"pattern\":{\"fillmode\":\"overlay\",\"size\":10,\"solidity\":0.2}},\"type\":\"bar\"}],\"scattergeo\":[{\"type\":\"scattergeo\",\"marker\":{\"colorbar\":{\"outlinewidth\":0,\"ticks\":\"\"}}}],\"scatterpolar\":[{\"type\":\"scatterpolar\",\"marker\":{\"colorbar\":{\"outlinewidth\":0,\"ticks\":\"\"}}}],\"histogram\":[{\"marker\":{\"pattern\":{\"fillmode\":\"overlay\",\"size\":10,\"solidity\":0.2}},\"type\":\"histogram\"}],\"scattergl\":[{\"type\":\"scattergl\",\"marker\":{\"colorbar\":{\"outlinewidth\":0,\"ticks\":\"\"}}}],\"scatter3d\":[{\"type\":\"scatter3d\",\"line\":{\"colorbar\":{\"outlinewidth\":0,\"ticks\":\"\"}},\"marker\":{\"colorbar\":{\"outlinewidth\":0,\"ticks\":\"\"}}}],\"scattermapbox\":[{\"type\":\"scattermapbox\",\"marker\":{\"colorbar\":{\"outlinewidth\":0,\"ticks\":\"\"}}}],\"scatterternary\":[{\"type\":\"scatterternary\",\"marker\":{\"colorbar\":{\"outlinewidth\":0,\"ticks\":\"\"}}}],\"scattercarpet\":[{\"type\":\"scattercarpet\",\"marker\":{\"colorbar\":{\"outlinewidth\":0,\"ticks\":\"\"}}}],\"carpet\":[{\"aaxis\":{\"endlinecolor\":\"#2a3f5f\",\"gridcolor\":\"white\",\"linecolor\":\"white\",\"minorgridcolor\":\"white\",\"startlinecolor\":\"#2a3f5f\"},\"baxis\":{\"endlinecolor\":\"#2a3f5f\",\"gridcolor\":\"white\",\"linecolor\":\"white\",\"minorgridcolor\":\"white\",\"startlinecolor\":\"#2a3f5f\"},\"type\":\"carpet\"}],\"table\":[{\"cells\":{\"fill\":{\"color\":\"#EBF0F8\"},\"line\":{\"color\":\"white\"}},\"header\":{\"fill\":{\"color\":\"#C8D4E3\"},\"line\":{\"color\":\"white\"}},\"type\":\"table\"}],\"barpolar\":[{\"marker\":{\"line\":{\"color\":\"#E5ECF6\",\"width\":0.5},\"pattern\":{\"fillmode\":\"overlay\",\"size\":10,\"solidity\":0.2}},\"type\":\"barpolar\"}],\"pie\":[{\"automargin\":true,\"type\":\"pie\"}]},\"layout\":{\"autotypenumbers\":\"strict\",\"colorway\":[\"#636efa\",\"#EF553B\",\"#00cc96\",\"#ab63fa\",\"#FFA15A\",\"#19d3f3\",\"#FF6692\",\"#B6E880\",\"#FF97FF\",\"#FECB52\"],\"font\":{\"color\":\"#2a3f5f\"},\"hovermode\":\"closest\",\"hoverlabel\":{\"align\":\"left\"},\"paper_bgcolor\":\"white\",\"plot_bgcolor\":\"#E5ECF6\",\"polar\":{\"bgcolor\":\"#E5ECF6\",\"angularaxis\":{\"gridcolor\":\"white\",\"linecolor\":\"white\",\"ticks\":\"\"},\"radialaxis\":{\"gridcolor\":\"white\",\"linecolor\":\"white\",\"ticks\":\"\"}},\"ternary\":{\"bgcolor\":\"#E5ECF6\",\"aaxis\":{\"gridcolor\":\"white\",\"linecolor\":\"white\",\"ticks\":\"\"},\"baxis\":{\"gridcolor\":\"white\",\"linecolor\":\"white\",\"ticks\":\"\"},\"caxis\":{\"gridcolor\":\"white\",\"linecolor\":\"white\",\"ticks\":\"\"}},\"coloraxis\":{\"colorbar\":{\"outlinewidth\":0,\"ticks\":\"\"}},\"colorscale\":{\"sequential\":[[0.0,\"#0d0887\"],[0.1111111111111111,\"#46039f\"],[0.2222222222222222,\"#7201a8\"],[0.3333333333333333,\"#9c179e\"],[0.4444444444444444,\"#bd3786\"],[0.5555555555555556,\"#d8576b\"],[0.6666666666666666,\"#ed7953\"],[0.7777777777777778,\"#fb9f3a\"],[0.8888888888888888,\"#fdca26\"],[1.0,\"#f0f921\"]],\"sequentialminus\":[[0.0,\"#0d0887\"],[0.1111111111111111,\"#46039f\"],[0.2222222222222222,\"#7201a8\"],[0.3333333333333333,\"#9c179e\"],[0.4444444444444444,\"#bd3786\"],[0.5555555555555556,\"#d8576b\"],[0.6666666666666666,\"#ed7953\"],[0.7777777777777778,\"#fb9f3a\"],[0.8888888888888888,\"#fdca26\"],[1.0,\"#f0f921\"]],\"diverging\":[[0,\"#8e0152\"],[0.1,\"#c51b7d\"],[0.2,\"#de77ae\"],[0.3,\"#f1b6da\"],[0.4,\"#fde0ef\"],[0.5,\"#f7f7f7\"],[0.6,\"#e6f5d0\"],[0.7,\"#b8e186\"],[0.8,\"#7fbc41\"],[0.9,\"#4d9221\"],[1,\"#276419\"]]},\"xaxis\":{\"gridcolor\":\"white\",\"linecolor\":\"white\",\"ticks\":\"\",\"title\":{\"standoff\":15},\"zerolinecolor\":\"white\",\"automargin\":true,\"zerolinewidth\":2},\"yaxis\":{\"gridcolor\":\"white\",\"linecolor\":\"white\",\"ticks\":\"\",\"title\":{\"standoff\":15},\"zerolinecolor\":\"white\",\"automargin\":true,\"zerolinewidth\":2},\"scene\":{\"xaxis\":{\"backgroundcolor\":\"#E5ECF6\",\"gridcolor\":\"white\",\"linecolor\":\"white\",\"showbackground\":true,\"ticks\":\"\",\"zerolinecolor\":\"white\",\"gridwidth\":2},\"yaxis\":{\"backgroundcolor\":\"#E5ECF6\",\"gridcolor\":\"white\",\"linecolor\":\"white\",\"showbackground\":true,\"ticks\":\"\",\"zerolinecolor\":\"white\",\"gridwidth\":2},\"zaxis\":{\"backgroundcolor\":\"#E5ECF6\",\"gridcolor\":\"white\",\"linecolor\":\"white\",\"showbackground\":true,\"ticks\":\"\",\"zerolinecolor\":\"white\",\"gridwidth\":2}},\"shapedefaults\":{\"line\":{\"color\":\"#2a3f5f\"}},\"annotationdefaults\":{\"arrowcolor\":\"#2a3f5f\",\"arrowhead\":0,\"arrowwidth\":1},\"geo\":{\"bgcolor\":\"white\",\"landcolor\":\"#E5ECF6\",\"subunitcolor\":\"white\",\"showland\":true,\"showlakes\":true,\"lakecolor\":\"white\"},\"title\":{\"x\":0.05},\"mapbox\":{\"style\":\"light\"}}},\"legend\":{\"tracegroupgap\":0},\"title\":{\"text\":\"Distribution of Estimated Employement Rate by Region\"}},                        {\"responsive\": true}                    ).then(function(){\n",
       "                            \n",
       "var gd = document.getElementById('2a98accd-ce5f-4465-b382-dfae33a81b57');\n",
       "var x = new MutationObserver(function (mutations, observer) {{\n",
       "        var display = window.getComputedStyle(gd).display;\n",
       "        if (!display || display === 'none') {{\n",
       "            console.log([gd, 'removed!']);\n",
       "            Plotly.purge(gd);\n",
       "            observer.disconnect();\n",
       "        }}\n",
       "}});\n",
       "\n",
       "// Listen for the removal of the full notebook cells\n",
       "var notebookContainer = gd.closest('#notebook-container');\n",
       "if (notebookContainer) {{\n",
       "    x.observe(notebookContainer, {childList: true});\n",
       "}}\n",
       "\n",
       "// Listen for the clearing of the current output cell\n",
       "var outputEl = gd.closest('.output');\n",
       "if (outputEl) {{\n",
       "    x.observe(outputEl, {childList: true});\n",
       "}}\n",
       "\n",
       "                        })                };                });            </script>        </div>"
      ]
     },
     "metadata": {},
     "output_type": "display_data"
    }
   ],
   "source": [
    "#using pie chart from plotly.express lib to visualize employement rate\n",
    "px.pie(employement_state,\n",
    "      names = 'Region',\n",
    "      values = 'Estimated_Employed',\n",
    "      title = 'Distribution of Estimated Employement Rate by Region')"
   ]
  },
  {
   "cell_type": "markdown",
   "id": "9974691a",
   "metadata": {},
   "source": [
    "Uttar Pradesh and Maharastra has the highest Employed rate"
   ]
  },
  {
   "cell_type": "code",
   "execution_count": 25,
   "id": "73364e68",
   "metadata": {},
   "outputs": [
    {
     "data": {
      "image/png": "[encoded data removed]",
      "text/plain": [
       "<Figure size 2000x1500 with 1 Axes>"
      ]
     },
     "metadata": {},
     "output_type": "display_data"
    }
   ],
   "source": [
    "#ploting bar graphs to understand the employement rate in the years 2019 and 2020 \n",
    "plt.figure(figsize=(20,15))\n",
    "plt.title('Average Employment Rate In All Regions In Year(2019-2020)')\n",
    "\n",
    "custom_colour = ['blue', 'red']\n",
    "\n",
    "sns.barplot(data = employement_state, \n",
    "            x = 'Region',\n",
    "            y = 'Estimated_Employed',\n",
    "            hue = 'Year',\n",
    "            width = 1,\n",
    "            palette = custom_colour\n",
    "            )\n",
    "\n",
    "plt.xticks(rotation = 90)\n",
    "plt.xlabel('STATE')\n",
    "plt.ylabel('EMPLOYEMENT RATE')\n",
    "plt.show()"
   ]
  },
  {
   "cell_type": "markdown",
   "id": "b5661ab3",
   "metadata": {},
   "source": [
    "# ESTIMATED_UNEMPLOYEMENT_ANALYSIS"
   ]
  },
  {
   "cell_type": "code",
   "execution_count": 27,
   "id": "2c7048a6",
   "metadata": {},
   "outputs": [
    {
     "data": {
      "text/html": [
       "<div>\n",
       "<style scoped>\n",
       "    .dataframe tbody tr th:only-of-type {\n",
       "        vertical-align: middle;\n",
       "    }\n",
       "\n",
       "    .dataframe tbody tr th {\n",
       "        vertical-align: top;\n",
       "    }\n",
       "\n",
       "    .dataframe thead th {\n",
       "        text-align: right;\n",
       "    }\n",
       "</style>\n",
       "<table border=\"1\" class=\"dataframe\">\n",
       "  <thead>\n",
       "    <tr style=\"text-align: right;\">\n",
       "      <th></th>\n",
       "      <th>Area</th>\n",
       "      <th>Year</th>\n",
       "      <th>Estimated_Unemployment_Rate_(%)</th>\n",
       "    </tr>\n",
       "  </thead>\n",
       "  <tbody>\n",
       "    <tr>\n",
       "      <th>3</th>\n",
       "      <td>Urban</td>\n",
       "      <td>2020</td>\n",
       "      <td>16.654528</td>\n",
       "    </tr>\n",
       "    <tr>\n",
       "      <th>1</th>\n",
       "      <td>Rural</td>\n",
       "      <td>2020</td>\n",
       "      <td>13.466358</td>\n",
       "    </tr>\n",
       "    <tr>\n",
       "      <th>2</th>\n",
       "      <td>Urban</td>\n",
       "      <td>2019</td>\n",
       "      <td>10.668514</td>\n",
       "    </tr>\n",
       "    <tr>\n",
       "      <th>0</th>\n",
       "      <td>Rural</td>\n",
       "      <td>2019</td>\n",
       "      <td>8.044135</td>\n",
       "    </tr>\n",
       "  </tbody>\n",
       "</table>\n",
       "</div>"
      ],
      "text/plain": [
       "    Area  Year  Estimated_Unemployment_Rate_(%)\n",
       "3  Urban  2020                        16.654528\n",
       "1  Rural  2020                        13.466358\n",
       "2  Urban  2019                        10.668514\n",
       "0  Rural  2019                         8.044135"
      ]
     },
     "execution_count": 27,
     "metadata": {},
     "output_type": "execute_result"
    }
   ],
   "source": [
    "unemployement_area = data.groupby(['Area', 'Year']).agg({'Estimated_Unemployment_Rate_(%)': 'mean'}).reset_index().sort_values(by = 'Estimated_Unemployment_Rate_(%)', ascending = False)\n",
    "unemployement_area"
   ]
  },
  {
   "cell_type": "code",
   "execution_count": 28,
   "id": "b35c9695",
   "metadata": {},
   "outputs": [
    {
     "data": {
      "application/vnd.plotly.v1+json": {
       "config": {
        "plotlyServerURL": "https://plot.ly"
       },
       "data": [
        {
         "domain": {
          "x": [
           0,
           1
          ],
          "y": [
           0,
           1
          ]
         },
         "hovertemplate": "label=%{label}<br>value=%{value}<extra></extra>",
         "labels": [
          "Rural",
          "Rural",
          "Rural",
          "Rural",
          "Rural",
          "Rural",
          "Rural",
          "Rural",
          "Rural",
          "Rural",
          "Rural",
          "Rural",
          "Rural",
          "Rural",
          "Rural",
          "Rural",
          "Rural",
          "Rural",
          "Rural",
          "Rural",
          "Rural",
          "Rural",
          "Rural",
          "Rural",
          "Rural",
          "Rural",
          "Rural",
          "Rural",
          "Rural",
          "Rural",
          "Rural",
          "Rural",
          "Rural",
          "Rural",
          "Rural",
          "Rural",
          "Rural",
          "Rural",
          "Rural",
          "Rural",
          "Rural",
          "Rural",
          "Rural",
          "Rural",
          "Rural",
          "Rural",
          "Rural",
          "Rural",
          "Rural",
          "Rural",
          "Rural",
          "Rural",
          "Rural",
          "Rural",
          "Rural",
          "Rural",
          "Rural",
          "Rural",
          "Rural",
          "Rural",
          "Rural",
          "Rural",
          "Rural",
          "Rural",
          "Rural",
          "Rural",
          "Rural",
          "Rural",
          "Rural",
          "Rural",
          "Rural",
          "Rural",
          "Rural",
          "Rural",
          "Rural",
          "Rural",
          "Rural",
          "Rural",
          "Rural",
          "Rural",
          "Rural",
          "Rural",
          "Rural",
          "Rural",
          "Rural",
          "Rural",
          "Rural",
          "Rural",
          "Rural",
          "Rural",
          "Rural",
          "Rural",
          "Rural",
          "Rural",
          "Rural",
          "Rural",
          "Rural",
          "Rural",
          "Rural",
          "Rural",
          "Rural",
          "Rural",
          "Rural",
          "Rural",
          "Rural",
          "Rural",
          "Rural",
          "Rural",
          "Rural",
          "Rural",
          "Rural",
          "Rural",
          "Rural",
          "Rural",
          "Rural",
          "Rural",
          "Rural",
          "Rural",
          "Rural",
          "Rural",
          "Rural",
          "Rural",
          "Rural",
          "Rural",
          "Rural",
          "Rural",
          "Rural",
          "Rural",
          "Rural",
          "Rural",
          "Rural",
          "Rural",
          "Rural",
          "Rural",
          "Rural",
          "Rural",
          "Rural",
          "Rural",
          "Rural",
          "Rural",
          "Rural",
          "Rural",
          "Rural",
          "Rural",
          "Rural",
          "Rural",
          "Rural",
          "Rural",
          "Rural",
          "Rural",
          "Rural",
          "Rural",
          "Rural",
          "Rural",
          "Rural",
          "Rural",
          "Rural",
          "Rural",
          "Rural",
          "Rural",
          "Rural",
          "Rural",
          "Rural",
          "Rural",
          "Rural",
          "Rural",
          "Rural",
          "Rural",
          "Rural",
          "Rural",
          "Rural",
          "Rural",
          "Rural",
          "Rural",
          "Rural",
          "Rural",
          "Rural",
          "Rural",
          "Rural",
          "Rural",
          "Rural",
          "Rural",
          "Rural",
          "Rural",
          "Rural",
          "Rural",
          "Rural",
          "Rural",
          "Rural",
          "Rural",
          "Rural",
          "Rural",
          "Rural",
          "Rural",
          "Rural",
          "Rural",
          "Rural",
          "Rural",
          "Rural",
          "Rural",
          "Rural",
          "Rural",
          "Rural",
          "Rural",
          "Rural",
          "Rural",
          "Rural",
          "Rural",
          "Rural",
          "Rural",
          "Rural",
          "Rural",
          "Rural",
          "Rural",
          "Rural",
          "Rural",
          "Rural",
          "Rural",
          "Rural",
          "Rural",
          "Rural",
          "Rural",
          "Rural",
          "Rural",
          "Rural",
          "Rural",
          "Rural",
          "Rural",
          "Rural",
          "Rural",
          "Rural",
          "Rural",
          "Rural",
          "Rural",
          "Rural",
          "Rural",
          "Rural",
          "Rural",
          "Rural",
          "Rural",
          "Rural",
          "Rural",
          "Rural",
          "Rural",
          "Rural",
          "Rural",
          "Rural",
          "Rural",
          "Rural",
          "Rural",
          "Rural",
          "Rural",
          "Rural",
          "Rural",
          "Rural",
          "Rural",
          "Rural",
          "Rural",
          "Rural",
          "Rural",
          "Rural",
          "Rural",
          "Rural",
          "Rural",
          "Rural",
          "Rural",
          "Rural",
          "Rural",
          "Rural",
          "Rural",
          "Rural",
          "Rural",
          "Rural",
          "Rural",
          "Rural",
          "Rural",
          "Rural",
          "Rural",
          "Rural",
          "Rural",
          "Rural",
          "Rural",
          "Rural",
          "Rural",
          "Rural",
          "Rural",
          "Rural",
          "Rural",
          "Rural",
          "Rural",
          "Rural",
          "Rural",
          "Rural",
          "Rural",
          "Rural",
          "Rural",
          "Rural",
          "Rural",
          "Rural",
          "Rural",
          "Rural",
          "Rural",
          "Rural",
          "Rural",
          "Rural",
          "Rural",
          "Rural",
          "Rural",
          "Rural",
          "Rural",
          "Rural",
          "Rural",
          "Rural",
          "Rural",
          "Rural",
          "Rural",
          "Rural",
          "Rural",
          "Rural",
          "Rural",
          "Rural",
          "Rural",
          "Rural",
          "Rural",
          "Rural",
          "Rural",
          "Rural",
          "Rural",
          "Rural",
          "Rural",
          "Rural",
          "Rural",
          "Rural",
          "Rural",
          "Rural",
          "Rural",
          "Rural",
          "Rural",
          "Rural",
          "Rural",
          "Rural",
          "Rural",
          "Rural",
          "Rural",
          "Rural",
          "Rural",
          "Rural",
          "Rural",
          "Rural",
          "Rural",
          "Rural",
          "Rural",
          "Rural",
          "Rural",
          "Rural",
          "Rural",
          "Rural",
          "Rural",
          "Rural",
          "Urban",
          "Urban",
          "Urban",
          "Urban",
          "Urban",
          "Urban",
          "Urban",
          "Urban",
          "Urban",
          "Urban",
          "Urban",
          "Urban",
          "Urban",
          "Urban",
          "Urban",
          "Urban",
          "Urban",
          "Urban",
          "Urban",
          "Urban",
          "Urban",
          "Urban",
          "Urban",
          "Urban",
          "Urban",
          "Urban",
          "Urban",
          "Urban",
          "Urban",
          "Urban",
          "Urban",
          "Urban",
          "Urban",
          "Urban",
          "Urban",
          "Urban",
          "Urban",
          "Urban",
          "Urban",
          "Urban",
          "Urban",
          "Urban",
          "Urban",
          "Urban",
          "Urban",
          "Urban",
          "Urban",
          "Urban",
          "Urban",
          "Urban",
          "Urban",
          "Urban",
          "Urban",
          "Urban",
          "Urban",
          "Urban",
          "Urban",
          "Urban",
          "Urban",
          "Urban",
          "Urban",
          "Urban",
          "Urban",
          "Urban",
          "Urban",
          "Urban",
          "Urban",
          "Urban",
          "Urban",
          "Urban",
          "Urban",
          "Urban",
          "Urban",
          "Urban",
          "Urban",
          "Urban",
          "Urban",
          "Urban",
          "Urban",
          "Urban",
          "Urban",
          "Urban",
          "Urban",
          "Urban",
          "Urban",
          "Urban",
          "Urban",
          "Urban",
          "Urban",
          "Urban",
          "Urban",
          "Urban",
          "Urban",
          "Urban",
          "Urban",
          "Urban",
          "Urban",
          "Urban",
          "Urban",
          "Urban",
          "Urban",
          "Urban",
          "Urban",
          "Urban",
          "Urban",
          "Urban",
          "Urban",
          "Urban",
          "Urban",
          "Urban",
          "Urban",
          "Urban",
          "Urban",
          "Urban",
          "Urban",
          "Urban",
          "Urban",
          "Urban",
          "Urban",
          "Urban",
          "Urban",
          "Urban",
          "Urban",
          "Urban",
          "Urban",
          "Urban",
          "Urban",
          "Urban",
          "Urban",
          "Urban",
          "Urban",
          "Urban",
          "Urban",
          "Urban",
          "Urban",
          "Urban",
          "Urban",
          "Urban",
          "Urban",
          "Urban",
          "Urban",
          "Urban",
          "Urban",
          "Urban",
          "Urban",
          "Urban",
          "Urban",
          "Urban",
          "Urban",
          "Urban",
          "Urban",
          "Urban",
          "Urban",
          "Urban",
          "Urban",
          "Urban",
          "Urban",
          "Urban",
          "Urban",
          "Urban",
          "Urban",
          "Urban",
          "Urban",
          "Urban",
          "Urban",
          "Urban",
          "Urban",
          "Urban",
          "Urban",
          "Urban",
          "Urban",
          "Urban",
          "Urban",
          "Urban",
          "Urban",
          "Urban",
          "Urban",
          "Urban",
          "Urban",
          "Urban",
          "Urban",
          "Urban",
          "Urban",
          "Urban",
          "Urban",
          "Urban",
          "Urban",
          "Urban",
          "Urban",
          "Urban",
          "Urban",
          "Urban",
          "Urban",
          "Urban",
          "Urban",
          "Urban",
          "Urban",
          "Urban",
          "Urban",
          "Urban",
          "Urban",
          "Urban",
          "Urban",
          "Urban",
          "Urban",
          "Urban",
          "Urban",
          "Urban",
          "Urban",
          "Urban",
          "Urban",
          "Urban",
          "Urban",
          "Urban",
          "Urban",
          "Urban",
          "Urban",
          "Urban",
          "Urban",
          "Urban",
          "Urban",
          "Urban",
          "Urban",
          "Urban",
          "Urban",
          "Urban",
          "Urban",
          "Urban",
          "Urban",
          "Urban",
          "Urban",
          "Urban",
          "Urban",
          "Urban",
          "Urban",
          "Urban",
          "Urban",
          "Urban",
          "Urban",
          "Urban",
          "Urban",
          "Urban",
          "Urban",
          "Urban",
          "Urban",
          "Urban",
          "Urban",
          "Urban",
          "Urban",
          "Urban",
          "Urban",
          "Urban",
          "Urban",
          "Urban",
          "Urban",
          "Urban",
          "Urban",
          "Urban",
          "Urban",
          "Urban",
          "Urban",
          "Urban",
          "Urban",
          "Urban",
          "Urban",
          "Urban",
          "Urban",
          "Urban",
          "Urban",
          "Urban",
          "Urban",
          "Urban",
          "Urban",
          "Urban",
          "Urban",
          "Urban",
          "Urban",
          "Urban",
          "Urban",
          "Urban",
          "Urban",
          "Urban",
          "Urban",
          "Urban",
          "Urban",
          "Urban",
          "Urban",
          "Urban",
          "Urban",
          "Urban",
          "Urban",
          "Urban",
          "Urban",
          "Urban",
          "Urban",
          "Urban",
          "Urban",
          "Urban",
          "Urban",
          "Urban",
          "Urban",
          "Urban",
          "Urban",
          "Urban",
          "Urban",
          "Urban",
          "Urban",
          "Urban",
          "Urban",
          "Urban",
          "Urban",
          "Urban",
          "Urban",
          "Urban",
          "Urban",
          "Urban",
          "Urban",
          "Urban",
          "Urban",
          "Urban",
          "Urban",
          "Urban",
          "Urban",
          "Urban",
          "Urban",
          "Urban",
          "Urban",
          "Urban",
          "Urban",
          "Urban",
          "Urban",
          "Urban",
          "Urban",
          "Urban",
          "Urban",
          "Urban",
          "Urban",
          "Urban",
          "Urban",
          "Urban",
          "Urban",
          "Urban",
          "Urban",
          "Urban",
          "Urban",
          "Urban",
          "Urban",
          "Urban",
          "Urban",
          "Urban",
          "Urban",
          "Urban",
          "Urban",
          "Urban",
          "Urban",
          "Urban",
          "Urban",
          "Urban",
          "Urban",
          "Urban",
          "Urban",
          "Urban",
          "Urban",
          "Urban",
          "Urban",
          "Urban",
          "Urban",
          "Urban",
          "Urban",
          "Urban",
          "Urban",
          "Urban",
          "Urban",
          "Urban",
          "Urban",
          "Urban",
          "Urban",
          "Urban",
          "Urban",
          "Urban",
          "Urban"
         ],
         "legendgroup": "",
         "name": "",
         "showlegend": true,
         "type": "pie",
         "values": [
          3.65,
          3.05,
          3.75,
          3.32,
          5.17,
          3.52,
          4.12,
          4.38,
          4.84,
          5.91,
          4.06,
          16.29,
          14.46,
          0.85,
          4.29,
          5.08,
          4.26,
          5.79,
          4.46,
          4.65,
          4.66,
          4.29,
          3.26,
          3.77,
          9.38,
          0,
          9.27,
          10.2,
          13.44,
          11,
          8.87,
          12.47,
          12.4,
          10.16,
          9.13,
          9.61,
          15.39,
          45.09,
          47.26,
          20.49,
          9.82,
          6.76,
          4.54,
          4.64,
          8.33,
          6.96,
          2.77,
          6.11,
          9.89,
          7.89,
          7.31,
          0,
          7.64,
          10.14,
          12.56,
          9.33,
          11.07,
          17.18,
          12.5,
          15.84,
          11.11,
          16.97,
          13.48,
          13.81,
          15.18,
          20.69,
          22.76,
          21.14,
          2.91,
          5.45,
          10.98,
          1.98,
          3.61,
          7.21,
          23.71,
          3.54,
          5.38,
          0,
          15.91,
          20,
          2.88,
          4.77,
          4.58,
          3.7,
          6.29,
          4.91,
          4.68,
          3.46,
          5.35,
          6.64,
          7.59,
          12,
          14.58,
          1.41,
          14.54,
          23.08,
          16.22,
          30.94,
          16.36,
          24.17,
          16.59,
          29.56,
          16.21,
          27.19,
          23.92,
          41.61,
          34.22,
          35.57,
          13.68,
          11.43,
          20.59,
          18.56,
          15.98,
          15.81,
          22.86,
          19.46,
          16.67,
          15.42,
          17.71,
          2.13,
          25.64,
          1.12,
          12.78,
          12.09,
          13.67,
          11.32,
          19.27,
          14.73,
          22.19,
          21.23,
          16,
          2.22,
          18.97,
          7.11,
          8.46,
          9.98,
          12.06,
          7.12,
          6.57,
          8.07,
          15.15,
          6.16,
          9.06,
          5.01,
          41.72,
          55.1,
          21.53,
          5.46,
          5.98,
          0.52,
          0.37,
          3.2,
          7.13,
          1.19,
          0.41,
          2.57,
          4.11,
          2.39,
          33.17,
          23.72,
          10.92,
          6.63,
          9,
          4.95,
          10.32,
          5.35,
          9.14,
          5,
          10.77,
          4.11,
          8.91,
          8.85,
          10.71,
          23.38,
          27.66,
          3.63,
          4.25,
          3.92,
          4.94,
          3.08,
          2.98,
          2.72,
          2.94,
          3.66,
          4.42,
          1.19,
          12.5,
          22.46,
          6.46,
          3.67,
          4.34,
          3.66,
          3.76,
          4.4,
          3.81,
          3.68,
          3.03,
          3.8,
          4.24,
          5.38,
          25.28,
          16.89,
          9.4,
          3.16,
          4.23,
          1.03,
          0.52,
          0.24,
          3.7,
          1.5,
          1.8,
          0.97,
          2.76,
          1.28,
          8.38,
          3.73,
          1.35,
          4.17,
          4.71,
          3.31,
          3.68,
          4.31,
          4.28,
          4.72,
          4.67,
          1.81,
          3.31,
          15.09,
          24.48,
          9.45,
          4.59,
          0,
          0,
          0,
          4.85,
          0,
          1.18,
          0,
          1.99,
          0.58,
          1.74,
          2.31,
          74.51,
          9.17,
          12.21,
          9.64,
          6.69,
          8.59,
          12.56,
          7.07,
          6.13,
          9.69,
          10.41,
          10.51,
          3.69,
          40.59,
          20,
          4.03,
          13.7,
          9.7,
          12.5,
          5.45,
          14.66,
          10.47,
          13.96,
          8,
          14.48,
          9.47,
          12.25,
          10.45,
          13.86,
          5.48,
          13.11,
          1,
          0,
          5.81,
          0.97,
          0.92,
          6.01,
          2.91,
          1.71,
          1.46,
          2.46,
          3.73,
          1.18,
          1.17,
          6.36,
          53.19,
          38.73,
          2.06,
          2.23,
          5.92,
          2.45,
          1.4,
          5.49,
          7.29,
          6.47,
          1.35,
          5.02,
          9.02,
          5.63,
          4.51,
          34.01,
          19.3,
          29.25,
          26.64,
          22.47,
          25.49,
          30.23,
          27.54,
          25.25,
          26.53,
          31.91,
          26.22,
          31.61,
          43.64,
          14.71,
          18.84,
          10.26,
          11.13,
          9.19,
          11.47,
          6.45,
          10.18,
          6.94,
          8.43,
          6.06,
          8.12,
          9.37,
          19.92,
          16.89,
          8.51,
          1.63,
          4.65,
          5.74,
          6.11,
          3.47,
          4.83,
          5.56,
          4.52,
          4.17,
          4.85,
          3.66,
          3.57,
          10.71,
          6.02,
          5.85,
          5.62,
          5.58,
          5.26,
          6.78,
          5.83,
          5.79,
          6.79,
          3.78,
          7.02,
          18.32,
          18.43,
          4.94,
          6.09,
          3.8,
          5.64,
          4.61,
          6.01,
          4.7,
          7.54,
          7.88,
          7.11,
          5.66,
          9.88,
          32.3,
          24.91,
          5.86,
          7.87,
          9.89,
          3.21,
          10.39,
          9.26,
          11.17,
          6.31,
          5.02,
          7.24,
          9.98,
          10.34,
          8.37,
          10.77,
          3.42,
          19.9,
          13.29,
          16.41,
          17.66,
          20.46,
          14.06,
          17.62,
          14.91,
          20.69,
          15.11,
          15.73,
          58.77,
          37.87,
          12.45,
          18.35,
          12.4,
          21.8,
          9.52,
          20.14,
          13.99,
          22.05,
          8.33,
          20,
          16.67,
          21.43,
          7.22,
          9.77,
          11.77,
          8.17,
          6.29,
          9.46,
          10.27,
          8.32,
          3.57,
          9.01,
          9.79,
          8.21,
          20.13,
          24.1,
          27.07,
          12.31,
          12.76,
          14.68,
          13.52,
          20.59,
          12.41,
          16.11,
          11.07,
          22.45,
          14.86,
          17.09,
          16.51,
          45.78,
          18.11,
          2.75,
          13.33,
          12.28,
          4.9,
          3.16,
          12.31,
          25.2,
          16.22,
          10.92,
          4.31,
          4.76,
          11.76,
          4.09,
          6.31,
          5.15,
          4.2,
          5.96,
          5.45,
          7.53,
          5.71,
          5.82,
          6.04,
          5.39,
          25.94,
          11.62,
          4.54,
          24.67,
          20.42,
          25.45,
          24.19,
          26.84,
          21.04,
          27.06,
          23.65,
          27.24,
          23.29,
          27.14,
          46.89,
          38.46,
          29.41,
          10.88,
          21.43,
          21.51,
          24.48,
          12,
          23.77,
          27.27,
          25.32,
          18.15,
          27.31,
          26.44,
          2.7,
          50,
          10.81,
          23.04,
          19.88,
          21.55,
          24.06,
          14.29,
          7.02,
          18.54,
          19.86,
          14.29,
          12.96,
          17.23,
          20.51,
          15.67,
          20.25,
          21.16,
          19.05,
          17.34,
          22.01,
          22.96,
          19.67,
          16.4,
          61.48,
          70.17,
          19.38,
          6.56,
          5,
          2.29,
          1.27,
          3.57,
          3.87,
          3.44,
          1.56,
          3.31,
          2.88,
          4.92,
          25.12,
          15.88,
          6.12,
          6.11,
          6.67,
          7.58,
          7.69,
          5.52,
          5.35,
          6.71,
          7.31,
          6.65,
          6.08,
          9.14,
          21.43,
          30.28,
          12.17,
          3.91,
          6.38,
          7.38,
          6.82,
          7,
          4.4,
          6.06,
          6.2,
          5.17,
          4.96,
          4.8,
          11.94,
          40.49,
          12.72,
          6.08,
          6.46,
          6.35,
          7.57,
          7.6,
          7.51,
          7.6,
          7.83,
          6.67,
          5.34,
          6.34,
          14.99,
          15.92,
          10.01,
          8.4,
          8.66,
          4.43,
          5.8,
          5.3,
          7.2,
          3.02,
          5.21,
          4.76,
          7.37,
          2.8,
          17.39,
          14.58,
          2.95,
          2.63,
          1.78,
          3.5,
          3.78,
          4.5,
          2.23,
          3.36,
          2.28,
          2.19,
          3.96,
          20.5,
          10,
          2.18,
          1.25,
          0,
          0,
          8.95,
          1.22,
          1.17,
          1.37,
          5.21,
          0.57,
          1.78,
          0.62,
          76.74,
          75,
          4.55,
          13.49,
          13.17,
          11.61,
          11.99,
          15.69,
          13.75,
          10.39,
          11.97,
          13.68,
          11.99,
          9.97,
          1.13,
          20.54,
          10.55,
          13.62,
          14.36,
          11.67,
          14.71,
          12.63,
          13.02,
          14.3,
          18.04,
          18.82,
          17.02,
          18.54,
          35.53,
          25.35,
          13.04,
          8.2,
          7.76,
          2.56,
          4.82,
          4.81,
          9.68,
          4.04,
          7.37,
          20.45,
          5.77,
          19.75,
          2.63,
          0.89,
          1.56,
          3.18,
          9.53,
          1.86,
          1.13,
          2.65,
          8.05,
          2.05,
          3.31,
          6.46,
          45.55,
          25.95,
          24.93,
          1.52,
          1.43,
          3.73,
          4.19,
          6.19,
          6.74,
          5.23,
          4.22,
          6.49,
          6.74,
          6.1,
          10.5,
          36.57,
          6.92,
          34.69,
          25.59,
          25.81,
          33.45,
          33.57,
          26.67,
          27.15,
          33.48,
          34.37,
          33.88,
          25.69,
          34.88,
          16.78,
          27.47,
          14.4,
          11.62,
          11.8,
          14.73,
          13.58,
          10.35,
          11.31,
          12.37,
          12.34,
          11.65,
          12.32,
          26.94,
          32.06,
          13.05,
          9.17,
          4.69,
          6.94,
          7.43,
          9.62,
          4.72,
          6.34,
          7.39,
          8.92,
          5.28,
          8.15,
          13.18,
          17.36,
          5.08,
          7.25,
          7.38,
          7.91,
          7.27,
          7.79,
          7.83,
          6.61,
          7.24,
          7.27,
          7.55,
          6.67,
          15.63,
          15.22,
          9.86
         ]
        }
       ],
       "layout": {
        "legend": {
         "tracegroupgap": 0
        },
        "template": {
         "data": {
          "bar": [
           {
            "error_x": {
             "color": "#2a3f5f"
            },
            "error_y": {
             "color": "#2a3f5f"
            },
            "marker": {
             "line": {
              "color": "#E5ECF6",
              "width": 0.5
             },
             "pattern": {
              "fillmode": "overlay",
              "size": 10,
              "solidity": 0.2
             }
            },
            "type": "bar"
           }
          ],
          "barpolar": [
           {
            "marker": {
             "line": {
              "color": "#E5ECF6",
              "width": 0.5
             },
             "pattern": {
              "fillmode": "overlay",
              "size": 10,
              "solidity": 0.2
             }
            },
            "type": "barpolar"
           }
          ],
          "carpet": [
           {
            "aaxis": {
             "endlinecolor": "#2a3f5f",
             "gridcolor": "white",
             "linecolor": "white",
             "minorgridcolor": "white",
             "startlinecolor": "#2a3f5f"
            },
            "baxis": {
             "endlinecolor": "#2a3f5f",
             "gridcolor": "white",
             "linecolor": "white",
             "minorgridcolor": "white",
             "startlinecolor": "#2a3f5f"
            },
            "type": "carpet"
           }
          ],
          "choropleth": [
           {
            "colorbar": {
             "outlinewidth": 0,
             "ticks": ""
            },
            "type": "choropleth"
           }
          ],
          "contour": [
           {
            "colorbar": {
             "outlinewidth": 0,
             "ticks": ""
            },
            "colorscale": [
             [
              0,
              "#0d0887"
             ],
             [
              0.1111111111111111,
              "#46039f"
             ],
             [
              0.2222222222222222,
              "#7201a8"
             ],
             [
              0.3333333333333333,
              "#9c179e"
             ],
             [
              0.4444444444444444,
              "#bd3786"
             ],
             [
              0.5555555555555556,
              "#d8576b"
             ],
             [
              0.6666666666666666,
              "#ed7953"
             ],
             [
              0.7777777777777778,
              "#fb9f3a"
             ],
             [
              0.8888888888888888,
              "#fdca26"
             ],
             [
              1,
              "#f0f921"
             ]
            ],
            "type": "contour"
           }
          ],
          "contourcarpet": [
           {
            "colorbar": {
             "outlinewidth": 0,
             "ticks": ""
            },
            "type": "contourcarpet"
           }
          ],
          "heatmap": [
           {
            "colorbar": {
             "outlinewidth": 0,
             "ticks": ""
            },
            "colorscale": [
             [
              0,
              "#0d0887"
             ],
             [
              0.1111111111111111,
              "#46039f"
             ],
             [
              0.2222222222222222,
              "#7201a8"
             ],
             [
              0.3333333333333333,
              "#9c179e"
             ],
             [
              0.4444444444444444,
              "#bd3786"
             ],
             [
              0.5555555555555556,
              "#d8576b"
             ],
             [
              0.6666666666666666,
              "#ed7953"
             ],
             [
              0.7777777777777778,
              "#fb9f3a"
             ],
             [
              0.8888888888888888,
              "#fdca26"
             ],
             [
              1,
              "#f0f921"
             ]
            ],
            "type": "heatmap"
           }
          ],
          "heatmapgl": [
           {
            "colorbar": {
             "outlinewidth": 0,
             "ticks": ""
            },
            "colorscale": [
             [
              0,
              "#0d0887"
             ],
             [
              0.1111111111111111,
              "#46039f"
             ],
             [
              0.2222222222222222,
              "#7201a8"
             ],
             [
              0.3333333333333333,
              "#9c179e"
             ],
             [
              0.4444444444444444,
              "#bd3786"
             ],
             [
              0.5555555555555556,
              "#d8576b"
             ],
             [
              0.6666666666666666,
              "#ed7953"
             ],
             [
              0.7777777777777778,
              "#fb9f3a"
             ],
             [
              0.8888888888888888,
              "#fdca26"
             ],
             [
              1,
              "#f0f921"
             ]
            ],
            "type": "heatmapgl"
           }
          ],
          "histogram": [
           {
            "marker": {
             "pattern": {
              "fillmode": "overlay",
              "size": 10,
              "solidity": 0.2
             }
            },
            "type": "histogram"
           }
          ],
          "histogram2d": [
           {
            "colorbar": {
             "outlinewidth": 0,
             "ticks": ""
            },
            "colorscale": [
             [
              0,
              "#0d0887"
             ],
             [
              0.1111111111111111,
              "#46039f"
             ],
             [
              0.2222222222222222,
              "#7201a8"
             ],
             [
              0.3333333333333333,
              "#9c179e"
             ],
             [
              0.4444444444444444,
              "#bd3786"
             ],
             [
              0.5555555555555556,
              "#d8576b"
             ],
             [
              0.6666666666666666,
              "#ed7953"
             ],
             [
              0.7777777777777778,
              "#fb9f3a"
             ],
             [
              0.8888888888888888,
              "#fdca26"
             ],
             [
              1,
              "#f0f921"
             ]
            ],
            "type": "histogram2d"
           }
          ],
          "histogram2dcontour": [
           {
            "colorbar": {
             "outlinewidth": 0,
             "ticks": ""
            },
            "colorscale": [
             [
              0,
              "#0d0887"
             ],
             [
              0.1111111111111111,
              "#46039f"
             ],
             [
              0.2222222222222222,
              "#7201a8"
             ],
             [
              0.3333333333333333,
              "#9c179e"
             ],
             [
              0.4444444444444444,
              "#bd3786"
             ],
             [
              0.5555555555555556,
              "#d8576b"
             ],
             [
              0.6666666666666666,
              "#ed7953"
             ],
             [
              0.7777777777777778,
              "#fb9f3a"
             ],
             [
              0.8888888888888888,
              "#fdca26"
             ],
             [
              1,
              "#f0f921"
             ]
            ],
            "type": "histogram2dcontour"
           }
          ],
          "mesh3d": [
           {
            "colorbar": {
             "outlinewidth": 0,
             "ticks": ""
            },
            "type": "mesh3d"
           }
          ],
          "parcoords": [
           {
            "line": {
             "colorbar": {
              "outlinewidth": 0,
              "ticks": ""
             }
            },
            "type": "parcoords"
           }
          ],
          "pie": [
           {
            "automargin": true,
            "type": "pie"
           }
          ],
          "scatter": [
           {
            "fillpattern": {
             "fillmode": "overlay",
             "size": 10,
             "solidity": 0.2
            },
            "type": "scatter"
           }
          ],
          "scatter3d": [
           {
            "line": {
             "colorbar": {
              "outlinewidth": 0,
              "ticks": ""
             }
            },
            "marker": {
             "colorbar": {
              "outlinewidth": 0,
              "ticks": ""
             }
            },
            "type": "scatter3d"
           }
          ],
          "scattercarpet": [
           {
            "marker": {
             "colorbar": {
              "outlinewidth": 0,
              "ticks": ""
             }
            },
            "type": "scattercarpet"
           }
          ],
          "scattergeo": [
           {
            "marker": {
             "colorbar": {
              "outlinewidth": 0,
              "ticks": ""
             }
            },
            "type": "scattergeo"
           }
          ],
          "scattergl": [
           {
            "marker": {
             "colorbar": {
              "outlinewidth": 0,
              "ticks": ""
             }
            },
            "type": "scattergl"
           }
          ],
          "scattermapbox": [
           {
            "marker": {
             "colorbar": {
              "outlinewidth": 0,
              "ticks": ""
             }
            },
            "type": "scattermapbox"
           }
          ],
          "scatterpolar": [
           {
            "marker": {
             "colorbar": {
              "outlinewidth": 0,
              "ticks": ""
             }
            },
            "type": "scatterpolar"
           }
          ],
          "scatterpolargl": [
           {
            "marker": {
             "colorbar": {
              "outlinewidth": 0,
              "ticks": ""
             }
            },
            "type": "scatterpolargl"
           }
          ],
          "scatterternary": [
           {
            "marker": {
             "colorbar": {
              "outlinewidth": 0,
              "ticks": ""
             }
            },
            "type": "scatterternary"
           }
          ],
          "surface": [
           {
            "colorbar": {
             "outlinewidth": 0,
             "ticks": ""
            },
            "colorscale": [
             [
              0,
              "#0d0887"
             ],
             [
              0.1111111111111111,
              "#46039f"
             ],
             [
              0.2222222222222222,
              "#7201a8"
             ],
             [
              0.3333333333333333,
              "#9c179e"
             ],
             [
              0.4444444444444444,
              "#bd3786"
             ],
             [
              0.5555555555555556,
              "#d8576b"
             ],
             [
              0.6666666666666666,
              "#ed7953"
             ],
             [
              0.7777777777777778,
              "#fb9f3a"
             ],
             [
              0.8888888888888888,
              "#fdca26"
             ],
             [
              1,
              "#f0f921"
             ]
            ],
            "type": "surface"
           }
          ],
          "table": [
           {
            "cells": {
             "fill": {
              "color": "#EBF0F8"
             },
             "line": {
              "color": "white"
             }
            },
            "header": {
             "fill": {
              "color": "#C8D4E3"
             },
             "line": {
              "color": "white"
             }
            },
            "type": "table"
           }
          ]
         },
         "layout": {
          "annotationdefaults": {
           "arrowcolor": "#2a3f5f",
           "arrowhead": 0,
           "arrowwidth": 1
          },
          "autotypenumbers": "strict",
          "coloraxis": {
           "colorbar": {
            "outlinewidth": 0,
            "ticks": ""
           }
          },
          "colorscale": {
           "diverging": [
            [
             0,
             "#8e0152"
            ],
            [
             0.1,
             "#c51b7d"
            ],
            [
             0.2,
             "#de77ae"
            ],
            [
             0.3,
             "#f1b6da"
            ],
            [
             0.4,
             "#fde0ef"
            ],
            [
             0.5,
             "#f7f7f7"
            ],
            [
             0.6,
             "#e6f5d0"
            ],
            [
             0.7,
             "#b8e186"
            ],
            [
             0.8,
             "#7fbc41"
            ],
            [
             0.9,
             "#4d9221"
            ],
            [
             1,
             "#276419"
            ]
           ],
           "sequential": [
            [
             0,
             "#0d0887"
            ],
            [
             0.1111111111111111,
             "#46039f"
            ],
            [
             0.2222222222222222,
             "#7201a8"
            ],
            [
             0.3333333333333333,
             "#9c179e"
            ],
            [
             0.4444444444444444,
             "#bd3786"
            ],
            [
             0.5555555555555556,
             "#d8576b"
            ],
            [
             0.6666666666666666,
             "#ed7953"
            ],
            [
             0.7777777777777778,
             "#fb9f3a"
            ],
            [
             0.8888888888888888,
             "#fdca26"
            ],
            [
             1,
             "#f0f921"
            ]
           ],
           "sequentialminus": [
            [
             0,
             "#0d0887"
            ],
            [
             0.1111111111111111,
             "#46039f"
            ],
            [
             0.2222222222222222,
             "#7201a8"
            ],
            [
             0.3333333333333333,
             "#9c179e"
            ],
            [
             0.4444444444444444,
             "#bd3786"
            ],
            [
             0.5555555555555556,
             "#d8576b"
            ],
            [
             0.6666666666666666,
             "#ed7953"
            ],
            [
             0.7777777777777778,
             "#fb9f3a"
            ],
            [
             0.8888888888888888,
             "#fdca26"
            ],
            [
             1,
             "#f0f921"
            ]
           ]
          },
          "colorway": [
           "#636efa",
           "#EF553B",
           "#00cc96",
           "#ab63fa",
           "#FFA15A",
           "#19d3f3",
           "#FF6692",
           "#B6E880",
           "#FF97FF",
           "#FECB52"
          ],
          "font": {
           "color": "#2a3f5f"
          },
          "geo": {
           "bgcolor": "white",
           "lakecolor": "white",
           "landcolor": "#E5ECF6",
           "showlakes": true,
           "showland": true,
           "subunitcolor": "white"
          },
          "hoverlabel": {
           "align": "left"
          },
          "hovermode": "closest",
          "mapbox": {
           "style": "light"
          },
          "paper_bgcolor": "white",
          "plot_bgcolor": "#E5ECF6",
          "polar": {
           "angularaxis": {
            "gridcolor": "white",
            "linecolor": "white",
            "ticks": ""
           },
           "bgcolor": "#E5ECF6",
           "radialaxis": {
            "gridcolor": "white",
            "linecolor": "white",
            "ticks": ""
           }
          },
          "scene": {
           "xaxis": {
            "backgroundcolor": "#E5ECF6",
            "gridcolor": "white",
            "gridwidth": 2,
            "linecolor": "white",
            "showbackground": true,
            "ticks": "",
            "zerolinecolor": "white"
           },
           "yaxis": {
            "backgroundcolor": "#E5ECF6",
            "gridcolor": "white",
            "gridwidth": 2,
            "linecolor": "white",
            "showbackground": true,
            "ticks": "",
            "zerolinecolor": "white"
           },
           "zaxis": {
            "backgroundcolor": "#E5ECF6",
            "gridcolor": "white",
            "gridwidth": 2,
            "linecolor": "white",
            "showbackground": true,
            "ticks": "",
            "zerolinecolor": "white"
           }
          },
          "shapedefaults": {
           "line": {
            "color": "#2a3f5f"
           }
          },
          "ternary": {
           "aaxis": {
            "gridcolor": "white",
            "linecolor": "white",
            "ticks": ""
           },
           "baxis": {
            "gridcolor": "white",
            "linecolor": "white",
            "ticks": ""
           },
           "bgcolor": "#E5ECF6",
           "caxis": {
            "gridcolor": "white",
            "linecolor": "white",
            "ticks": ""
           }
          },
          "title": {
           "x": 0.05
          },
          "xaxis": {
           "automargin": true,
           "gridcolor": "white",
           "linecolor": "white",
           "ticks": "",
           "title": {
            "standoff": 15
           },
           "zerolinecolor": "white",
           "zerolinewidth": 2
          },
          "yaxis": {
           "automargin": true,
           "gridcolor": "white",
           "linecolor": "white",
           "ticks": "",
           "title": {
            "standoff": 15
           },
           "zerolinecolor": "white",
           "zerolinewidth": 2
          }
         }
        },
        "title": {
         "text": "UNEMPLOYEMENT % IN AREA"
        }
       }
      },
      "text/html": [
       "<div>                            <div id=\"0633bfe1-8ed4-44db-8fb9-9588dddbe9d1\" class=\"plotly-graph-div\" style=\"height:525px; width:100%;\"></div>            <script type=\"text/javascript\">                require([\"plotly\"], function(Plotly) {                    window.PLOTLYENV=window.PLOTLYENV || {};                                    if (document.getElementById(\"0633bfe1-8ed4-44db-8fb9-9588dddbe9d1\")) {                    Plotly.newPlot(                        \"0633bfe1-8ed4-44db-8fb9-9588dddbe9d1\",                        [{\"domain\":{\"x\":[0.0,1.0],\"y\":[0.0,1.0]},\"hovertemplate\":\"label=%{label}<br>value=%{value}<extra></extra>\",\"labels\":[\"Rural\",\"Rural\",\"Rural\",\"Rural\",\"Rural\",\"Rural\",\"Rural\",\"Rural\",\"Rural\",\"Rural\",\"Rural\",\"Rural\",\"Rural\",\"Rural\",\"Rural\",\"Rural\",\"Rural\",\"Rural\",\"Rural\",\"Rural\",\"Rural\",\"Rural\",\"Rural\",\"Rural\",\"Rural\",\"Rural\",\"Rural\",\"Rural\",\"Rural\",\"Rural\",\"Rural\",\"Rural\",\"Rural\",\"Rural\",\"Rural\",\"Rural\",\"Rural\",\"Rural\",\"Rural\",\"Rural\",\"Rural\",\"Rural\",\"Rural\",\"Rural\",\"Rural\",\"Rural\",\"Rural\",\"Rural\",\"Rural\",\"Rural\",\"Rural\",\"Rural\",\"Rural\",\"Rural\",\"Rural\",\"Rural\",\"Rural\",\"Rural\",\"Rural\",\"Rural\",\"Rural\",\"Rural\",\"Rural\",\"Rural\",\"Rural\",\"Rural\",\"Rural\",\"Rural\",\"Rural\",\"Rural\",\"Rural\",\"Rural\",\"Rural\",\"Rural\",\"Rural\",\"Rural\",\"Rural\",\"Rural\",\"Rural\",\"Rural\",\"Rural\",\"Rural\",\"Rural\",\"Rural\",\"Rural\",\"Rural\",\"Rural\",\"Rural\",\"Rural\",\"Rural\",\"Rural\",\"Rural\",\"Rural\",\"Rural\",\"Rural\",\"Rural\",\"Rural\",\"Rural\",\"Rural\",\"Rural\",\"Rural\",\"Rural\",\"Rural\",\"Rural\",\"Rural\",\"Rural\",\"Rural\",\"Rural\",\"Rural\",\"Rural\",\"Rural\",\"Rural\",\"Rural\",\"Rural\",\"Rural\",\"Rural\",\"Rural\",\"Rural\",\"Rural\",\"Rural\",\"Rural\",\"Rural\",\"Rural\",\"Rural\",\"Rural\",\"Rural\",\"Rural\",\"Rural\",\"Rural\",\"Rural\",\"Rural\",\"Rural\",\"Rural\",\"Rural\",\"Rural\",\"Rural\",\"Rural\",\"Rural\",\"Rural\",\"Rural\",\"Rural\",\"Rural\",\"Rural\",\"Rural\",\"Rural\",\"Rural\",\"Rural\",\"Rural\",\"Rural\",\"Rural\",\"Rural\",\"Rural\",\"Rural\",\"Rural\",\"Rural\",\"Rural\",\"Rural\",\"Rural\",\"Rural\",\"Rural\",\"Rural\",\"Rural\",\"Rural\",\"Rural\",\"Rural\",\"Rural\",\"Rural\",\"Rural\",\"Rural\",\"Rural\",\"Rural\",\"Rural\",\"Rural\",\"Rural\",\"Rural\",\"Rural\",\"Rural\",\"Rural\",\"Rural\",\"Rural\",\"Rural\",\"Rural\",\"Rural\",\"Rural\",\"Rural\",\"Rural\",\"Rural\",\"Rural\",\"Rural\",\"Rural\",\"Rural\",\"Rural\",\"Rural\",\"Rural\",\"Rural\",\"Rural\",\"Rural\",\"Rural\",\"Rural\",\"Rural\",\"Rural\",\"Rural\",\"Rural\",\"Rural\",\"Rural\",\"Rural\",\"Rural\",\"Rural\",\"Rural\",\"Rural\",\"Rural\",\"Rural\",\"Rural\",\"Rural\",\"Rural\",\"Rural\",\"Rural\",\"Rural\",\"Rural\",\"Rural\",\"Rural\",\"Rural\",\"Rural\",\"Rural\",\"Rural\",\"Rural\",\"Rural\",\"Rural\",\"Rural\",\"Rural\",\"Rural\",\"Rural\",\"Rural\",\"Rural\",\"Rural\",\"Rural\",\"Rural\",\"Rural\",\"Rural\",\"Rural\",\"Rural\",\"Rural\",\"Rural\",\"Rural\",\"Rural\",\"Rural\",\"Rural\",\"Rural\",\"Rural\",\"Rural\",\"Rural\",\"Rural\",\"Rural\",\"Rural\",\"Rural\",\"Rural\",\"Rural\",\"Rural\",\"Rural\",\"Rural\",\"Rural\",\"Rural\",\"Rural\",\"Rural\",\"Rural\",\"Rural\",\"Rural\",\"Rural\",\"Rural\",\"Rural\",\"Rural\",\"Rural\",\"Rural\",\"Rural\",\"Rural\",\"Rural\",\"Rural\",\"Rural\",\"Rural\",\"Rural\",\"Rural\",\"Rural\",\"Rural\",\"Rural\",\"Rural\",\"Rural\",\"Rural\",\"Rural\",\"Rural\",\"Rural\",\"Rural\",\"Rural\",\"Rural\",\"Rural\",\"Rural\",\"Rural\",\"Rural\",\"Rural\",\"Rural\",\"Rural\",\"Rural\",\"Rural\",\"Rural\",\"Rural\",\"Rural\",\"Rural\",\"Rural\",\"Rural\",\"Rural\",\"Rural\",\"Rural\",\"Rural\",\"Rural\",\"Rural\",\"Rural\",\"Rural\",\"Rural\",\"Rural\",\"Rural\",\"Rural\",\"Rural\",\"Rural\",\"Rural\",\"Rural\",\"Rural\",\"Rural\",\"Rural\",\"Rural\",\"Rural\",\"Rural\",\"Rural\",\"Rural\",\"Rural\",\"Rural\",\"Rural\",\"Rural\",\"Rural\",\"Rural\",\"Rural\",\"Rural\",\"Rural\",\"Rural\",\"Rural\",\"Rural\",\"Rural\",\"Rural\",\"Rural\",\"Rural\",\"Rural\",\"Rural\",\"Rural\",\"Rural\",\"Rural\",\"Rural\",\"Rural\",\"Rural\",\"Rural\",\"Rural\",\"Rural\",\"Urban\",\"Urban\",\"Urban\",\"Urban\",\"Urban\",\"Urban\",\"Urban\",\"Urban\",\"Urban\",\"Urban\",\"Urban\",\"Urban\",\"Urban\",\"Urban\",\"Urban\",\"Urban\",\"Urban\",\"Urban\",\"Urban\",\"Urban\",\"Urban\",\"Urban\",\"Urban\",\"Urban\",\"Urban\",\"Urban\",\"Urban\",\"Urban\",\"Urban\",\"Urban\",\"Urban\",\"Urban\",\"Urban\",\"Urban\",\"Urban\",\"Urban\",\"Urban\",\"Urban\",\"Urban\",\"Urban\",\"Urban\",\"Urban\",\"Urban\",\"Urban\",\"Urban\",\"Urban\",\"Urban\",\"Urban\",\"Urban\",\"Urban\",\"Urban\",\"Urban\",\"Urban\",\"Urban\",\"Urban\",\"Urban\",\"Urban\",\"Urban\",\"Urban\",\"Urban\",\"Urban\",\"Urban\",\"Urban\",\"Urban\",\"Urban\",\"Urban\",\"Urban\",\"Urban\",\"Urban\",\"Urban\",\"Urban\",\"Urban\",\"Urban\",\"Urban\",\"Urban\",\"Urban\",\"Urban\",\"Urban\",\"Urban\",\"Urban\",\"Urban\",\"Urban\",\"Urban\",\"Urban\",\"Urban\",\"Urban\",\"Urban\",\"Urban\",\"Urban\",\"Urban\",\"Urban\",\"Urban\",\"Urban\",\"Urban\",\"Urban\",\"Urban\",\"Urban\",\"Urban\",\"Urban\",\"Urban\",\"Urban\",\"Urban\",\"Urban\",\"Urban\",\"Urban\",\"Urban\",\"Urban\",\"Urban\",\"Urban\",\"Urban\",\"Urban\",\"Urban\",\"Urban\",\"Urban\",\"Urban\",\"Urban\",\"Urban\",\"Urban\",\"Urban\",\"Urban\",\"Urban\",\"Urban\",\"Urban\",\"Urban\",\"Urban\",\"Urban\",\"Urban\",\"Urban\",\"Urban\",\"Urban\",\"Urban\",\"Urban\",\"Urban\",\"Urban\",\"Urban\",\"Urban\",\"Urban\",\"Urban\",\"Urban\",\"Urban\",\"Urban\",\"Urban\",\"Urban\",\"Urban\",\"Urban\",\"Urban\",\"Urban\",\"Urban\",\"Urban\",\"Urban\",\"Urban\",\"Urban\",\"Urban\",\"Urban\",\"Urban\",\"Urban\",\"Urban\",\"Urban\",\"Urban\",\"Urban\",\"Urban\",\"Urban\",\"Urban\",\"Urban\",\"Urban\",\"Urban\",\"Urban\",\"Urban\",\"Urban\",\"Urban\",\"Urban\",\"Urban\",\"Urban\",\"Urban\",\"Urban\",\"Urban\",\"Urban\",\"Urban\",\"Urban\",\"Urban\",\"Urban\",\"Urban\",\"Urban\",\"Urban\",\"Urban\",\"Urban\",\"Urban\",\"Urban\",\"Urban\",\"Urban\",\"Urban\",\"Urban\",\"Urban\",\"Urban\",\"Urban\",\"Urban\",\"Urban\",\"Urban\",\"Urban\",\"Urban\",\"Urban\",\"Urban\",\"Urban\",\"Urban\",\"Urban\",\"Urban\",\"Urban\",\"Urban\",\"Urban\",\"Urban\",\"Urban\",\"Urban\",\"Urban\",\"Urban\",\"Urban\",\"Urban\",\"Urban\",\"Urban\",\"Urban\",\"Urban\",\"Urban\",\"Urban\",\"Urban\",\"Urban\",\"Urban\",\"Urban\",\"Urban\",\"Urban\",\"Urban\",\"Urban\",\"Urban\",\"Urban\",\"Urban\",\"Urban\",\"Urban\",\"Urban\",\"Urban\",\"Urban\",\"Urban\",\"Urban\",\"Urban\",\"Urban\",\"Urban\",\"Urban\",\"Urban\",\"Urban\",\"Urban\",\"Urban\",\"Urban\",\"Urban\",\"Urban\",\"Urban\",\"Urban\",\"Urban\",\"Urban\",\"Urban\",\"Urban\",\"Urban\",\"Urban\",\"Urban\",\"Urban\",\"Urban\",\"Urban\",\"Urban\",\"Urban\",\"Urban\",\"Urban\",\"Urban\",\"Urban\",\"Urban\",\"Urban\",\"Urban\",\"Urban\",\"Urban\",\"Urban\",\"Urban\",\"Urban\",\"Urban\",\"Urban\",\"Urban\",\"Urban\",\"Urban\",\"Urban\",\"Urban\",\"Urban\",\"Urban\",\"Urban\",\"Urban\",\"Urban\",\"Urban\",\"Urban\",\"Urban\",\"Urban\",\"Urban\",\"Urban\",\"Urban\",\"Urban\",\"Urban\",\"Urban\",\"Urban\",\"Urban\",\"Urban\",\"Urban\",\"Urban\",\"Urban\",\"Urban\",\"Urban\",\"Urban\",\"Urban\",\"Urban\",\"Urban\",\"Urban\",\"Urban\",\"Urban\",\"Urban\",\"Urban\",\"Urban\",\"Urban\",\"Urban\",\"Urban\",\"Urban\",\"Urban\",\"Urban\",\"Urban\",\"Urban\",\"Urban\",\"Urban\",\"Urban\",\"Urban\",\"Urban\",\"Urban\",\"Urban\",\"Urban\",\"Urban\",\"Urban\",\"Urban\",\"Urban\",\"Urban\",\"Urban\",\"Urban\",\"Urban\",\"Urban\",\"Urban\",\"Urban\",\"Urban\",\"Urban\",\"Urban\",\"Urban\",\"Urban\",\"Urban\",\"Urban\",\"Urban\",\"Urban\",\"Urban\",\"Urban\",\"Urban\",\"Urban\",\"Urban\",\"Urban\",\"Urban\",\"Urban\",\"Urban\",\"Urban\",\"Urban\",\"Urban\",\"Urban\",\"Urban\",\"Urban\",\"Urban\",\"Urban\",\"Urban\",\"Urban\",\"Urban\",\"Urban\",\"Urban\",\"Urban\",\"Urban\",\"Urban\",\"Urban\",\"Urban\",\"Urban\"],\"legendgroup\":\"\",\"name\":\"\",\"showlegend\":true,\"values\":[3.65,3.05,3.75,3.32,5.17,3.52,4.12,4.38,4.84,5.91,4.06,16.29,14.46,0.85,4.29,5.08,4.26,5.79,4.46,4.65,4.66,4.29,3.26,3.77,9.38,0.0,9.27,10.2,13.44,11.0,8.87,12.47,12.4,10.16,9.13,9.61,15.39,45.09,47.26,20.49,9.82,6.76,4.54,4.64,8.33,6.96,2.77,6.11,9.89,7.89,7.31,0.0,7.64,10.14,12.56,9.33,11.07,17.18,12.5,15.84,11.11,16.97,13.48,13.81,15.18,20.69,22.76,21.14,2.91,5.45,10.98,1.98,3.61,7.21,23.71,3.54,5.38,0.0,15.91,20.0,2.88,4.77,4.58,3.7,6.29,4.91,4.68,3.46,5.35,6.64,7.59,12.0,14.58,1.41,14.54,23.08,16.22,30.94,16.36,24.17,16.59,29.56,16.21,27.19,23.92,41.61,34.22,35.57,13.68,11.43,20.59,18.56,15.98,15.81,22.86,19.46,16.67,15.42,17.71,2.13,25.64,1.12,12.78,12.09,13.67,11.32,19.27,14.73,22.19,21.23,16.0,2.22,18.97,7.11,8.46,9.98,12.06,7.12,6.57,8.07,15.15,6.16,9.06,5.01,41.72,55.1,21.53,5.46,5.98,0.52,0.37,3.2,7.13,1.19,0.41,2.57,4.11,2.39,33.17,23.72,10.92,6.63,9.0,4.95,10.32,5.35,9.14,5.0,10.77,4.11,8.91,8.85,10.71,23.38,27.66,3.63,4.25,3.92,4.94,3.08,2.98,2.72,2.94,3.66,4.42,1.19,12.5,22.46,6.46,3.67,4.34,3.66,3.76,4.4,3.81,3.68,3.03,3.8,4.24,5.38,25.28,16.89,9.4,3.16,4.23,1.03,0.52,0.24,3.7,1.5,1.8,0.97,2.76,1.28,8.38,3.73,1.35,4.17,4.71,3.31,3.68,4.31,4.28,4.72,4.67,1.81,3.31,15.09,24.48,9.45,4.59,0.0,0.0,0.0,4.85,0.0,1.18,0.0,1.99,0.58,1.74,2.31,74.51,9.17,12.21,9.64,6.69,8.59,12.56,7.07,6.13,9.69,10.41,10.51,3.69,40.59,20.0,4.03,13.7,9.7,12.5,5.45,14.66,10.47,13.96,8.0,14.48,9.47,12.25,10.45,13.86,5.48,13.11,1.0,0.0,5.81,0.97,0.92,6.01,2.91,1.71,1.46,2.46,3.73,1.18,1.17,6.36,53.19,38.73,2.06,2.23,5.92,2.45,1.4,5.49,7.29,6.47,1.35,5.02,9.02,5.63,4.51,34.01,19.3,29.25,26.64,22.47,25.49,30.23,27.54,25.25,26.53,31.91,26.22,31.61,43.64,14.71,18.84,10.26,11.13,9.19,11.47,6.45,10.18,6.94,8.43,6.06,8.12,9.37,19.92,16.89,8.51,1.63,4.65,5.74,6.11,3.47,4.83,5.56,4.52,4.17,4.85,3.66,3.57,10.71,6.02,5.85,5.62,5.58,5.26,6.78,5.83,5.79,6.79,3.78,7.02,18.32,18.43,4.94,6.09,3.8,5.64,4.61,6.01,4.7,7.54,7.88,7.11,5.66,9.88,32.3,24.91,5.86,7.87,9.89,3.21,10.39,9.26,11.17,6.31,5.02,7.24,9.98,10.34,8.37,10.77,3.42,19.9,13.29,16.41,17.66,20.46,14.06,17.62,14.91,20.69,15.11,15.73,58.77,37.87,12.45,18.35,12.4,21.8,9.52,20.14,13.99,22.05,8.33,20.0,16.67,21.43,7.22,9.77,11.77,8.17,6.29,9.46,10.27,8.32,3.57,9.01,9.79,8.21,20.13,24.1,27.07,12.31,12.76,14.68,13.52,20.59,12.41,16.11,11.07,22.45,14.86,17.09,16.51,45.78,18.11,2.75,13.33,12.28,4.9,3.16,12.31,25.2,16.22,10.92,4.31,4.76,11.76,4.09,6.31,5.15,4.2,5.96,5.45,7.53,5.71,5.82,6.04,5.39,25.94,11.62,4.54,24.67,20.42,25.45,24.19,26.84,21.04,27.06,23.65,27.24,23.29,27.14,46.89,38.46,29.41,10.88,21.43,21.51,24.48,12.0,23.77,27.27,25.32,18.15,27.31,26.44,2.7,50.0,10.81,23.04,19.88,21.55,24.06,14.29,7.02,18.54,19.86,14.29,12.96,17.23,20.51,15.67,20.25,21.16,19.05,17.34,22.01,22.96,19.67,16.4,61.48,70.17,19.38,6.56,5.0,2.29,1.27,3.57,3.87,3.44,1.56,3.31,2.88,4.92,25.12,15.88,6.12,6.11,6.67,7.58,7.69,5.52,5.35,6.71,7.31,6.65,6.08,9.14,21.43,30.28,12.17,3.91,6.38,7.38,6.82,7.0,4.4,6.06,6.2,5.17,4.96,4.8,11.94,40.49,12.72,6.08,6.46,6.35,7.57,7.6,7.51,7.6,7.83,6.67,5.34,6.34,14.99,15.92,10.01,8.4,8.66,4.43,5.8,5.3,7.2,3.02,5.21,4.76,7.37,2.8,17.39,14.58,2.95,2.63,1.78,3.5,3.78,4.5,2.23,3.36,2.28,2.19,3.96,20.5,10.0,2.18,1.25,0.0,0.0,8.95,1.22,1.17,1.37,5.21,0.57,1.78,0.62,76.74,75.0,4.55,13.49,13.17,11.61,11.99,15.69,13.75,10.39,11.97,13.68,11.99,9.97,1.13,20.54,10.55,13.62,14.36,11.67,14.71,12.63,13.02,14.3,18.04,18.82,17.02,18.54,35.53,25.35,13.04,8.2,7.76,2.56,4.82,4.81,9.68,4.04,7.37,20.45,5.77,19.75,2.63,0.89,1.56,3.18,9.53,1.86,1.13,2.65,8.05,2.05,3.31,6.46,45.55,25.95,24.93,1.52,1.43,3.73,4.19,6.19,6.74,5.23,4.22,6.49,6.74,6.1,10.5,36.57,6.92,34.69,25.59,25.81,33.45,33.57,26.67,27.15,33.48,34.37,33.88,25.69,34.88,16.78,27.47,14.4,11.62,11.8,14.73,13.58,10.35,11.31,12.37,12.34,11.65,12.32,26.94,32.06,13.05,9.17,4.69,6.94,7.43,9.62,4.72,6.34,7.39,8.92,5.28,8.15,13.18,17.36,5.08,7.25,7.38,7.91,7.27,7.79,7.83,6.61,7.24,7.27,7.55,6.67,15.63,15.22,9.86],\"type\":\"pie\"}],                        {\"template\":{\"data\":{\"histogram2dcontour\":[{\"type\":\"histogram2dcontour\",\"colorbar\":{\"outlinewidth\":0,\"ticks\":\"\"},\"colorscale\":[[0.0,\"#0d0887\"],[0.1111111111111111,\"#46039f\"],[0.2222222222222222,\"#7201a8\"],[0.3333333333333333,\"#9c179e\"],[0.4444444444444444,\"#bd3786\"],[0.5555555555555556,\"#d8576b\"],[0.6666666666666666,\"#ed7953\"],[0.7777777777777778,\"#fb9f3a\"],[0.8888888888888888,\"#fdca26\"],[1.0,\"#f0f921\"]]}],\"choropleth\":[{\"type\":\"choropleth\",\"colorbar\":{\"outlinewidth\":0,\"ticks\":\"\"}}],\"histogram2d\":[{\"type\":\"histogram2d\",\"colorbar\":{\"outlinewidth\":0,\"ticks\":\"\"},\"colorscale\":[[0.0,\"#0d0887\"],[0.1111111111111111,\"#46039f\"],[0.2222222222222222,\"#7201a8\"],[0.3333333333333333,\"#9c179e\"],[0.4444444444444444,\"#bd3786\"],[0.5555555555555556,\"#d8576b\"],[0.6666666666666666,\"#ed7953\"],[0.7777777777777778,\"#fb9f3a\"],[0.8888888888888888,\"#fdca26\"],[1.0,\"#f0f921\"]]}],\"heatmap\":[{\"type\":\"heatmap\",\"colorbar\":{\"outlinewidth\":0,\"ticks\":\"\"},\"colorscale\":[[0.0,\"#0d0887\"],[0.1111111111111111,\"#46039f\"],[0.2222222222222222,\"#7201a8\"],[0.3333333333333333,\"#9c179e\"],[0.4444444444444444,\"#bd3786\"],[0.5555555555555556,\"#d8576b\"],[0.6666666666666666,\"#ed7953\"],[0.7777777777777778,\"#fb9f3a\"],[0.8888888888888888,\"#fdca26\"],[1.0,\"#f0f921\"]]}],\"heatmapgl\":[{\"type\":\"heatmapgl\",\"colorbar\":{\"outlinewidth\":0,\"ticks\":\"\"},\"colorscale\":[[0.0,\"#0d0887\"],[0.1111111111111111,\"#46039f\"],[0.2222222222222222,\"#7201a8\"],[0.3333333333333333,\"#9c179e\"],[0.4444444444444444,\"#bd3786\"],[0.5555555555555556,\"#d8576b\"],[0.6666666666666666,\"#ed7953\"],[0.7777777777777778,\"#fb9f3a\"],[0.8888888888888888,\"#fdca26\"],[1.0,\"#f0f921\"]]}],\"contourcarpet\":[{\"type\":\"contourcarpet\",\"colorbar\":{\"outlinewidth\":0,\"ticks\":\"\"}}],\"contour\":[{\"type\":\"contour\",\"colorbar\":{\"outlinewidth\":0,\"ticks\":\"\"},\"colorscale\":[[0.0,\"#0d0887\"],[0.1111111111111111,\"#46039f\"],[0.2222222222222222,\"#7201a8\"],[0.3333333333333333,\"#9c179e\"],[0.4444444444444444,\"#bd3786\"],[0.5555555555555556,\"#d8576b\"],[0.6666666666666666,\"#ed7953\"],[0.7777777777777778,\"#fb9f3a\"],[0.8888888888888888,\"#fdca26\"],[1.0,\"#f0f921\"]]}],\"surface\":[{\"type\":\"surface\",\"colorbar\":{\"outlinewidth\":0,\"ticks\":\"\"},\"colorscale\":[[0.0,\"#0d0887\"],[0.1111111111111111,\"#46039f\"],[0.2222222222222222,\"#7201a8\"],[0.3333333333333333,\"#9c179e\"],[0.4444444444444444,\"#bd3786\"],[0.5555555555555556,\"#d8576b\"],[0.6666666666666666,\"#ed7953\"],[0.7777777777777778,\"#fb9f3a\"],[0.8888888888888888,\"#fdca26\"],[1.0,\"#f0f921\"]]}],\"mesh3d\":[{\"type\":\"mesh3d\",\"colorbar\":{\"outlinewidth\":0,\"ticks\":\"\"}}],\"scatter\":[{\"fillpattern\":{\"fillmode\":\"overlay\",\"size\":10,\"solidity\":0.2},\"type\":\"scatter\"}],\"parcoords\":[{\"type\":\"parcoords\",\"line\":{\"colorbar\":{\"outlinewidth\":0,\"ticks\":\"\"}}}],\"scatterpolargl\":[{\"type\":\"scatterpolargl\",\"marker\":{\"colorbar\":{\"outlinewidth\":0,\"ticks\":\"\"}}}],\"bar\":[{\"error_x\":{\"color\":\"#2a3f5f\"},\"error_y\":{\"color\":\"#2a3f5f\"},\"marker\":{\"line\":{\"color\":\"#E5ECF6\",\"width\":0.5},\"pattern\":{\"fillmode\":\"overlay\",\"size\":10,\"solidity\":0.2}},\"type\":\"bar\"}],\"scattergeo\":[{\"type\":\"scattergeo\",\"marker\":{\"colorbar\":{\"outlinewidth\":0,\"ticks\":\"\"}}}],\"scatterpolar\":[{\"type\":\"scatterpolar\",\"marker\":{\"colorbar\":{\"outlinewidth\":0,\"ticks\":\"\"}}}],\"histogram\":[{\"marker\":{\"pattern\":{\"fillmode\":\"overlay\",\"size\":10,\"solidity\":0.2}},\"type\":\"histogram\"}],\"scattergl\":[{\"type\":\"scattergl\",\"marker\":{\"colorbar\":{\"outlinewidth\":0,\"ticks\":\"\"}}}],\"scatter3d\":[{\"type\":\"scatter3d\",\"line\":{\"colorbar\":{\"outlinewidth\":0,\"ticks\":\"\"}},\"marker\":{\"colorbar\":{\"outlinewidth\":0,\"ticks\":\"\"}}}],\"scattermapbox\":[{\"type\":\"scattermapbox\",\"marker\":{\"colorbar\":{\"outlinewidth\":0,\"ticks\":\"\"}}}],\"scatterternary\":[{\"type\":\"scatterternary\",\"marker\":{\"colorbar\":{\"outlinewidth\":0,\"ticks\":\"\"}}}],\"scattercarpet\":[{\"type\":\"scattercarpet\",\"marker\":{\"colorbar\":{\"outlinewidth\":0,\"ticks\":\"\"}}}],\"carpet\":[{\"aaxis\":{\"endlinecolor\":\"#2a3f5f\",\"gridcolor\":\"white\",\"linecolor\":\"white\",\"minorgridcolor\":\"white\",\"startlinecolor\":\"#2a3f5f\"},\"baxis\":{\"endlinecolor\":\"#2a3f5f\",\"gridcolor\":\"white\",\"linecolor\":\"white\",\"minorgridcolor\":\"white\",\"startlinecolor\":\"#2a3f5f\"},\"type\":\"carpet\"}],\"table\":[{\"cells\":{\"fill\":{\"color\":\"#EBF0F8\"},\"line\":{\"color\":\"white\"}},\"header\":{\"fill\":{\"color\":\"#C8D4E3\"},\"line\":{\"color\":\"white\"}},\"type\":\"table\"}],\"barpolar\":[{\"marker\":{\"line\":{\"color\":\"#E5ECF6\",\"width\":0.5},\"pattern\":{\"fillmode\":\"overlay\",\"size\":10,\"solidity\":0.2}},\"type\":\"barpolar\"}],\"pie\":[{\"automargin\":true,\"type\":\"pie\"}]},\"layout\":{\"autotypenumbers\":\"strict\",\"colorway\":[\"#636efa\",\"#EF553B\",\"#00cc96\",\"#ab63fa\",\"#FFA15A\",\"#19d3f3\",\"#FF6692\",\"#B6E880\",\"#FF97FF\",\"#FECB52\"],\"font\":{\"color\":\"#2a3f5f\"},\"hovermode\":\"closest\",\"hoverlabel\":{\"align\":\"left\"},\"paper_bgcolor\":\"white\",\"plot_bgcolor\":\"#E5ECF6\",\"polar\":{\"bgcolor\":\"#E5ECF6\",\"angularaxis\":{\"gridcolor\":\"white\",\"linecolor\":\"white\",\"ticks\":\"\"},\"radialaxis\":{\"gridcolor\":\"white\",\"linecolor\":\"white\",\"ticks\":\"\"}},\"ternary\":{\"bgcolor\":\"#E5ECF6\",\"aaxis\":{\"gridcolor\":\"white\",\"linecolor\":\"white\",\"ticks\":\"\"},\"baxis\":{\"gridcolor\":\"white\",\"linecolor\":\"white\",\"ticks\":\"\"},\"caxis\":{\"gridcolor\":\"white\",\"linecolor\":\"white\",\"ticks\":\"\"}},\"coloraxis\":{\"colorbar\":{\"outlinewidth\":0,\"ticks\":\"\"}},\"colorscale\":{\"sequential\":[[0.0,\"#0d0887\"],[0.1111111111111111,\"#46039f\"],[0.2222222222222222,\"#7201a8\"],[0.3333333333333333,\"#9c179e\"],[0.4444444444444444,\"#bd3786\"],[0.5555555555555556,\"#d8576b\"],[0.6666666666666666,\"#ed7953\"],[0.7777777777777778,\"#fb9f3a\"],[0.8888888888888888,\"#fdca26\"],[1.0,\"#f0f921\"]],\"sequentialminus\":[[0.0,\"#0d0887\"],[0.1111111111111111,\"#46039f\"],[0.2222222222222222,\"#7201a8\"],[0.3333333333333333,\"#9c179e\"],[0.4444444444444444,\"#bd3786\"],[0.5555555555555556,\"#d8576b\"],[0.6666666666666666,\"#ed7953\"],[0.7777777777777778,\"#fb9f3a\"],[0.8888888888888888,\"#fdca26\"],[1.0,\"#f0f921\"]],\"diverging\":[[0,\"#8e0152\"],[0.1,\"#c51b7d\"],[0.2,\"#de77ae\"],[0.3,\"#f1b6da\"],[0.4,\"#fde0ef\"],[0.5,\"#f7f7f7\"],[0.6,\"#e6f5d0\"],[0.7,\"#b8e186\"],[0.8,\"#7fbc41\"],[0.9,\"#4d9221\"],[1,\"#276419\"]]},\"xaxis\":{\"gridcolor\":\"white\",\"linecolor\":\"white\",\"ticks\":\"\",\"title\":{\"standoff\":15},\"zerolinecolor\":\"white\",\"automargin\":true,\"zerolinewidth\":2},\"yaxis\":{\"gridcolor\":\"white\",\"linecolor\":\"white\",\"ticks\":\"\",\"title\":{\"standoff\":15},\"zerolinecolor\":\"white\",\"automargin\":true,\"zerolinewidth\":2},\"scene\":{\"xaxis\":{\"backgroundcolor\":\"#E5ECF6\",\"gridcolor\":\"white\",\"linecolor\":\"white\",\"showbackground\":true,\"ticks\":\"\",\"zerolinecolor\":\"white\",\"gridwidth\":2},\"yaxis\":{\"backgroundcolor\":\"#E5ECF6\",\"gridcolor\":\"white\",\"linecolor\":\"white\",\"showbackground\":true,\"ticks\":\"\",\"zerolinecolor\":\"white\",\"gridwidth\":2},\"zaxis\":{\"backgroundcolor\":\"#E5ECF6\",\"gridcolor\":\"white\",\"linecolor\":\"white\",\"showbackground\":true,\"ticks\":\"\",\"zerolinecolor\":\"white\",\"gridwidth\":2}},\"shapedefaults\":{\"line\":{\"color\":\"#2a3f5f\"}},\"annotationdefaults\":{\"arrowcolor\":\"#2a3f5f\",\"arrowhead\":0,\"arrowwidth\":1},\"geo\":{\"bgcolor\":\"white\",\"landcolor\":\"#E5ECF6\",\"subunitcolor\":\"white\",\"showland\":true,\"showlakes\":true,\"lakecolor\":\"white\"},\"title\":{\"x\":0.05},\"mapbox\":{\"style\":\"light\"}}},\"legend\":{\"tracegroupgap\":0},\"title\":{\"text\":\"UNEMPLOYEMENT % IN AREA\"}},                        {\"responsive\": true}                    ).then(function(){\n",
       "                            \n",
       "var gd = document.getElementById('0633bfe1-8ed4-44db-8fb9-9588dddbe9d1');\n",
       "var x = new MutationObserver(function (mutations, observer) {{\n",
       "        var display = window.getComputedStyle(gd).display;\n",
       "        if (!display || display === 'none') {{\n",
       "            console.log([gd, 'removed!']);\n",
       "            Plotly.purge(gd);\n",
       "            observer.disconnect();\n",
       "        }}\n",
       "}});\n",
       "\n",
       "// Listen for the removal of the full notebook cells\n",
       "var notebookContainer = gd.closest('#notebook-container');\n",
       "if (notebookContainer) {{\n",
       "    x.observe(notebookContainer, {childList: true});\n",
       "}}\n",
       "\n",
       "// Listen for the clearing of the current output cell\n",
       "var outputEl = gd.closest('.output');\n",
       "if (outputEl) {{\n",
       "    x.observe(outputEl, {childList: true});\n",
       "}}\n",
       "\n",
       "                        })                };                });            </script>        </div>"
      ]
     },
     "metadata": {},
     "output_type": "display_data"
    }
   ],
   "source": [
    "#Used pie chart to analyze the unemployement rate in area(rural or urban)\n",
    "px.pie(unemployement_area,\n",
    "      names = data['Area'],\n",
    "      values = data['Estimated_Unemployment_Rate_(%)'],\n",
    "       title = 'UNEMPLOYEMENT % IN AREA'\n",
    "      )"
   ]
  },
  {
   "cell_type": "code",
   "execution_count": 29,
   "id": "345176a5",
   "metadata": {},
   "outputs": [
    {
     "data": {
      "text/plain": [
       "<Axes: title={'center': 'Average Unemployement rate in area'}, xlabel='Estimated_Unemployment_Rate_(%)', ylabel='Area'>"
      ]
     },
     "execution_count": 29,
     "metadata": {},
     "output_type": "execute_result"
    },
    {
     "data": {
      "image/png": "[encoded data removed]",
      "text/plain": [
       "<Figure size 1500x1000 with 1 Axes>"
      ]
     },
     "metadata": {},
     "output_type": "display_data"
    }
   ],
   "source": [
    "plt.figure(figsize = (15, 10))\n",
    "plt.title('Average Unemployement rate in area')\n",
    "\n",
    "sns.barplot(data = unemployement_area,\n",
    "           y = 'Area',\n",
    "           x = 'Estimated_Unemployment_Rate_(%)',\n",
    "           hue = 'Year',\n",
    "            palette = custom_colour\n",
    "           )\n"
   ]
  },
  {
   "cell_type": "code",
   "execution_count": 30,
   "id": "aa0160b3",
   "metadata": {},
   "outputs": [
    {
     "data": {
      "text/plain": [
       "<Axes: title={'center': 'Estimated Employement rate per area'}, xlabel='Estimated_Employed', ylabel='Count'>"
      ]
     },
     "execution_count": 30,
     "metadata": {},
     "output_type": "execute_result"
    },
    {
     "data": {
      "image/png": "[encoded data removed]",
      "text/plain": [
       "<Figure size 1500x1000 with 1 Axes>"
      ]
     },
     "metadata": {},
     "output_type": "display_data"
    }
   ],
   "source": [
    "plt.style.use(\"dark_background\")\n",
    "plt.figure(figsize = (15, 10))\n",
    "plt.title('Estimated Employement rate per area')\n",
    "\n",
    "colour = ['lightblue', 'lightgreen']\n",
    "\n",
    "sns.histplot(\n",
    "    data = data,\n",
    "    x = 'Estimated_Employed',\n",
    "            hue = 'Area',\n",
    "             kde=True,\n",
    "            palette = colour)"
   ]
  },
  {
   "cell_type": "code",
   "execution_count": 31,
   "id": "b8b4e6cf",
   "metadata": {},
   "outputs": [
    {
     "data": {
      "text/plain": [
       "<Axes: title={'center': 'Estimated Unemployement rate per area'}, xlabel='Estimated_Unemployment_Rate_(%)', ylabel='Count'>"
      ]
     },
     "execution_count": 31,
     "metadata": {},
     "output_type": "execute_result"
    },
    {
     "data": {
      "image/png": "[encoded data removed]",
      "text/plain": [
       "<Figure size 1500x1000 with 1 Axes>"
      ]
     },
     "metadata": {},
     "output_type": "display_data"
    }
   ],
   "source": [
    "\n",
    "plt.figure(figsize = (15, 10))\n",
    "plt.title('Estimated Unemployement rate per area')\n",
    "\n",
    "sns.histplot(\n",
    "    data = data,\n",
    "    x = 'Estimated_Unemployment_Rate_(%)',\n",
    "            hue = 'Area',\n",
    "             kde=True,\n",
    "            palette = colour)"
   ]
  },
  {
   "cell_type": "code",
   "execution_count": 32,
   "id": "4a4e697d",
   "metadata": {},
   "outputs": [
    {
     "data": {
      "text/html": [
       "<div>\n",
       "<style scoped>\n",
       "    .dataframe tbody tr th:only-of-type {\n",
       "        vertical-align: middle;\n",
       "    }\n",
       "\n",
       "    .dataframe tbody tr th {\n",
       "        vertical-align: top;\n",
       "    }\n",
       "\n",
       "    .dataframe thead th {\n",
       "        text-align: right;\n",
       "    }\n",
       "</style>\n",
       "<table border=\"1\" class=\"dataframe\">\n",
       "  <thead>\n",
       "    <tr style=\"text-align: right;\">\n",
       "      <th></th>\n",
       "      <th>Region</th>\n",
       "      <th>Date</th>\n",
       "      <th>Frequency</th>\n",
       "      <th>Estimated Unemployment Rate (%)</th>\n",
       "      <th>Estimated Employed</th>\n",
       "      <th>Estimated Labour Participation Rate (%)</th>\n",
       "      <th>Region.1</th>\n",
       "      <th>longitude</th>\n",
       "      <th>latitude</th>\n",
       "    </tr>\n",
       "  </thead>\n",
       "  <tbody>\n",
       "    <tr>\n",
       "      <th>0</th>\n",
       "      <td>Andhra Pradesh</td>\n",
       "      <td>31-01-2020</td>\n",
       "      <td>M</td>\n",
       "      <td>5.48</td>\n",
       "      <td>16635535</td>\n",
       "      <td>41.02</td>\n",
       "      <td>South</td>\n",
       "      <td>15.9129</td>\n",
       "      <td>79.740</td>\n",
       "    </tr>\n",
       "    <tr>\n",
       "      <th>1</th>\n",
       "      <td>Andhra Pradesh</td>\n",
       "      <td>29-02-2020</td>\n",
       "      <td>M</td>\n",
       "      <td>5.83</td>\n",
       "      <td>16545652</td>\n",
       "      <td>40.90</td>\n",
       "      <td>South</td>\n",
       "      <td>15.9129</td>\n",
       "      <td>79.740</td>\n",
       "    </tr>\n",
       "    <tr>\n",
       "      <th>2</th>\n",
       "      <td>Andhra Pradesh</td>\n",
       "      <td>31-03-2020</td>\n",
       "      <td>M</td>\n",
       "      <td>5.79</td>\n",
       "      <td>15881197</td>\n",
       "      <td>39.18</td>\n",
       "      <td>South</td>\n",
       "      <td>15.9129</td>\n",
       "      <td>79.740</td>\n",
       "    </tr>\n",
       "    <tr>\n",
       "      <th>3</th>\n",
       "      <td>Andhra Pradesh</td>\n",
       "      <td>30-04-2020</td>\n",
       "      <td>M</td>\n",
       "      <td>20.51</td>\n",
       "      <td>11336911</td>\n",
       "      <td>33.10</td>\n",
       "      <td>South</td>\n",
       "      <td>15.9129</td>\n",
       "      <td>79.740</td>\n",
       "    </tr>\n",
       "    <tr>\n",
       "      <th>4</th>\n",
       "      <td>Andhra Pradesh</td>\n",
       "      <td>31-05-2020</td>\n",
       "      <td>M</td>\n",
       "      <td>17.43</td>\n",
       "      <td>12988845</td>\n",
       "      <td>36.46</td>\n",
       "      <td>South</td>\n",
       "      <td>15.9129</td>\n",
       "      <td>79.740</td>\n",
       "    </tr>\n",
       "    <tr>\n",
       "      <th>...</th>\n",
       "      <td>...</td>\n",
       "      <td>...</td>\n",
       "      <td>...</td>\n",
       "      <td>...</td>\n",
       "      <td>...</td>\n",
       "      <td>...</td>\n",
       "      <td>...</td>\n",
       "      <td>...</td>\n",
       "      <td>...</td>\n",
       "    </tr>\n",
       "    <tr>\n",
       "      <th>262</th>\n",
       "      <td>West Bengal</td>\n",
       "      <td>30-06-2020</td>\n",
       "      <td>M</td>\n",
       "      <td>7.29</td>\n",
       "      <td>30726310</td>\n",
       "      <td>40.39</td>\n",
       "      <td>East</td>\n",
       "      <td>22.9868</td>\n",
       "      <td>87.855</td>\n",
       "    </tr>\n",
       "    <tr>\n",
       "      <th>263</th>\n",
       "      <td>West Bengal</td>\n",
       "      <td>31-07-2020</td>\n",
       "      <td>M</td>\n",
       "      <td>6.83</td>\n",
       "      <td>35372506</td>\n",
       "      <td>46.17</td>\n",
       "      <td>East</td>\n",
       "      <td>22.9868</td>\n",
       "      <td>87.855</td>\n",
       "    </tr>\n",
       "    <tr>\n",
       "      <th>264</th>\n",
       "      <td>West Bengal</td>\n",
       "      <td>31-08-2020</td>\n",
       "      <td>M</td>\n",
       "      <td>14.87</td>\n",
       "      <td>33298644</td>\n",
       "      <td>47.48</td>\n",
       "      <td>East</td>\n",
       "      <td>22.9868</td>\n",
       "      <td>87.855</td>\n",
       "    </tr>\n",
       "    <tr>\n",
       "      <th>265</th>\n",
       "      <td>West Bengal</td>\n",
       "      <td>30-09-2020</td>\n",
       "      <td>M</td>\n",
       "      <td>9.35</td>\n",
       "      <td>35707239</td>\n",
       "      <td>47.73</td>\n",
       "      <td>East</td>\n",
       "      <td>22.9868</td>\n",
       "      <td>87.855</td>\n",
       "    </tr>\n",
       "    <tr>\n",
       "      <th>266</th>\n",
       "      <td>West Bengal</td>\n",
       "      <td>31-10-2020</td>\n",
       "      <td>M</td>\n",
       "      <td>9.98</td>\n",
       "      <td>33962549</td>\n",
       "      <td>45.63</td>\n",
       "      <td>East</td>\n",
       "      <td>22.9868</td>\n",
       "      <td>87.855</td>\n",
       "    </tr>\n",
       "  </tbody>\n",
       "</table>\n",
       "<p>267 rows × 9 columns</p>\n",
       "</div>"
      ],
      "text/plain": [
       "             Region         Date  Frequency   Estimated Unemployment Rate (%)  \\\n",
       "0    Andhra Pradesh   31-01-2020          M                              5.48   \n",
       "1    Andhra Pradesh   29-02-2020          M                              5.83   \n",
       "2    Andhra Pradesh   31-03-2020          M                              5.79   \n",
       "3    Andhra Pradesh   30-04-2020          M                             20.51   \n",
       "4    Andhra Pradesh   31-05-2020          M                             17.43   \n",
       "..              ...          ...        ...                               ...   \n",
       "262     West Bengal   30-06-2020          M                              7.29   \n",
       "263     West Bengal   31-07-2020          M                              6.83   \n",
       "264     West Bengal   31-08-2020          M                             14.87   \n",
       "265     West Bengal   30-09-2020          M                              9.35   \n",
       "266     West Bengal   31-10-2020          M                              9.98   \n",
       "\n",
       "      Estimated Employed   Estimated Labour Participation Rate (%) Region.1  \\\n",
       "0               16635535                                     41.02    South   \n",
       "1               16545652                                     40.90    South   \n",
       "2               15881197                                     39.18    South   \n",
       "3               11336911                                     33.10    South   \n",
       "4               12988845                                     36.46    South   \n",
       "..                   ...                                       ...      ...   \n",
       "262             30726310                                     40.39     East   \n",
       "263             35372506                                     46.17     East   \n",
       "264             33298644                                     47.48     East   \n",
       "265             35707239                                     47.73     East   \n",
       "266             33962549                                     45.63     East   \n",
       "\n",
       "     longitude  latitude  \n",
       "0      15.9129    79.740  \n",
       "1      15.9129    79.740  \n",
       "2      15.9129    79.740  \n",
       "3      15.9129    79.740  \n",
       "4      15.9129    79.740  \n",
       "..         ...       ...  \n",
       "262    22.9868    87.855  \n",
       "263    22.9868    87.855  \n",
       "264    22.9868    87.855  \n",
       "265    22.9868    87.855  \n",
       "266    22.9868    87.855  \n",
       "\n",
       "[267 rows x 9 columns]"
      ]
     },
     "execution_count": 32,
     "metadata": {},
     "output_type": "execute_result"
    }
   ],
   "source": [
    "data2 = pd.read_csv(r\"D:\\NIVASH\\My_Projects\\Cogno_rise\\Task 1\\Unemployment_Rate_upto_11_2020.csv\")\n",
    "data2"
   ]
  },
  {
   "cell_type": "code",
   "execution_count": 36,
   "id": "101210fe",
   "metadata": {
    "scrolled": false
   },
   "outputs": [
    {
     "data": {
      "text/html": [
       "<div>\n",
       "<style scoped>\n",
       "    .dataframe tbody tr th:only-of-type {\n",
       "        vertical-align: middle;\n",
       "    }\n",
       "\n",
       "    .dataframe tbody tr th {\n",
       "        vertical-align: top;\n",
       "    }\n",
       "\n",
       "    .dataframe thead th {\n",
       "        text-align: right;\n",
       "    }\n",
       "</style>\n",
       "<table border=\"1\" class=\"dataframe\">\n",
       "  <thead>\n",
       "    <tr style=\"text-align: right;\">\n",
       "      <th></th>\n",
       "      <th>Region</th>\n",
       "      <th>Date</th>\n",
       "      <th>Frequency</th>\n",
       "      <th>Estimated_Unemployment_Rate_(%)</th>\n",
       "      <th>Estimated_Employed</th>\n",
       "      <th>Estimated_Labour_Participation_Rate_(%)</th>\n",
       "      <th>Region.1</th>\n",
       "      <th>longitude</th>\n",
       "      <th>latitude</th>\n",
       "    </tr>\n",
       "  </thead>\n",
       "  <tbody>\n",
       "    <tr>\n",
       "      <th>0</th>\n",
       "      <td>Andhra Pradesh</td>\n",
       "      <td>31-01-2020</td>\n",
       "      <td>M</td>\n",
       "      <td>5.48</td>\n",
       "      <td>16635535</td>\n",
       "      <td>41.02</td>\n",
       "      <td>South</td>\n",
       "      <td>15.9129</td>\n",
       "      <td>79.740</td>\n",
       "    </tr>\n",
       "    <tr>\n",
       "      <th>1</th>\n",
       "      <td>Andhra Pradesh</td>\n",
       "      <td>29-02-2020</td>\n",
       "      <td>M</td>\n",
       "      <td>5.83</td>\n",
       "      <td>16545652</td>\n",
       "      <td>40.90</td>\n",
       "      <td>South</td>\n",
       "      <td>15.9129</td>\n",
       "      <td>79.740</td>\n",
       "    </tr>\n",
       "    <tr>\n",
       "      <th>2</th>\n",
       "      <td>Andhra Pradesh</td>\n",
       "      <td>31-03-2020</td>\n",
       "      <td>M</td>\n",
       "      <td>5.79</td>\n",
       "      <td>15881197</td>\n",
       "      <td>39.18</td>\n",
       "      <td>South</td>\n",
       "      <td>15.9129</td>\n",
       "      <td>79.740</td>\n",
       "    </tr>\n",
       "    <tr>\n",
       "      <th>3</th>\n",
       "      <td>Andhra Pradesh</td>\n",
       "      <td>30-04-2020</td>\n",
       "      <td>M</td>\n",
       "      <td>20.51</td>\n",
       "      <td>11336911</td>\n",
       "      <td>33.10</td>\n",
       "      <td>South</td>\n",
       "      <td>15.9129</td>\n",
       "      <td>79.740</td>\n",
       "    </tr>\n",
       "    <tr>\n",
       "      <th>4</th>\n",
       "      <td>Andhra Pradesh</td>\n",
       "      <td>31-05-2020</td>\n",
       "      <td>M</td>\n",
       "      <td>17.43</td>\n",
       "      <td>12988845</td>\n",
       "      <td>36.46</td>\n",
       "      <td>South</td>\n",
       "      <td>15.9129</td>\n",
       "      <td>79.740</td>\n",
       "    </tr>\n",
       "    <tr>\n",
       "      <th>...</th>\n",
       "      <td>...</td>\n",
       "      <td>...</td>\n",
       "      <td>...</td>\n",
       "      <td>...</td>\n",
       "      <td>...</td>\n",
       "      <td>...</td>\n",
       "      <td>...</td>\n",
       "      <td>...</td>\n",
       "      <td>...</td>\n",
       "    </tr>\n",
       "    <tr>\n",
       "      <th>262</th>\n",
       "      <td>West Bengal</td>\n",
       "      <td>30-06-2020</td>\n",
       "      <td>M</td>\n",
       "      <td>7.29</td>\n",
       "      <td>30726310</td>\n",
       "      <td>40.39</td>\n",
       "      <td>East</td>\n",
       "      <td>22.9868</td>\n",
       "      <td>87.855</td>\n",
       "    </tr>\n",
       "    <tr>\n",
       "      <th>263</th>\n",
       "      <td>West Bengal</td>\n",
       "      <td>31-07-2020</td>\n",
       "      <td>M</td>\n",
       "      <td>6.83</td>\n",
       "      <td>35372506</td>\n",
       "      <td>46.17</td>\n",
       "      <td>East</td>\n",
       "      <td>22.9868</td>\n",
       "      <td>87.855</td>\n",
       "    </tr>\n",
       "    <tr>\n",
       "      <th>264</th>\n",
       "      <td>West Bengal</td>\n",
       "      <td>31-08-2020</td>\n",
       "      <td>M</td>\n",
       "      <td>14.87</td>\n",
       "      <td>33298644</td>\n",
       "      <td>47.48</td>\n",
       "      <td>East</td>\n",
       "      <td>22.9868</td>\n",
       "      <td>87.855</td>\n",
       "    </tr>\n",
       "    <tr>\n",
       "      <th>265</th>\n",
       "      <td>West Bengal</td>\n",
       "      <td>30-09-2020</td>\n",
       "      <td>M</td>\n",
       "      <td>9.35</td>\n",
       "      <td>35707239</td>\n",
       "      <td>47.73</td>\n",
       "      <td>East</td>\n",
       "      <td>22.9868</td>\n",
       "      <td>87.855</td>\n",
       "    </tr>\n",
       "    <tr>\n",
       "      <th>266</th>\n",
       "      <td>West Bengal</td>\n",
       "      <td>31-10-2020</td>\n",
       "      <td>M</td>\n",
       "      <td>9.98</td>\n",
       "      <td>33962549</td>\n",
       "      <td>45.63</td>\n",
       "      <td>East</td>\n",
       "      <td>22.9868</td>\n",
       "      <td>87.855</td>\n",
       "    </tr>\n",
       "  </tbody>\n",
       "</table>\n",
       "<p>267 rows × 9 columns</p>\n",
       "</div>"
      ],
      "text/plain": [
       "             Region         Date Frequency  Estimated_Unemployment_Rate_(%)  \\\n",
       "0    Andhra Pradesh   31-01-2020         M                             5.48   \n",
       "1    Andhra Pradesh   29-02-2020         M                             5.83   \n",
       "2    Andhra Pradesh   31-03-2020         M                             5.79   \n",
       "3    Andhra Pradesh   30-04-2020         M                            20.51   \n",
       "4    Andhra Pradesh   31-05-2020         M                            17.43   \n",
       "..              ...          ...       ...                              ...   \n",
       "262     West Bengal   30-06-2020         M                             7.29   \n",
       "263     West Bengal   31-07-2020         M                             6.83   \n",
       "264     West Bengal   31-08-2020         M                            14.87   \n",
       "265     West Bengal   30-09-2020         M                             9.35   \n",
       "266     West Bengal   31-10-2020         M                             9.98   \n",
       "\n",
       "     Estimated_Employed  Estimated_Labour_Participation_Rate_(%) Region.1  \\\n",
       "0              16635535                                    41.02    South   \n",
       "1              16545652                                    40.90    South   \n",
       "2              15881197                                    39.18    South   \n",
       "3              11336911                                    33.10    South   \n",
       "4              12988845                                    36.46    South   \n",
       "..                  ...                                      ...      ...   \n",
       "262            30726310                                    40.39     East   \n",
       "263            35372506                                    46.17     East   \n",
       "264            33298644                                    47.48     East   \n",
       "265            35707239                                    47.73     East   \n",
       "266            33962549                                    45.63     East   \n",
       "\n",
       "     longitude  latitude  \n",
       "0      15.9129    79.740  \n",
       "1      15.9129    79.740  \n",
       "2      15.9129    79.740  \n",
       "3      15.9129    79.740  \n",
       "4      15.9129    79.740  \n",
       "..         ...       ...  \n",
       "262    22.9868    87.855  \n",
       "263    22.9868    87.855  \n",
       "264    22.9868    87.855  \n",
       "265    22.9868    87.855  \n",
       "266    22.9868    87.855  \n",
       "\n",
       "[267 rows x 9 columns]"
      ]
     },
     "execution_count": 36,
     "metadata": {},
     "output_type": "execute_result"
    }
   ],
   "source": [
    "data2.columns = data2.columns.str.strip()\n",
    "data2.columns = data2.columns.str.replace(' ', '_')\n",
    "data2"
   ]
  },
  {
   "cell_type": "code",
   "execution_count": 37,
   "id": "861b70ba",
   "metadata": {
    "scrolled": false
   },
   "outputs": [
    {
     "data": {
      "text/html": [
       "<div>\n",
       "<style scoped>\n",
       "    .dataframe tbody tr th:only-of-type {\n",
       "        vertical-align: middle;\n",
       "    }\n",
       "\n",
       "    .dataframe tbody tr th {\n",
       "        vertical-align: top;\n",
       "    }\n",
       "\n",
       "    .dataframe thead th {\n",
       "        text-align: right;\n",
       "    }\n",
       "</style>\n",
       "<table border=\"1\" class=\"dataframe\">\n",
       "  <thead>\n",
       "    <tr style=\"text-align: right;\">\n",
       "      <th></th>\n",
       "      <th>Region.1</th>\n",
       "      <th>Estimated_Labour_Participation_Rate_(%)</th>\n",
       "      <th>Estimated_Unemployment_Rate_(%)</th>\n",
       "      <th>Estimated_Employed</th>\n",
       "    </tr>\n",
       "  </thead>\n",
       "  <tbody>\n",
       "    <tr>\n",
       "      <th>0</th>\n",
       "      <td>East</td>\n",
       "      <td>40.108750</td>\n",
       "      <td>13.916000</td>\n",
       "      <td>1.960237e+07</td>\n",
       "    </tr>\n",
       "    <tr>\n",
       "      <th>1</th>\n",
       "      <td>North</td>\n",
       "      <td>38.702658</td>\n",
       "      <td>15.889620</td>\n",
       "      <td>1.307249e+07</td>\n",
       "    </tr>\n",
       "    <tr>\n",
       "      <th>2</th>\n",
       "      <td>Northeast</td>\n",
       "      <td>52.055263</td>\n",
       "      <td>10.950263</td>\n",
       "      <td>3.617106e+06</td>\n",
       "    </tr>\n",
       "    <tr>\n",
       "      <th>3</th>\n",
       "      <td>South</td>\n",
       "      <td>40.436167</td>\n",
       "      <td>10.454667</td>\n",
       "      <td>1.404059e+07</td>\n",
       "    </tr>\n",
       "    <tr>\n",
       "      <th>4</th>\n",
       "      <td>West</td>\n",
       "      <td>41.257000</td>\n",
       "      <td>8.239000</td>\n",
       "      <td>1.862351e+07</td>\n",
       "    </tr>\n",
       "  </tbody>\n",
       "</table>\n",
       "</div>"
      ],
      "text/plain": [
       "    Region.1  Estimated_Labour_Participation_Rate_(%)  \\\n",
       "0       East                                40.108750   \n",
       "1      North                                38.702658   \n",
       "2  Northeast                                52.055263   \n",
       "3      South                                40.436167   \n",
       "4       West                                41.257000   \n",
       "\n",
       "   Estimated_Unemployment_Rate_(%)  Estimated_Employed  \n",
       "0                        13.916000        1.960237e+07  \n",
       "1                        15.889620        1.307249e+07  \n",
       "2                        10.950263        3.617106e+06  \n",
       "3                        10.454667        1.404059e+07  \n",
       "4                         8.239000        1.862351e+07  "
      ]
     },
     "execution_count": 37,
     "metadata": {},
     "output_type": "execute_result"
    }
   ],
   "source": [
    "unemp_dir = data2.groupby(['Region.1']).agg({'Estimated_Labour_Participation_Rate_(%)':'mean', 'Estimated_Unemployment_Rate_(%)':'mean', 'Estimated_Employed':'mean'}).reset_index()\n",
    "unemp_dir"
   ]
  },
  {
   "cell_type": "code",
   "execution_count": 38,
   "id": "59ef5399",
   "metadata": {},
   "outputs": [
    {
     "data": {
      "application/vnd.plotly.v1+json": {
       "config": {
        "plotlyServerURL": "https://plot.ly"
       },
       "data": [
        {
         "alignmentgroup": "True",
         "hovertemplate": "Region.1=%{x}<br>Estimated_Unemployment_Rate_(%)=%{y}<extra></extra>",
         "legendgroup": "East",
         "marker": {
          "color": "#636efa",
          "pattern": {
           "shape": ""
          }
         },
         "name": "East",
         "offsetgroup": "East",
         "orientation": "v",
         "showlegend": true,
         "textposition": "auto",
         "type": "bar",
         "x": [
          "East"
         ],
         "xaxis": "x",
         "y": [
          13.916
         ],
         "yaxis": "y"
        },
        {
         "alignmentgroup": "True",
         "hovertemplate": "Region.1=%{x}<br>Estimated_Unemployment_Rate_(%)=%{y}<extra></extra>",
         "legendgroup": "North",
         "marker": {
          "color": "#EF553B",
          "pattern": {
           "shape": ""
          }
         },
         "name": "North",
         "offsetgroup": "North",
         "orientation": "v",
         "showlegend": true,
         "textposition": "auto",
         "type": "bar",
         "x": [
          "North"
         ],
         "xaxis": "x",
         "y": [
          15.889620253164557
         ],
         "yaxis": "y"
        },
        {
         "alignmentgroup": "True",
         "hovertemplate": "Region.1=%{x}<br>Estimated_Unemployment_Rate_(%)=%{y}<extra></extra>",
         "legendgroup": "Northeast",
         "marker": {
          "color": "#00cc96",
          "pattern": {
           "shape": ""
          }
         },
         "name": "Northeast",
         "offsetgroup": "Northeast",
         "orientation": "v",
         "showlegend": true,
         "textposition": "auto",
         "type": "bar",
         "x": [
          "Northeast"
         ],
         "xaxis": "x",
         "y": [
          10.950263157894737
         ],
         "yaxis": "y"
        },
        {
         "alignmentgroup": "True",
         "hovertemplate": "Region.1=%{x}<br>Estimated_Unemployment_Rate_(%)=%{y}<extra></extra>",
         "legendgroup": "South",
         "marker": {
          "color": "#ab63fa",
          "pattern": {
           "shape": ""
          }
         },
         "name": "South",
         "offsetgroup": "South",
         "orientation": "v",
         "showlegend": true,
         "textposition": "auto",
         "type": "bar",
         "x": [
          "South"
         ],
         "xaxis": "x",
         "y": [
          10.454666666666666
         ],
         "yaxis": "y"
        },
        {
         "alignmentgroup": "True",
         "hovertemplate": "Region.1=%{x}<br>Estimated_Unemployment_Rate_(%)=%{y}<extra></extra>",
         "legendgroup": "West",
         "marker": {
          "color": "#FFA15A",
          "pattern": {
           "shape": ""
          }
         },
         "name": "West",
         "offsetgroup": "West",
         "orientation": "v",
         "showlegend": true,
         "textposition": "auto",
         "type": "bar",
         "x": [
          "West"
         ],
         "xaxis": "x",
         "y": [
          8.238999999999999
         ],
         "yaxis": "y"
        }
       ],
       "layout": {
        "barmode": "relative",
        "legend": {
         "title": {
          "text": "Region.1"
         },
         "tracegroupgap": 0
        },
        "template": {
         "data": {
          "bar": [
           {
            "error_x": {
             "color": "#2a3f5f"
            },
            "error_y": {
             "color": "#2a3f5f"
            },
            "marker": {
             "line": {
              "color": "#E5ECF6",
              "width": 0.5
             },
             "pattern": {
              "fillmode": "overlay",
              "size": 10,
              "solidity": 0.2
             }
            },
            "type": "bar"
           }
          ],
          "barpolar": [
           {
            "marker": {
             "line": {
              "color": "#E5ECF6",
              "width": 0.5
             },
             "pattern": {
              "fillmode": "overlay",
              "size": 10,
              "solidity": 0.2
             }
            },
            "type": "barpolar"
           }
          ],
          "carpet": [
           {
            "aaxis": {
             "endlinecolor": "#2a3f5f",
             "gridcolor": "white",
             "linecolor": "white",
             "minorgridcolor": "white",
             "startlinecolor": "#2a3f5f"
            },
            "baxis": {
             "endlinecolor": "#2a3f5f",
             "gridcolor": "white",
             "linecolor": "white",
             "minorgridcolor": "white",
             "startlinecolor": "#2a3f5f"
            },
            "type": "carpet"
           }
          ],
          "choropleth": [
           {
            "colorbar": {
             "outlinewidth": 0,
             "ticks": ""
            },
            "type": "choropleth"
           }
          ],
          "contour": [
           {
            "colorbar": {
             "outlinewidth": 0,
             "ticks": ""
            },
            "colorscale": [
             [
              0,
              "#0d0887"
             ],
             [
              0.1111111111111111,
              "#46039f"
             ],
             [
              0.2222222222222222,
              "#7201a8"
             ],
             [
              0.3333333333333333,
              "#9c179e"
             ],
             [
              0.4444444444444444,
              "#bd3786"
             ],
             [
              0.5555555555555556,
              "#d8576b"
             ],
             [
              0.6666666666666666,
              "#ed7953"
             ],
             [
              0.7777777777777778,
              "#fb9f3a"
             ],
             [
              0.8888888888888888,
              "#fdca26"
             ],
             [
              1,
              "#f0f921"
             ]
            ],
            "type": "contour"
           }
          ],
          "contourcarpet": [
           {
            "colorbar": {
             "outlinewidth": 0,
             "ticks": ""
            },
            "type": "contourcarpet"
           }
          ],
          "heatmap": [
           {
            "colorbar": {
             "outlinewidth": 0,
             "ticks": ""
            },
            "colorscale": [
             [
              0,
              "#0d0887"
             ],
             [
              0.1111111111111111,
              "#46039f"
             ],
             [
              0.2222222222222222,
              "#7201a8"
             ],
             [
              0.3333333333333333,
              "#9c179e"
             ],
             [
              0.4444444444444444,
              "#bd3786"
             ],
             [
              0.5555555555555556,
              "#d8576b"
             ],
             [
              0.6666666666666666,
              "#ed7953"
             ],
             [
              0.7777777777777778,
              "#fb9f3a"
             ],
             [
              0.8888888888888888,
              "#fdca26"
             ],
             [
              1,
              "#f0f921"
             ]
            ],
            "type": "heatmap"
           }
          ],
          "heatmapgl": [
           {
            "colorbar": {
             "outlinewidth": 0,
             "ticks": ""
            },
            "colorscale": [
             [
              0,
              "#0d0887"
             ],
             [
              0.1111111111111111,
              "#46039f"
             ],
             [
              0.2222222222222222,
              "#7201a8"
             ],
             [
              0.3333333333333333,
              "#9c179e"
             ],
             [
              0.4444444444444444,
              "#bd3786"
             ],
             [
              0.5555555555555556,
              "#d8576b"
             ],
             [
              0.6666666666666666,
              "#ed7953"
             ],
             [
              0.7777777777777778,
              "#fb9f3a"
             ],
             [
              0.8888888888888888,
              "#fdca26"
             ],
             [
              1,
              "#f0f921"
             ]
            ],
            "type": "heatmapgl"
           }
          ],
          "histogram": [
           {
            "marker": {
             "pattern": {
              "fillmode": "overlay",
              "size": 10,
              "solidity": 0.2
             }
            },
            "type": "histogram"
           }
          ],
          "histogram2d": [
           {
            "colorbar": {
             "outlinewidth": 0,
             "ticks": ""
            },
            "colorscale": [
             [
              0,
              "#0d0887"
             ],
             [
              0.1111111111111111,
              "#46039f"
             ],
             [
              0.2222222222222222,
              "#7201a8"
             ],
             [
              0.3333333333333333,
              "#9c179e"
             ],
             [
              0.4444444444444444,
              "#bd3786"
             ],
             [
              0.5555555555555556,
              "#d8576b"
             ],
             [
              0.6666666666666666,
              "#ed7953"
             ],
             [
              0.7777777777777778,
              "#fb9f3a"
             ],
             [
              0.8888888888888888,
              "#fdca26"
             ],
             [
              1,
              "#f0f921"
             ]
            ],
            "type": "histogram2d"
           }
          ],
          "histogram2dcontour": [
           {
            "colorbar": {
             "outlinewidth": 0,
             "ticks": ""
            },
            "colorscale": [
             [
              0,
              "#0d0887"
             ],
             [
              0.1111111111111111,
              "#46039f"
             ],
             [
              0.2222222222222222,
              "#7201a8"
             ],
             [
              0.3333333333333333,
              "#9c179e"
             ],
             [
              0.4444444444444444,
              "#bd3786"
             ],
             [
              0.5555555555555556,
              "#d8576b"
             ],
             [
              0.6666666666666666,
              "#ed7953"
             ],
             [
              0.7777777777777778,
              "#fb9f3a"
             ],
             [
              0.8888888888888888,
              "#fdca26"
             ],
             [
              1,
              "#f0f921"
             ]
            ],
            "type": "histogram2dcontour"
           }
          ],
          "mesh3d": [
           {
            "colorbar": {
             "outlinewidth": 0,
             "ticks": ""
            },
            "type": "mesh3d"
           }
          ],
          "parcoords": [
           {
            "line": {
             "colorbar": {
              "outlinewidth": 0,
              "ticks": ""
             }
            },
            "type": "parcoords"
           }
          ],
          "pie": [
           {
            "automargin": true,
            "type": "pie"
           }
          ],
          "scatter": [
           {
            "fillpattern": {
             "fillmode": "overlay",
             "size": 10,
             "solidity": 0.2
            },
            "type": "scatter"
           }
          ],
          "scatter3d": [
           {
            "line": {
             "colorbar": {
              "outlinewidth": 0,
              "ticks": ""
             }
            },
            "marker": {
             "colorbar": {
              "outlinewidth": 0,
              "ticks": ""
             }
            },
            "type": "scatter3d"
           }
          ],
          "scattercarpet": [
           {
            "marker": {
             "colorbar": {
              "outlinewidth": 0,
              "ticks": ""
             }
            },
            "type": "scattercarpet"
           }
          ],
          "scattergeo": [
           {
            "marker": {
             "colorbar": {
              "outlinewidth": 0,
              "ticks": ""
             }
            },
            "type": "scattergeo"
           }
          ],
          "scattergl": [
           {
            "marker": {
             "colorbar": {
              "outlinewidth": 0,
              "ticks": ""
             }
            },
            "type": "scattergl"
           }
          ],
          "scattermapbox": [
           {
            "marker": {
             "colorbar": {
              "outlinewidth": 0,
              "ticks": ""
             }
            },
            "type": "scattermapbox"
           }
          ],
          "scatterpolar": [
           {
            "marker": {
             "colorbar": {
              "outlinewidth": 0,
              "ticks": ""
             }
            },
            "type": "scatterpolar"
           }
          ],
          "scatterpolargl": [
           {
            "marker": {
             "colorbar": {
              "outlinewidth": 0,
              "ticks": ""
             }
            },
            "type": "scatterpolargl"
           }
          ],
          "scatterternary": [
           {
            "marker": {
             "colorbar": {
              "outlinewidth": 0,
              "ticks": ""
             }
            },
            "type": "scatterternary"
           }
          ],
          "surface": [
           {
            "colorbar": {
             "outlinewidth": 0,
             "ticks": ""
            },
            "colorscale": [
             [
              0,
              "#0d0887"
             ],
             [
              0.1111111111111111,
              "#46039f"
             ],
             [
              0.2222222222222222,
              "#7201a8"
             ],
             [
              0.3333333333333333,
              "#9c179e"
             ],
             [
              0.4444444444444444,
              "#bd3786"
             ],
             [
              0.5555555555555556,
              "#d8576b"
             ],
             [
              0.6666666666666666,
              "#ed7953"
             ],
             [
              0.7777777777777778,
              "#fb9f3a"
             ],
             [
              0.8888888888888888,
              "#fdca26"
             ],
             [
              1,
              "#f0f921"
             ]
            ],
            "type": "surface"
           }
          ],
          "table": [
           {
            "cells": {
             "fill": {
              "color": "#EBF0F8"
             },
             "line": {
              "color": "white"
             }
            },
            "header": {
             "fill": {
              "color": "#C8D4E3"
             },
             "line": {
              "color": "white"
             }
            },
            "type": "table"
           }
          ]
         },
         "layout": {
          "annotationdefaults": {
           "arrowcolor": "#2a3f5f",
           "arrowhead": 0,
           "arrowwidth": 1
          },
          "autotypenumbers": "strict",
          "coloraxis": {
           "colorbar": {
            "outlinewidth": 0,
            "ticks": ""
           }
          },
          "colorscale": {
           "diverging": [
            [
             0,
             "#8e0152"
            ],
            [
             0.1,
             "#c51b7d"
            ],
            [
             0.2,
             "#de77ae"
            ],
            [
             0.3,
             "#f1b6da"
            ],
            [
             0.4,
             "#fde0ef"
            ],
            [
             0.5,
             "#f7f7f7"
            ],
            [
             0.6,
             "#e6f5d0"
            ],
            [
             0.7,
             "#b8e186"
            ],
            [
             0.8,
             "#7fbc41"
            ],
            [
             0.9,
             "#4d9221"
            ],
            [
             1,
             "#276419"
            ]
           ],
           "sequential": [
            [
             0,
             "#0d0887"
            ],
            [
             0.1111111111111111,
             "#46039f"
            ],
            [
             0.2222222222222222,
             "#7201a8"
            ],
            [
             0.3333333333333333,
             "#9c179e"
            ],
            [
             0.4444444444444444,
             "#bd3786"
            ],
            [
             0.5555555555555556,
             "#d8576b"
            ],
            [
             0.6666666666666666,
             "#ed7953"
            ],
            [
             0.7777777777777778,
             "#fb9f3a"
            ],
            [
             0.8888888888888888,
             "#fdca26"
            ],
            [
             1,
             "#f0f921"
            ]
           ],
           "sequentialminus": [
            [
             0,
             "#0d0887"
            ],
            [
             0.1111111111111111,
             "#46039f"
            ],
            [
             0.2222222222222222,
             "#7201a8"
            ],
            [
             0.3333333333333333,
             "#9c179e"
            ],
            [
             0.4444444444444444,
             "#bd3786"
            ],
            [
             0.5555555555555556,
             "#d8576b"
            ],
            [
             0.6666666666666666,
             "#ed7953"
            ],
            [
             0.7777777777777778,
             "#fb9f3a"
            ],
            [
             0.8888888888888888,
             "#fdca26"
            ],
            [
             1,
             "#f0f921"
            ]
           ]
          },
          "colorway": [
           "#636efa",
           "#EF553B",
           "#00cc96",
           "#ab63fa",
           "#FFA15A",
           "#19d3f3",
           "#FF6692",
           "#B6E880",
           "#FF97FF",
           "#FECB52"
          ],
          "font": {
           "color": "#2a3f5f"
          },
          "geo": {
           "bgcolor": "white",
           "lakecolor": "white",
           "landcolor": "#E5ECF6",
           "showlakes": true,
           "showland": true,
           "subunitcolor": "white"
          },
          "hoverlabel": {
           "align": "left"
          },
          "hovermode": "closest",
          "mapbox": {
           "style": "light"
          },
          "paper_bgcolor": "white",
          "plot_bgcolor": "#E5ECF6",
          "polar": {
           "angularaxis": {
            "gridcolor": "white",
            "linecolor": "white",
            "ticks": ""
           },
           "bgcolor": "#E5ECF6",
           "radialaxis": {
            "gridcolor": "white",
            "linecolor": "white",
            "ticks": ""
           }
          },
          "scene": {
           "xaxis": {
            "backgroundcolor": "#E5ECF6",
            "gridcolor": "white",
            "gridwidth": 2,
            "linecolor": "white",
            "showbackground": true,
            "ticks": "",
            "zerolinecolor": "white"
           },
           "yaxis": {
            "backgroundcolor": "#E5ECF6",
            "gridcolor": "white",
            "gridwidth": 2,
            "linecolor": "white",
            "showbackground": true,
            "ticks": "",
            "zerolinecolor": "white"
           },
           "zaxis": {
            "backgroundcolor": "#E5ECF6",
            "gridcolor": "white",
            "gridwidth": 2,
            "linecolor": "white",
            "showbackground": true,
            "ticks": "",
            "zerolinecolor": "white"
           }
          },
          "shapedefaults": {
           "line": {
            "color": "#2a3f5f"
           }
          },
          "ternary": {
           "aaxis": {
            "gridcolor": "white",
            "linecolor": "white",
            "ticks": ""
           },
           "baxis": {
            "gridcolor": "white",
            "linecolor": "white",
            "ticks": ""
           },
           "bgcolor": "#E5ECF6",
           "caxis": {
            "gridcolor": "white",
            "linecolor": "white",
            "ticks": ""
           }
          },
          "title": {
           "x": 0.05
          },
          "xaxis": {
           "automargin": true,
           "gridcolor": "white",
           "linecolor": "white",
           "ticks": "",
           "title": {
            "standoff": 15
           },
           "zerolinecolor": "white",
           "zerolinewidth": 2
          },
          "yaxis": {
           "automargin": true,
           "gridcolor": "white",
           "linecolor": "white",
           "ticks": "",
           "title": {
            "standoff": 15
           },
           "zerolinecolor": "white",
           "zerolinewidth": 2
          }
         }
        },
        "title": {
         "text": "Unemployement rate in india"
        },
        "xaxis": {
         "anchor": "y",
         "categoryarray": [
          "East",
          "North",
          "Northeast",
          "South",
          "West"
         ],
         "categoryorder": "array",
         "domain": [
          0,
          1
         ],
         "title": {
          "text": "Region.1"
         }
        },
        "yaxis": {
         "anchor": "x",
         "domain": [
          0,
          1
         ],
         "title": {
          "text": "Estimated_Unemployment_Rate_(%)"
         }
        }
       }
      },
      "text/html": [
       "<div>                            <div id=\"7602b857-584d-48cd-8972-48baa2746d17\" class=\"plotly-graph-div\" style=\"height:525px; width:100%;\"></div>            <script type=\"text/javascript\">                require([\"plotly\"], function(Plotly) {                    window.PLOTLYENV=window.PLOTLYENV || {};                                    if (document.getElementById(\"7602b857-584d-48cd-8972-48baa2746d17\")) {                    Plotly.newPlot(                        \"7602b857-584d-48cd-8972-48baa2746d17\",                        [{\"alignmentgroup\":\"True\",\"hovertemplate\":\"Region.1=%{x}<br>Estimated_Unemployment_Rate_(%)=%{y}<extra></extra>\",\"legendgroup\":\"East\",\"marker\":{\"color\":\"#636efa\",\"pattern\":{\"shape\":\"\"}},\"name\":\"East\",\"offsetgroup\":\"East\",\"orientation\":\"v\",\"showlegend\":true,\"textposition\":\"auto\",\"x\":[\"East\"],\"xaxis\":\"x\",\"y\":[13.916],\"yaxis\":\"y\",\"type\":\"bar\"},{\"alignmentgroup\":\"True\",\"hovertemplate\":\"Region.1=%{x}<br>Estimated_Unemployment_Rate_(%)=%{y}<extra></extra>\",\"legendgroup\":\"North\",\"marker\":{\"color\":\"#EF553B\",\"pattern\":{\"shape\":\"\"}},\"name\":\"North\",\"offsetgroup\":\"North\",\"orientation\":\"v\",\"showlegend\":true,\"textposition\":\"auto\",\"x\":[\"North\"],\"xaxis\":\"x\",\"y\":[15.889620253164557],\"yaxis\":\"y\",\"type\":\"bar\"},{\"alignmentgroup\":\"True\",\"hovertemplate\":\"Region.1=%{x}<br>Estimated_Unemployment_Rate_(%)=%{y}<extra></extra>\",\"legendgroup\":\"Northeast\",\"marker\":{\"color\":\"#00cc96\",\"pattern\":{\"shape\":\"\"}},\"name\":\"Northeast\",\"offsetgroup\":\"Northeast\",\"orientation\":\"v\",\"showlegend\":true,\"textposition\":\"auto\",\"x\":[\"Northeast\"],\"xaxis\":\"x\",\"y\":[10.950263157894737],\"yaxis\":\"y\",\"type\":\"bar\"},{\"alignmentgroup\":\"True\",\"hovertemplate\":\"Region.1=%{x}<br>Estimated_Unemployment_Rate_(%)=%{y}<extra></extra>\",\"legendgroup\":\"South\",\"marker\":{\"color\":\"#ab63fa\",\"pattern\":{\"shape\":\"\"}},\"name\":\"South\",\"offsetgroup\":\"South\",\"orientation\":\"v\",\"showlegend\":true,\"textposition\":\"auto\",\"x\":[\"South\"],\"xaxis\":\"x\",\"y\":[10.454666666666666],\"yaxis\":\"y\",\"type\":\"bar\"},{\"alignmentgroup\":\"True\",\"hovertemplate\":\"Region.1=%{x}<br>Estimated_Unemployment_Rate_(%)=%{y}<extra></extra>\",\"legendgroup\":\"West\",\"marker\":{\"color\":\"#FFA15A\",\"pattern\":{\"shape\":\"\"}},\"name\":\"West\",\"offsetgroup\":\"West\",\"orientation\":\"v\",\"showlegend\":true,\"textposition\":\"auto\",\"x\":[\"West\"],\"xaxis\":\"x\",\"y\":[8.238999999999999],\"yaxis\":\"y\",\"type\":\"bar\"}],                        {\"template\":{\"data\":{\"histogram2dcontour\":[{\"type\":\"histogram2dcontour\",\"colorbar\":{\"outlinewidth\":0,\"ticks\":\"\"},\"colorscale\":[[0.0,\"#0d0887\"],[0.1111111111111111,\"#46039f\"],[0.2222222222222222,\"#7201a8\"],[0.3333333333333333,\"#9c179e\"],[0.4444444444444444,\"#bd3786\"],[0.5555555555555556,\"#d8576b\"],[0.6666666666666666,\"#ed7953\"],[0.7777777777777778,\"#fb9f3a\"],[0.8888888888888888,\"#fdca26\"],[1.0,\"#f0f921\"]]}],\"choropleth\":[{\"type\":\"choropleth\",\"colorbar\":{\"outlinewidth\":0,\"ticks\":\"\"}}],\"histogram2d\":[{\"type\":\"histogram2d\",\"colorbar\":{\"outlinewidth\":0,\"ticks\":\"\"},\"colorscale\":[[0.0,\"#0d0887\"],[0.1111111111111111,\"#46039f\"],[0.2222222222222222,\"#7201a8\"],[0.3333333333333333,\"#9c179e\"],[0.4444444444444444,\"#bd3786\"],[0.5555555555555556,\"#d8576b\"],[0.6666666666666666,\"#ed7953\"],[0.7777777777777778,\"#fb9f3a\"],[0.8888888888888888,\"#fdca26\"],[1.0,\"#f0f921\"]]}],\"heatmap\":[{\"type\":\"heatmap\",\"colorbar\":{\"outlinewidth\":0,\"ticks\":\"\"},\"colorscale\":[[0.0,\"#0d0887\"],[0.1111111111111111,\"#46039f\"],[0.2222222222222222,\"#7201a8\"],[0.3333333333333333,\"#9c179e\"],[0.4444444444444444,\"#bd3786\"],[0.5555555555555556,\"#d8576b\"],[0.6666666666666666,\"#ed7953\"],[0.7777777777777778,\"#fb9f3a\"],[0.8888888888888888,\"#fdca26\"],[1.0,\"#f0f921\"]]}],\"heatmapgl\":[{\"type\":\"heatmapgl\",\"colorbar\":{\"outlinewidth\":0,\"ticks\":\"\"},\"colorscale\":[[0.0,\"#0d0887\"],[0.1111111111111111,\"#46039f\"],[0.2222222222222222,\"#7201a8\"],[0.3333333333333333,\"#9c179e\"],[0.4444444444444444,\"#bd3786\"],[0.5555555555555556,\"#d8576b\"],[0.6666666666666666,\"#ed7953\"],[0.7777777777777778,\"#fb9f3a\"],[0.8888888888888888,\"#fdca26\"],[1.0,\"#f0f921\"]]}],\"contourcarpet\":[{\"type\":\"contourcarpet\",\"colorbar\":{\"outlinewidth\":0,\"ticks\":\"\"}}],\"contour\":[{\"type\":\"contour\",\"colorbar\":{\"outlinewidth\":0,\"ticks\":\"\"},\"colorscale\":[[0.0,\"#0d0887\"],[0.1111111111111111,\"#46039f\"],[0.2222222222222222,\"#7201a8\"],[0.3333333333333333,\"#9c179e\"],[0.4444444444444444,\"#bd3786\"],[0.5555555555555556,\"#d8576b\"],[0.6666666666666666,\"#ed7953\"],[0.7777777777777778,\"#fb9f3a\"],[0.8888888888888888,\"#fdca26\"],[1.0,\"#f0f921\"]]}],\"surface\":[{\"type\":\"surface\",\"colorbar\":{\"outlinewidth\":0,\"ticks\":\"\"},\"colorscale\":[[0.0,\"#0d0887\"],[0.1111111111111111,\"#46039f\"],[0.2222222222222222,\"#7201a8\"],[0.3333333333333333,\"#9c179e\"],[0.4444444444444444,\"#bd3786\"],[0.5555555555555556,\"#d8576b\"],[0.6666666666666666,\"#ed7953\"],[0.7777777777777778,\"#fb9f3a\"],[0.8888888888888888,\"#fdca26\"],[1.0,\"#f0f921\"]]}],\"mesh3d\":[{\"type\":\"mesh3d\",\"colorbar\":{\"outlinewidth\":0,\"ticks\":\"\"}}],\"scatter\":[{\"fillpattern\":{\"fillmode\":\"overlay\",\"size\":10,\"solidity\":0.2},\"type\":\"scatter\"}],\"parcoords\":[{\"type\":\"parcoords\",\"line\":{\"colorbar\":{\"outlinewidth\":0,\"ticks\":\"\"}}}],\"scatterpolargl\":[{\"type\":\"scatterpolargl\",\"marker\":{\"colorbar\":{\"outlinewidth\":0,\"ticks\":\"\"}}}],\"bar\":[{\"error_x\":{\"color\":\"#2a3f5f\"},\"error_y\":{\"color\":\"#2a3f5f\"},\"marker\":{\"line\":{\"color\":\"#E5ECF6\",\"width\":0.5},\"pattern\":{\"fillmode\":\"overlay\",\"size\":10,\"solidity\":0.2}},\"type\":\"bar\"}],\"scattergeo\":[{\"type\":\"scattergeo\",\"marker\":{\"colorbar\":{\"outlinewidth\":0,\"ticks\":\"\"}}}],\"scatterpolar\":[{\"type\":\"scatterpolar\",\"marker\":{\"colorbar\":{\"outlinewidth\":0,\"ticks\":\"\"}}}],\"histogram\":[{\"marker\":{\"pattern\":{\"fillmode\":\"overlay\",\"size\":10,\"solidity\":0.2}},\"type\":\"histogram\"}],\"scattergl\":[{\"type\":\"scattergl\",\"marker\":{\"colorbar\":{\"outlinewidth\":0,\"ticks\":\"\"}}}],\"scatter3d\":[{\"type\":\"scatter3d\",\"line\":{\"colorbar\":{\"outlinewidth\":0,\"ticks\":\"\"}},\"marker\":{\"colorbar\":{\"outlinewidth\":0,\"ticks\":\"\"}}}],\"scattermapbox\":[{\"type\":\"scattermapbox\",\"marker\":{\"colorbar\":{\"outlinewidth\":0,\"ticks\":\"\"}}}],\"scatterternary\":[{\"type\":\"scatterternary\",\"marker\":{\"colorbar\":{\"outlinewidth\":0,\"ticks\":\"\"}}}],\"scattercarpet\":[{\"type\":\"scattercarpet\",\"marker\":{\"colorbar\":{\"outlinewidth\":0,\"ticks\":\"\"}}}],\"carpet\":[{\"aaxis\":{\"endlinecolor\":\"#2a3f5f\",\"gridcolor\":\"white\",\"linecolor\":\"white\",\"minorgridcolor\":\"white\",\"startlinecolor\":\"#2a3f5f\"},\"baxis\":{\"endlinecolor\":\"#2a3f5f\",\"gridcolor\":\"white\",\"linecolor\":\"white\",\"minorgridcolor\":\"white\",\"startlinecolor\":\"#2a3f5f\"},\"type\":\"carpet\"}],\"table\":[{\"cells\":{\"fill\":{\"color\":\"#EBF0F8\"},\"line\":{\"color\":\"white\"}},\"header\":{\"fill\":{\"color\":\"#C8D4E3\"},\"line\":{\"color\":\"white\"}},\"type\":\"table\"}],\"barpolar\":[{\"marker\":{\"line\":{\"color\":\"#E5ECF6\",\"width\":0.5},\"pattern\":{\"fillmode\":\"overlay\",\"size\":10,\"solidity\":0.2}},\"type\":\"barpolar\"}],\"pie\":[{\"automargin\":true,\"type\":\"pie\"}]},\"layout\":{\"autotypenumbers\":\"strict\",\"colorway\":[\"#636efa\",\"#EF553B\",\"#00cc96\",\"#ab63fa\",\"#FFA15A\",\"#19d3f3\",\"#FF6692\",\"#B6E880\",\"#FF97FF\",\"#FECB52\"],\"font\":{\"color\":\"#2a3f5f\"},\"hovermode\":\"closest\",\"hoverlabel\":{\"align\":\"left\"},\"paper_bgcolor\":\"white\",\"plot_bgcolor\":\"#E5ECF6\",\"polar\":{\"bgcolor\":\"#E5ECF6\",\"angularaxis\":{\"gridcolor\":\"white\",\"linecolor\":\"white\",\"ticks\":\"\"},\"radialaxis\":{\"gridcolor\":\"white\",\"linecolor\":\"white\",\"ticks\":\"\"}},\"ternary\":{\"bgcolor\":\"#E5ECF6\",\"aaxis\":{\"gridcolor\":\"white\",\"linecolor\":\"white\",\"ticks\":\"\"},\"baxis\":{\"gridcolor\":\"white\",\"linecolor\":\"white\",\"ticks\":\"\"},\"caxis\":{\"gridcolor\":\"white\",\"linecolor\":\"white\",\"ticks\":\"\"}},\"coloraxis\":{\"colorbar\":{\"outlinewidth\":0,\"ticks\":\"\"}},\"colorscale\":{\"sequential\":[[0.0,\"#0d0887\"],[0.1111111111111111,\"#46039f\"],[0.2222222222222222,\"#7201a8\"],[0.3333333333333333,\"#9c179e\"],[0.4444444444444444,\"#bd3786\"],[0.5555555555555556,\"#d8576b\"],[0.6666666666666666,\"#ed7953\"],[0.7777777777777778,\"#fb9f3a\"],[0.8888888888888888,\"#fdca26\"],[1.0,\"#f0f921\"]],\"sequentialminus\":[[0.0,\"#0d0887\"],[0.1111111111111111,\"#46039f\"],[0.2222222222222222,\"#7201a8\"],[0.3333333333333333,\"#9c179e\"],[0.4444444444444444,\"#bd3786\"],[0.5555555555555556,\"#d8576b\"],[0.6666666666666666,\"#ed7953\"],[0.7777777777777778,\"#fb9f3a\"],[0.8888888888888888,\"#fdca26\"],[1.0,\"#f0f921\"]],\"diverging\":[[0,\"#8e0152\"],[0.1,\"#c51b7d\"],[0.2,\"#de77ae\"],[0.3,\"#f1b6da\"],[0.4,\"#fde0ef\"],[0.5,\"#f7f7f7\"],[0.6,\"#e6f5d0\"],[0.7,\"#b8e186\"],[0.8,\"#7fbc41\"],[0.9,\"#4d9221\"],[1,\"#276419\"]]},\"xaxis\":{\"gridcolor\":\"white\",\"linecolor\":\"white\",\"ticks\":\"\",\"title\":{\"standoff\":15},\"zerolinecolor\":\"white\",\"automargin\":true,\"zerolinewidth\":2},\"yaxis\":{\"gridcolor\":\"white\",\"linecolor\":\"white\",\"ticks\":\"\",\"title\":{\"standoff\":15},\"zerolinecolor\":\"white\",\"automargin\":true,\"zerolinewidth\":2},\"scene\":{\"xaxis\":{\"backgroundcolor\":\"#E5ECF6\",\"gridcolor\":\"white\",\"linecolor\":\"white\",\"showbackground\":true,\"ticks\":\"\",\"zerolinecolor\":\"white\",\"gridwidth\":2},\"yaxis\":{\"backgroundcolor\":\"#E5ECF6\",\"gridcolor\":\"white\",\"linecolor\":\"white\",\"showbackground\":true,\"ticks\":\"\",\"zerolinecolor\":\"white\",\"gridwidth\":2},\"zaxis\":{\"backgroundcolor\":\"#E5ECF6\",\"gridcolor\":\"white\",\"linecolor\":\"white\",\"showbackground\":true,\"ticks\":\"\",\"zerolinecolor\":\"white\",\"gridwidth\":2}},\"shapedefaults\":{\"line\":{\"color\":\"#2a3f5f\"}},\"annotationdefaults\":{\"arrowcolor\":\"#2a3f5f\",\"arrowhead\":0,\"arrowwidth\":1},\"geo\":{\"bgcolor\":\"white\",\"landcolor\":\"#E5ECF6\",\"subunitcolor\":\"white\",\"showland\":true,\"showlakes\":true,\"lakecolor\":\"white\"},\"title\":{\"x\":0.05},\"mapbox\":{\"style\":\"light\"}}},\"xaxis\":{\"anchor\":\"y\",\"domain\":[0.0,1.0],\"title\":{\"text\":\"Region.1\"},\"categoryorder\":\"array\",\"categoryarray\":[\"East\",\"North\",\"Northeast\",\"South\",\"West\"]},\"yaxis\":{\"anchor\":\"x\",\"domain\":[0.0,1.0],\"title\":{\"text\":\"Estimated_Unemployment_Rate_(%)\"}},\"legend\":{\"title\":{\"text\":\"Region.1\"},\"tracegroupgap\":0},\"title\":{\"text\":\"Unemployement rate in india\"},\"barmode\":\"relative\"},                        {\"responsive\": true}                    ).then(function(){\n",
       "                            \n",
       "var gd = document.getElementById('7602b857-584d-48cd-8972-48baa2746d17');\n",
       "var x = new MutationObserver(function (mutations, observer) {{\n",
       "        var display = window.getComputedStyle(gd).display;\n",
       "        if (!display || display === 'none') {{\n",
       "            console.log([gd, 'removed!']);\n",
       "            Plotly.purge(gd);\n",
       "            observer.disconnect();\n",
       "        }}\n",
       "}});\n",
       "\n",
       "// Listen for the removal of the full notebook cells\n",
       "var notebookContainer = gd.closest('#notebook-container');\n",
       "if (notebookContainer) {{\n",
       "    x.observe(notebookContainer, {childList: true});\n",
       "}}\n",
       "\n",
       "// Listen for the clearing of the current output cell\n",
       "var outputEl = gd.closest('.output');\n",
       "if (outputEl) {{\n",
       "    x.observe(outputEl, {childList: true});\n",
       "}}\n",
       "\n",
       "                        })                };                });            </script>        </div>"
      ]
     },
     "metadata": {},
     "output_type": "display_data"
    }
   ],
   "source": [
    "px.bar(unemp_dir,\n",
    "      x = unemp_dir['Region.1'],\n",
    "      y = unemp_dir['Estimated_Unemployment_Rate_(%)'],\n",
    "      color = 'Region.1',\n",
    "      title = 'Unemployement rate in india')"
   ]
  },
  {
   "cell_type": "code",
   "execution_count": 40,
   "id": "7ab4bfdf",
   "metadata": {
    "scrolled": false
   },
   "outputs": [
    {
     "data": {
      "text/html": [
       "<div>\n",
       "<style scoped>\n",
       "    .dataframe tbody tr th:only-of-type {\n",
       "        vertical-align: middle;\n",
       "    }\n",
       "\n",
       "    .dataframe tbody tr th {\n",
       "        vertical-align: top;\n",
       "    }\n",
       "\n",
       "    .dataframe thead th {\n",
       "        text-align: right;\n",
       "    }\n",
       "</style>\n",
       "<table border=\"1\" class=\"dataframe\">\n",
       "  <thead>\n",
       "    <tr style=\"text-align: right;\">\n",
       "      <th></th>\n",
       "      <th>Region</th>\n",
       "      <th>Year</th>\n",
       "      <th>Estimated_Unemployment_Rate_(%)</th>\n",
       "    </tr>\n",
       "  </thead>\n",
       "  <tbody>\n",
       "    <tr>\n",
       "      <th>17</th>\n",
       "      <td>Haryana</td>\n",
       "      <td>2020</td>\n",
       "      <td>30.929167</td>\n",
       "    </tr>\n",
       "    <tr>\n",
       "      <th>23</th>\n",
       "      <td>Jharkhand</td>\n",
       "      <td>2020</td>\n",
       "      <td>29.053333</td>\n",
       "    </tr>\n",
       "    <tr>\n",
       "      <th>48</th>\n",
       "      <td>Tripura</td>\n",
       "      <td>2019</td>\n",
       "      <td>28.363125</td>\n",
       "    </tr>\n",
       "    <tr>\n",
       "      <th>49</th>\n",
       "      <td>Tripura</td>\n",
       "      <td>2020</td>\n",
       "      <td>28.333333</td>\n",
       "    </tr>\n",
       "    <tr>\n",
       "      <th>5</th>\n",
       "      <td>Bihar</td>\n",
       "      <td>2020</td>\n",
       "      <td>25.632500</td>\n",
       "    </tr>\n",
       "    <tr>\n",
       "      <th>37</th>\n",
       "      <td>Puducherry</td>\n",
       "      <td>2020</td>\n",
       "      <td>23.840000</td>\n",
       "    </tr>\n",
       "    <tr>\n",
       "      <th>16</th>\n",
       "      <td>Haryana</td>\n",
       "      <td>2019</td>\n",
       "      <td>22.798750</td>\n",
       "    </tr>\n",
       "    <tr>\n",
       "      <th>11</th>\n",
       "      <td>Delhi</td>\n",
       "      <td>2020</td>\n",
       "      <td>20.155000</td>\n",
       "    </tr>\n",
       "    <tr>\n",
       "      <th>18</th>\n",
       "      <td>Himachal Pradesh</td>\n",
       "      <td>2019</td>\n",
       "      <td>19.064375</td>\n",
       "    </tr>\n",
       "    <tr>\n",
       "      <th>19</th>\n",
       "      <td>Himachal Pradesh</td>\n",
       "      <td>2020</td>\n",
       "      <td>17.841667</td>\n",
       "    </tr>\n",
       "    <tr>\n",
       "      <th>45</th>\n",
       "      <td>Tamil Nadu</td>\n",
       "      <td>2020</td>\n",
       "      <td>17.578333</td>\n",
       "    </tr>\n",
       "    <tr>\n",
       "      <th>41</th>\n",
       "      <td>Rajasthan</td>\n",
       "      <td>2020</td>\n",
       "      <td>16.400833</td>\n",
       "    </tr>\n",
       "    <tr>\n",
       "      <th>7</th>\n",
       "      <td>Chandigarh</td>\n",
       "      <td>2020</td>\n",
       "      <td>16.330000</td>\n",
       "    </tr>\n",
       "    <tr>\n",
       "      <th>21</th>\n",
       "      <td>Jammu &amp; Kashmir</td>\n",
       "      <td>2020</td>\n",
       "      <td>16.251111</td>\n",
       "    </tr>\n",
       "    <tr>\n",
       "      <th>20</th>\n",
       "      <td>Jammu &amp; Kashmir</td>\n",
       "      <td>2019</td>\n",
       "      <td>16.141667</td>\n",
       "    </tr>\n",
       "    <tr>\n",
       "      <th>6</th>\n",
       "      <td>Chandigarh</td>\n",
       "      <td>2019</td>\n",
       "      <td>15.822500</td>\n",
       "    </tr>\n",
       "    <tr>\n",
       "      <th>51</th>\n",
       "      <td>Uttar Pradesh</td>\n",
       "      <td>2020</td>\n",
       "      <td>14.769167</td>\n",
       "    </tr>\n",
       "    <tr>\n",
       "      <th>22</th>\n",
       "      <td>Jharkhand</td>\n",
       "      <td>2019</td>\n",
       "      <td>14.233750</td>\n",
       "    </tr>\n",
       "    <tr>\n",
       "      <th>27</th>\n",
       "      <td>Kerala</td>\n",
       "      <td>2020</td>\n",
       "      <td>14.114167</td>\n",
       "    </tr>\n",
       "    <tr>\n",
       "      <th>4</th>\n",
       "      <td>Bihar</td>\n",
       "      <td>2019</td>\n",
       "      <td>13.882500</td>\n",
       "    </tr>\n",
       "    <tr>\n",
       "      <th>10</th>\n",
       "      <td>Delhi</td>\n",
       "      <td>2019</td>\n",
       "      <td>13.750625</td>\n",
       "    </tr>\n",
       "    <tr>\n",
       "      <th>39</th>\n",
       "      <td>Punjab</td>\n",
       "      <td>2020</td>\n",
       "      <td>13.562500</td>\n",
       "    </tr>\n",
       "    <tr>\n",
       "      <th>47</th>\n",
       "      <td>Telangana</td>\n",
       "      <td>2020</td>\n",
       "      <td>12.567500</td>\n",
       "    </tr>\n",
       "    <tr>\n",
       "      <th>40</th>\n",
       "      <td>Rajasthan</td>\n",
       "      <td>2019</td>\n",
       "      <td>12.301250</td>\n",
       "    </tr>\n",
       "    <tr>\n",
       "      <th>9</th>\n",
       "      <td>Chhattisgarh</td>\n",
       "      <td>2020</td>\n",
       "      <td>11.765000</td>\n",
       "    </tr>\n",
       "    <tr>\n",
       "      <th>25</th>\n",
       "      <td>Karnataka</td>\n",
       "      <td>2020</td>\n",
       "      <td>11.259167</td>\n",
       "    </tr>\n",
       "    <tr>\n",
       "      <th>1</th>\n",
       "      <td>Andhra Pradesh</td>\n",
       "      <td>2020</td>\n",
       "      <td>11.010833</td>\n",
       "    </tr>\n",
       "    <tr>\n",
       "      <th>29</th>\n",
       "      <td>Madhya Pradesh</td>\n",
       "      <td>2020</td>\n",
       "      <td>10.897500</td>\n",
       "    </tr>\n",
       "    <tr>\n",
       "      <th>50</th>\n",
       "      <td>Uttar Pradesh</td>\n",
       "      <td>2019</td>\n",
       "      <td>10.888125</td>\n",
       "    </tr>\n",
       "    <tr>\n",
       "      <th>38</th>\n",
       "      <td>Punjab</td>\n",
       "      <td>2019</td>\n",
       "      <td>10.882500</td>\n",
       "    </tr>\n",
       "    <tr>\n",
       "      <th>31</th>\n",
       "      <td>Maharashtra</td>\n",
       "      <td>2020</td>\n",
       "      <td>10.355000</td>\n",
       "    </tr>\n",
       "    <tr>\n",
       "      <th>55</th>\n",
       "      <td>West Bengal</td>\n",
       "      <td>2020</td>\n",
       "      <td>10.123333</td>\n",
       "    </tr>\n",
       "    <tr>\n",
       "      <th>12</th>\n",
       "      <td>Goa</td>\n",
       "      <td>2019</td>\n",
       "      <td>9.346250</td>\n",
       "    </tr>\n",
       "    <tr>\n",
       "      <th>13</th>\n",
       "      <td>Goa</td>\n",
       "      <td>2020</td>\n",
       "      <td>9.130000</td>\n",
       "    </tr>\n",
       "    <tr>\n",
       "      <th>43</th>\n",
       "      <td>Sikkim</td>\n",
       "      <td>2020</td>\n",
       "      <td>9.068333</td>\n",
       "    </tr>\n",
       "    <tr>\n",
       "      <th>15</th>\n",
       "      <td>Gujarat</td>\n",
       "      <td>2020</td>\n",
       "      <td>8.910000</td>\n",
       "    </tr>\n",
       "    <tr>\n",
       "      <th>35</th>\n",
       "      <td>Odisha</td>\n",
       "      <td>2020</td>\n",
       "      <td>8.320000</td>\n",
       "    </tr>\n",
       "    <tr>\n",
       "      <th>53</th>\n",
       "      <td>Uttarakhand</td>\n",
       "      <td>2020</td>\n",
       "      <td>7.720909</td>\n",
       "    </tr>\n",
       "    <tr>\n",
       "      <th>8</th>\n",
       "      <td>Chhattisgarh</td>\n",
       "      <td>2019</td>\n",
       "      <td>7.346875</td>\n",
       "    </tr>\n",
       "    <tr>\n",
       "      <th>26</th>\n",
       "      <td>Kerala</td>\n",
       "      <td>2019</td>\n",
       "      <td>7.131250</td>\n",
       "    </tr>\n",
       "    <tr>\n",
       "      <th>54</th>\n",
       "      <td>West Bengal</td>\n",
       "      <td>2019</td>\n",
       "      <td>6.625625</td>\n",
       "    </tr>\n",
       "    <tr>\n",
       "      <th>3</th>\n",
       "      <td>Assam</td>\n",
       "      <td>2020</td>\n",
       "      <td>6.438182</td>\n",
       "    </tr>\n",
       "    <tr>\n",
       "      <th>2</th>\n",
       "      <td>Assam</td>\n",
       "      <td>2019</td>\n",
       "      <td>6.420667</td>\n",
       "    </tr>\n",
       "    <tr>\n",
       "      <th>42</th>\n",
       "      <td>Sikkim</td>\n",
       "      <td>2019</td>\n",
       "      <td>6.257273</td>\n",
       "    </tr>\n",
       "    <tr>\n",
       "      <th>33</th>\n",
       "      <td>Meghalaya</td>\n",
       "      <td>2020</td>\n",
       "      <td>5.942727</td>\n",
       "    </tr>\n",
       "    <tr>\n",
       "      <th>52</th>\n",
       "      <td>Uttarakhand</td>\n",
       "      <td>2019</td>\n",
       "      <td>5.800625</td>\n",
       "    </tr>\n",
       "    <tr>\n",
       "      <th>30</th>\n",
       "      <td>Maharashtra</td>\n",
       "      <td>2019</td>\n",
       "      <td>5.459375</td>\n",
       "    </tr>\n",
       "    <tr>\n",
       "      <th>14</th>\n",
       "      <td>Gujarat</td>\n",
       "      <td>2019</td>\n",
       "      <td>4.979375</td>\n",
       "    </tr>\n",
       "    <tr>\n",
       "      <th>0</th>\n",
       "      <td>Andhra Pradesh</td>\n",
       "      <td>2019</td>\n",
       "      <td>4.826875</td>\n",
       "    </tr>\n",
       "    <tr>\n",
       "      <th>28</th>\n",
       "      <td>Madhya Pradesh</td>\n",
       "      <td>2019</td>\n",
       "      <td>4.788125</td>\n",
       "    </tr>\n",
       "    <tr>\n",
       "      <th>46</th>\n",
       "      <td>Telangana</td>\n",
       "      <td>2019</td>\n",
       "      <td>4.115625</td>\n",
       "    </tr>\n",
       "    <tr>\n",
       "      <th>32</th>\n",
       "      <td>Meghalaya</td>\n",
       "      <td>2019</td>\n",
       "      <td>4.012500</td>\n",
       "    </tr>\n",
       "    <tr>\n",
       "      <th>34</th>\n",
       "      <td>Odisha</td>\n",
       "      <td>2019</td>\n",
       "      <td>3.661250</td>\n",
       "    </tr>\n",
       "    <tr>\n",
       "      <th>24</th>\n",
       "      <td>Karnataka</td>\n",
       "      <td>2019</td>\n",
       "      <td>3.238750</td>\n",
       "    </tr>\n",
       "    <tr>\n",
       "      <th>44</th>\n",
       "      <td>Tamil Nadu</td>\n",
       "      <td>2019</td>\n",
       "      <td>3.063750</td>\n",
       "    </tr>\n",
       "    <tr>\n",
       "      <th>36</th>\n",
       "      <td>Puducherry</td>\n",
       "      <td>2019</td>\n",
       "      <td>1.699375</td>\n",
       "    </tr>\n",
       "  </tbody>\n",
       "</table>\n",
       "</div>"
      ],
      "text/plain": [
       "              Region  Year  Estimated_Unemployment_Rate_(%)\n",
       "17           Haryana  2020                        30.929167\n",
       "23         Jharkhand  2020                        29.053333\n",
       "48           Tripura  2019                        28.363125\n",
       "49           Tripura  2020                        28.333333\n",
       "5              Bihar  2020                        25.632500\n",
       "37        Puducherry  2020                        23.840000\n",
       "16           Haryana  2019                        22.798750\n",
       "11             Delhi  2020                        20.155000\n",
       "18  Himachal Pradesh  2019                        19.064375\n",
       "19  Himachal Pradesh  2020                        17.841667\n",
       "45        Tamil Nadu  2020                        17.578333\n",
       "41         Rajasthan  2020                        16.400833\n",
       "7         Chandigarh  2020                        16.330000\n",
       "21   Jammu & Kashmir  2020                        16.251111\n",
       "20   Jammu & Kashmir  2019                        16.141667\n",
       "6         Chandigarh  2019                        15.822500\n",
       "51     Uttar Pradesh  2020                        14.769167\n",
       "22         Jharkhand  2019                        14.233750\n",
       "27            Kerala  2020                        14.114167\n",
       "4              Bihar  2019                        13.882500\n",
       "10             Delhi  2019                        13.750625\n",
       "39            Punjab  2020                        13.562500\n",
       "47         Telangana  2020                        12.567500\n",
       "40         Rajasthan  2019                        12.301250\n",
       "9       Chhattisgarh  2020                        11.765000\n",
       "25         Karnataka  2020                        11.259167\n",
       "1     Andhra Pradesh  2020                        11.010833\n",
       "29    Madhya Pradesh  2020                        10.897500\n",
       "50     Uttar Pradesh  2019                        10.888125\n",
       "38            Punjab  2019                        10.882500\n",
       "31       Maharashtra  2020                        10.355000\n",
       "55       West Bengal  2020                        10.123333\n",
       "12               Goa  2019                         9.346250\n",
       "13               Goa  2020                         9.130000\n",
       "43            Sikkim  2020                         9.068333\n",
       "15           Gujarat  2020                         8.910000\n",
       "35            Odisha  2020                         8.320000\n",
       "53       Uttarakhand  2020                         7.720909\n",
       "8       Chhattisgarh  2019                         7.346875\n",
       "26            Kerala  2019                         7.131250\n",
       "54       West Bengal  2019                         6.625625\n",
       "3              Assam  2020                         6.438182\n",
       "2              Assam  2019                         6.420667\n",
       "42            Sikkim  2019                         6.257273\n",
       "33         Meghalaya  2020                         5.942727\n",
       "52       Uttarakhand  2019                         5.800625\n",
       "30       Maharashtra  2019                         5.459375\n",
       "14           Gujarat  2019                         4.979375\n",
       "0     Andhra Pradesh  2019                         4.826875\n",
       "28    Madhya Pradesh  2019                         4.788125\n",
       "46         Telangana  2019                         4.115625\n",
       "32         Meghalaya  2019                         4.012500\n",
       "34            Odisha  2019                         3.661250\n",
       "24         Karnataka  2019                         3.238750\n",
       "44        Tamil Nadu  2019                         3.063750\n",
       "36        Puducherry  2019                         1.699375"
      ]
     },
     "execution_count": 40,
     "metadata": {},
     "output_type": "execute_result"
    }
   ],
   "source": [
    "unemployement_state = data.groupby(['Region', 'Year']).agg({'Estimated_Unemployment_Rate_(%)':'mean'}).reset_index().sort_values(by = 'Estimated_Unemployment_Rate_(%)', ascending = False)\n",
    "unemployement_state"
   ]
  },
  {
   "cell_type": "code",
   "execution_count": 46,
   "id": "65b3b7d6",
   "metadata": {},
   "outputs": [
    {
     "data": {
      "application/vnd.plotly.v1+json": {
       "config": {
        "plotlyServerURL": "https://plot.ly"
       },
       "data": [
        {
         "domain": {
          "x": [
           0,
           1
          ],
          "y": [
           0,
           1
          ]
         },
         "hovertemplate": "Region=%{label}<br>Estimated_Unemployment_Rate_(%)=%{value}<extra></extra>",
         "labels": [
          "Haryana",
          "Jharkhand",
          "Tripura",
          "Tripura",
          "Bihar",
          "Puducherry",
          "Haryana",
          "Delhi",
          "Himachal Pradesh",
          "Himachal Pradesh",
          "Tamil Nadu",
          "Rajasthan",
          "Chandigarh",
          "Jammu & Kashmir",
          "Jammu & Kashmir",
          "Chandigarh",
          "Uttar Pradesh",
          "Jharkhand",
          "Kerala",
          "Bihar",
          "Delhi",
          "Punjab",
          "Telangana",
          "Rajasthan",
          "Chhattisgarh",
          "Karnataka",
          "Andhra Pradesh",
          "Madhya Pradesh",
          "Uttar Pradesh",
          "Punjab",
          "Maharashtra",
          "West Bengal",
          "Goa",
          "Goa",
          "Sikkim",
          "Gujarat",
          "Odisha",
          "Uttarakhand",
          "Chhattisgarh",
          "Kerala",
          "West Bengal",
          "Assam",
          "Assam",
          "Sikkim",
          "Meghalaya",
          "Uttarakhand",
          "Maharashtra",
          "Gujarat",
          "Andhra Pradesh",
          "Madhya Pradesh",
          "Telangana",
          "Meghalaya",
          "Odisha",
          "Karnataka",
          "Tamil Nadu",
          "Puducherry"
         ],
         "legendgroup": "",
         "name": "",
         "showlegend": true,
         "type": "pie",
         "values": [
          30.929166666666664,
          29.05333333333333,
          28.363125,
          28.333333333333332,
          25.632500000000004,
          23.84,
          22.79875,
          20.155,
          19.064375,
          17.841666666666665,
          17.578333333333333,
          16.400833333333335,
          16.330000000000002,
          16.25111111111111,
          16.141666666666666,
          15.822500000000002,
          14.769166666666669,
          14.23375,
          14.114166666666668,
          13.8825,
          13.750625,
          13.5625,
          12.5675,
          12.30125,
          11.765,
          11.259166666666667,
          11.010833333333332,
          10.8975,
          10.888125,
          10.8825,
          10.355,
          10.123333333333333,
          9.34625,
          9.129999999999999,
          9.068333333333333,
          8.91,
          8.32,
          7.720909090909092,
          7.346875,
          7.13125,
          6.625625,
          6.438181818181818,
          6.4206666666666665,
          6.257272727272727,
          5.942727272727273,
          5.800625,
          5.459375,
          4.979375,
          4.826875,
          4.788125,
          4.115625,
          4.0125,
          3.66125,
          3.23875,
          3.0637499999999998,
          1.6993749999999999
         ]
        }
       ],
       "layout": {
        "legend": {
         "tracegroupgap": 0
        },
        "margin": {
         "t": 60
        },
        "template": {
         "data": {
          "bar": [
           {
            "error_x": {
             "color": "#2a3f5f"
            },
            "error_y": {
             "color": "#2a3f5f"
            },
            "marker": {
             "line": {
              "color": "#E5ECF6",
              "width": 0.5
             },
             "pattern": {
              "fillmode": "overlay",
              "size": 10,
              "solidity": 0.2
             }
            },
            "type": "bar"
           }
          ],
          "barpolar": [
           {
            "marker": {
             "line": {
              "color": "#E5ECF6",
              "width": 0.5
             },
             "pattern": {
              "fillmode": "overlay",
              "size": 10,
              "solidity": 0.2
             }
            },
            "type": "barpolar"
           }
          ],
          "carpet": [
           {
            "aaxis": {
             "endlinecolor": "#2a3f5f",
             "gridcolor": "white",
             "linecolor": "white",
             "minorgridcolor": "white",
             "startlinecolor": "#2a3f5f"
            },
            "baxis": {
             "endlinecolor": "#2a3f5f",
             "gridcolor": "white",
             "linecolor": "white",
             "minorgridcolor": "white",
             "startlinecolor": "#2a3f5f"
            },
            "type": "carpet"
           }
          ],
          "choropleth": [
           {
            "colorbar": {
             "outlinewidth": 0,
             "ticks": ""
            },
            "type": "choropleth"
           }
          ],
          "contour": [
           {
            "colorbar": {
             "outlinewidth": 0,
             "ticks": ""
            },
            "colorscale": [
             [
              0,
              "#0d0887"
             ],
             [
              0.1111111111111111,
              "#46039f"
             ],
             [
              0.2222222222222222,
              "#7201a8"
             ],
             [
              0.3333333333333333,
              "#9c179e"
             ],
             [
              0.4444444444444444,
              "#bd3786"
             ],
             [
              0.5555555555555556,
              "#d8576b"
             ],
             [
              0.6666666666666666,
              "#ed7953"
             ],
             [
              0.7777777777777778,
              "#fb9f3a"
             ],
             [
              0.8888888888888888,
              "#fdca26"
             ],
             [
              1,
              "#f0f921"
             ]
            ],
            "type": "contour"
           }
          ],
          "contourcarpet": [
           {
            "colorbar": {
             "outlinewidth": 0,
             "ticks": ""
            },
            "type": "contourcarpet"
           }
          ],
          "heatmap": [
           {
            "colorbar": {
             "outlinewidth": 0,
             "ticks": ""
            },
            "colorscale": [
             [
              0,
              "#0d0887"
             ],
             [
              0.1111111111111111,
              "#46039f"
             ],
             [
              0.2222222222222222,
              "#7201a8"
             ],
             [
              0.3333333333333333,
              "#9c179e"
             ],
             [
              0.4444444444444444,
              "#bd3786"
             ],
             [
              0.5555555555555556,
              "#d8576b"
             ],
             [
              0.6666666666666666,
              "#ed7953"
             ],
             [
              0.7777777777777778,
              "#fb9f3a"
             ],
             [
              0.8888888888888888,
              "#fdca26"
             ],
             [
              1,
              "#f0f921"
             ]
            ],
            "type": "heatmap"
           }
          ],
          "heatmapgl": [
           {
            "colorbar": {
             "outlinewidth": 0,
             "ticks": ""
            },
            "colorscale": [
             [
              0,
              "#0d0887"
             ],
             [
              0.1111111111111111,
              "#46039f"
             ],
             [
              0.2222222222222222,
              "#7201a8"
             ],
             [
              0.3333333333333333,
              "#9c179e"
             ],
             [
              0.4444444444444444,
              "#bd3786"
             ],
             [
              0.5555555555555556,
              "#d8576b"
             ],
             [
              0.6666666666666666,
              "#ed7953"
             ],
             [
              0.7777777777777778,
              "#fb9f3a"
             ],
             [
              0.8888888888888888,
              "#fdca26"
             ],
             [
              1,
              "#f0f921"
             ]
            ],
            "type": "heatmapgl"
           }
          ],
          "histogram": [
           {
            "marker": {
             "pattern": {
              "fillmode": "overlay",
              "size": 10,
              "solidity": 0.2
             }
            },
            "type": "histogram"
           }
          ],
          "histogram2d": [
           {
            "colorbar": {
             "outlinewidth": 0,
             "ticks": ""
            },
            "colorscale": [
             [
              0,
              "#0d0887"
             ],
             [
              0.1111111111111111,
              "#46039f"
             ],
             [
              0.2222222222222222,
              "#7201a8"
             ],
             [
              0.3333333333333333,
              "#9c179e"
             ],
             [
              0.4444444444444444,
              "#bd3786"
             ],
             [
              0.5555555555555556,
              "#d8576b"
             ],
             [
              0.6666666666666666,
              "#ed7953"
             ],
             [
              0.7777777777777778,
              "#fb9f3a"
             ],
             [
              0.8888888888888888,
              "#fdca26"
             ],
             [
              1,
              "#f0f921"
             ]
            ],
            "type": "histogram2d"
           }
          ],
          "histogram2dcontour": [
           {
            "colorbar": {
             "outlinewidth": 0,
             "ticks": ""
            },
            "colorscale": [
             [
              0,
              "#0d0887"
             ],
             [
              0.1111111111111111,
              "#46039f"
             ],
             [
              0.2222222222222222,
              "#7201a8"
             ],
             [
              0.3333333333333333,
              "#9c179e"
             ],
             [
              0.4444444444444444,
              "#bd3786"
             ],
             [
              0.5555555555555556,
              "#d8576b"
             ],
             [
              0.6666666666666666,
              "#ed7953"
             ],
             [
              0.7777777777777778,
              "#fb9f3a"
             ],
             [
              0.8888888888888888,
              "#fdca26"
             ],
             [
              1,
              "#f0f921"
             ]
            ],
            "type": "histogram2dcontour"
           }
          ],
          "mesh3d": [
           {
            "colorbar": {
             "outlinewidth": 0,
             "ticks": ""
            },
            "type": "mesh3d"
           }
          ],
          "parcoords": [
           {
            "line": {
             "colorbar": {
              "outlinewidth": 0,
              "ticks": ""
             }
            },
            "type": "parcoords"
           }
          ],
          "pie": [
           {
            "automargin": true,
            "type": "pie"
           }
          ],
          "scatter": [
           {
            "fillpattern": {
             "fillmode": "overlay",
             "size": 10,
             "solidity": 0.2
            },
            "type": "scatter"
           }
          ],
          "scatter3d": [
           {
            "line": {
             "colorbar": {
              "outlinewidth": 0,
              "ticks": ""
             }
            },
            "marker": {
             "colorbar": {
              "outlinewidth": 0,
              "ticks": ""
             }
            },
            "type": "scatter3d"
           }
          ],
          "scattercarpet": [
           {
            "marker": {
             "colorbar": {
              "outlinewidth": 0,
              "ticks": ""
             }
            },
            "type": "scattercarpet"
           }
          ],
          "scattergeo": [
           {
            "marker": {
             "colorbar": {
              "outlinewidth": 0,
              "ticks": ""
             }
            },
            "type": "scattergeo"
           }
          ],
          "scattergl": [
           {
            "marker": {
             "colorbar": {
              "outlinewidth": 0,
              "ticks": ""
             }
            },
            "type": "scattergl"
           }
          ],
          "scattermapbox": [
           {
            "marker": {
             "colorbar": {
              "outlinewidth": 0,
              "ticks": ""
             }
            },
            "type": "scattermapbox"
           }
          ],
          "scatterpolar": [
           {
            "marker": {
             "colorbar": {
              "outlinewidth": 0,
              "ticks": ""
             }
            },
            "type": "scatterpolar"
           }
          ],
          "scatterpolargl": [
           {
            "marker": {
             "colorbar": {
              "outlinewidth": 0,
              "ticks": ""
             }
            },
            "type": "scatterpolargl"
           }
          ],
          "scatterternary": [
           {
            "marker": {
             "colorbar": {
              "outlinewidth": 0,
              "ticks": ""
             }
            },
            "type": "scatterternary"
           }
          ],
          "surface": [
           {
            "colorbar": {
             "outlinewidth": 0,
             "ticks": ""
            },
            "colorscale": [
             [
              0,
              "#0d0887"
             ],
             [
              0.1111111111111111,
              "#46039f"
             ],
             [
              0.2222222222222222,
              "#7201a8"
             ],
             [
              0.3333333333333333,
              "#9c179e"
             ],
             [
              0.4444444444444444,
              "#bd3786"
             ],
             [
              0.5555555555555556,
              "#d8576b"
             ],
             [
              0.6666666666666666,
              "#ed7953"
             ],
             [
              0.7777777777777778,
              "#fb9f3a"
             ],
             [
              0.8888888888888888,
              "#fdca26"
             ],
             [
              1,
              "#f0f921"
             ]
            ],
            "type": "surface"
           }
          ],
          "table": [
           {
            "cells": {
             "fill": {
              "color": "#EBF0F8"
             },
             "line": {
              "color": "white"
             }
            },
            "header": {
             "fill": {
              "color": "#C8D4E3"
             },
             "line": {
              "color": "white"
             }
            },
            "type": "table"
           }
          ]
         },
         "layout": {
          "annotationdefaults": {
           "arrowcolor": "#2a3f5f",
           "arrowhead": 0,
           "arrowwidth": 1
          },
          "autotypenumbers": "strict",
          "coloraxis": {
           "colorbar": {
            "outlinewidth": 0,
            "ticks": ""
           }
          },
          "colorscale": {
           "diverging": [
            [
             0,
             "#8e0152"
            ],
            [
             0.1,
             "#c51b7d"
            ],
            [
             0.2,
             "#de77ae"
            ],
            [
             0.3,
             "#f1b6da"
            ],
            [
             0.4,
             "#fde0ef"
            ],
            [
             0.5,
             "#f7f7f7"
            ],
            [
             0.6,
             "#e6f5d0"
            ],
            [
             0.7,
             "#b8e186"
            ],
            [
             0.8,
             "#7fbc41"
            ],
            [
             0.9,
             "#4d9221"
            ],
            [
             1,
             "#276419"
            ]
           ],
           "sequential": [
            [
             0,
             "#0d0887"
            ],
            [
             0.1111111111111111,
             "#46039f"
            ],
            [
             0.2222222222222222,
             "#7201a8"
            ],
            [
             0.3333333333333333,
             "#9c179e"
            ],
            [
             0.4444444444444444,
             "#bd3786"
            ],
            [
             0.5555555555555556,
             "#d8576b"
            ],
            [
             0.6666666666666666,
             "#ed7953"
            ],
            [
             0.7777777777777778,
             "#fb9f3a"
            ],
            [
             0.8888888888888888,
             "#fdca26"
            ],
            [
             1,
             "#f0f921"
            ]
           ],
           "sequentialminus": [
            [
             0,
             "#0d0887"
            ],
            [
             0.1111111111111111,
             "#46039f"
            ],
            [
             0.2222222222222222,
             "#7201a8"
            ],
            [
             0.3333333333333333,
             "#9c179e"
            ],
            [
             0.4444444444444444,
             "#bd3786"
            ],
            [
             0.5555555555555556,
             "#d8576b"
            ],
            [
             0.6666666666666666,
             "#ed7953"
            ],
            [
             0.7777777777777778,
             "#fb9f3a"
            ],
            [
             0.8888888888888888,
             "#fdca26"
            ],
            [
             1,
             "#f0f921"
            ]
           ]
          },
          "colorway": [
           "#636efa",
           "#EF553B",
           "#00cc96",
           "#ab63fa",
           "#FFA15A",
           "#19d3f3",
           "#FF6692",
           "#B6E880",
           "#FF97FF",
           "#FECB52"
          ],
          "font": {
           "color": "#2a3f5f"
          },
          "geo": {
           "bgcolor": "white",
           "lakecolor": "white",
           "landcolor": "#E5ECF6",
           "showlakes": true,
           "showland": true,
           "subunitcolor": "white"
          },
          "hoverlabel": {
           "align": "left"
          },
          "hovermode": "closest",
          "mapbox": {
           "style": "light"
          },
          "paper_bgcolor": "white",
          "plot_bgcolor": "#E5ECF6",
          "polar": {
           "angularaxis": {
            "gridcolor": "white",
            "linecolor": "white",
            "ticks": ""
           },
           "bgcolor": "#E5ECF6",
           "radialaxis": {
            "gridcolor": "white",
            "linecolor": "white",
            "ticks": ""
           }
          },
          "scene": {
           "xaxis": {
            "backgroundcolor": "#E5ECF6",
            "gridcolor": "white",
            "gridwidth": 2,
            "linecolor": "white",
            "showbackground": true,
            "ticks": "",
            "zerolinecolor": "white"
           },
           "yaxis": {
            "backgroundcolor": "#E5ECF6",
            "gridcolor": "white",
            "gridwidth": 2,
            "linecolor": "white",
            "showbackground": true,
            "ticks": "",
            "zerolinecolor": "white"
           },
           "zaxis": {
            "backgroundcolor": "#E5ECF6",
            "gridcolor": "white",
            "gridwidth": 2,
            "linecolor": "white",
            "showbackground": true,
            "ticks": "",
            "zerolinecolor": "white"
           }
          },
          "shapedefaults": {
           "line": {
            "color": "#2a3f5f"
           }
          },
          "ternary": {
           "aaxis": {
            "gridcolor": "white",
            "linecolor": "white",
            "ticks": ""
           },
           "baxis": {
            "gridcolor": "white",
            "linecolor": "white",
            "ticks": ""
           },
           "bgcolor": "#E5ECF6",
           "caxis": {
            "gridcolor": "white",
            "linecolor": "white",
            "ticks": ""
           }
          },
          "title": {
           "x": 0.05
          },
          "xaxis": {
           "automargin": true,
           "gridcolor": "white",
           "linecolor": "white",
           "ticks": "",
           "title": {
            "standoff": 15
           },
           "zerolinecolor": "white",
           "zerolinewidth": 2
          },
          "yaxis": {
           "automargin": true,
           "gridcolor": "white",
           "linecolor": "white",
           "ticks": "",
           "title": {
            "standoff": 15
           },
           "zerolinecolor": "white",
           "zerolinewidth": 2
          }
         }
        }
       }
      },
      "text/html": [
       "<div>                            <div id=\"703aae85-c237-4e59-9829-af8d63fb3775\" class=\"plotly-graph-div\" style=\"height:525px; width:100%;\"></div>            <script type=\"text/javascript\">                require([\"plotly\"], function(Plotly) {                    window.PLOTLYENV=window.PLOTLYENV || {};                                    if (document.getElementById(\"703aae85-c237-4e59-9829-af8d63fb3775\")) {                    Plotly.newPlot(                        \"703aae85-c237-4e59-9829-af8d63fb3775\",                        [{\"domain\":{\"x\":[0.0,1.0],\"y\":[0.0,1.0]},\"hovertemplate\":\"Region=%{label}<br>Estimated_Unemployment_Rate_(%)=%{value}<extra></extra>\",\"labels\":[\"Haryana\",\"Jharkhand\",\"Tripura\",\"Tripura\",\"Bihar\",\"Puducherry\",\"Haryana\",\"Delhi\",\"Himachal Pradesh\",\"Himachal Pradesh\",\"Tamil Nadu\",\"Rajasthan\",\"Chandigarh\",\"Jammu & Kashmir\",\"Jammu & Kashmir\",\"Chandigarh\",\"Uttar Pradesh\",\"Jharkhand\",\"Kerala\",\"Bihar\",\"Delhi\",\"Punjab\",\"Telangana\",\"Rajasthan\",\"Chhattisgarh\",\"Karnataka\",\"Andhra Pradesh\",\"Madhya Pradesh\",\"Uttar Pradesh\",\"Punjab\",\"Maharashtra\",\"West Bengal\",\"Goa\",\"Goa\",\"Sikkim\",\"Gujarat\",\"Odisha\",\"Uttarakhand\",\"Chhattisgarh\",\"Kerala\",\"West Bengal\",\"Assam\",\"Assam\",\"Sikkim\",\"Meghalaya\",\"Uttarakhand\",\"Maharashtra\",\"Gujarat\",\"Andhra Pradesh\",\"Madhya Pradesh\",\"Telangana\",\"Meghalaya\",\"Odisha\",\"Karnataka\",\"Tamil Nadu\",\"Puducherry\"],\"legendgroup\":\"\",\"name\":\"\",\"showlegend\":true,\"values\":[30.929166666666664,29.05333333333333,28.363125,28.333333333333332,25.632500000000004,23.84,22.79875,20.155,19.064375,17.841666666666665,17.578333333333333,16.400833333333335,16.330000000000002,16.25111111111111,16.141666666666666,15.822500000000002,14.769166666666669,14.23375,14.114166666666668,13.8825,13.750625,13.5625,12.5675,12.30125,11.765,11.259166666666667,11.010833333333332,10.8975,10.888125,10.8825,10.355,10.123333333333333,9.34625,9.129999999999999,9.068333333333333,8.91,8.32,7.720909090909092,7.346875,7.13125,6.625625,6.438181818181818,6.4206666666666665,6.257272727272727,5.942727272727273,5.800625,5.459375,4.979375,4.826875,4.788125,4.115625,4.0125,3.66125,3.23875,3.0637499999999998,1.6993749999999999],\"type\":\"pie\"}],                        {\"template\":{\"data\":{\"histogram2dcontour\":[{\"type\":\"histogram2dcontour\",\"colorbar\":{\"outlinewidth\":0,\"ticks\":\"\"},\"colorscale\":[[0.0,\"#0d0887\"],[0.1111111111111111,\"#46039f\"],[0.2222222222222222,\"#7201a8\"],[0.3333333333333333,\"#9c179e\"],[0.4444444444444444,\"#bd3786\"],[0.5555555555555556,\"#d8576b\"],[0.6666666666666666,\"#ed7953\"],[0.7777777777777778,\"#fb9f3a\"],[0.8888888888888888,\"#fdca26\"],[1.0,\"#f0f921\"]]}],\"choropleth\":[{\"type\":\"choropleth\",\"colorbar\":{\"outlinewidth\":0,\"ticks\":\"\"}}],\"histogram2d\":[{\"type\":\"histogram2d\",\"colorbar\":{\"outlinewidth\":0,\"ticks\":\"\"},\"colorscale\":[[0.0,\"#0d0887\"],[0.1111111111111111,\"#46039f\"],[0.2222222222222222,\"#7201a8\"],[0.3333333333333333,\"#9c179e\"],[0.4444444444444444,\"#bd3786\"],[0.5555555555555556,\"#d8576b\"],[0.6666666666666666,\"#ed7953\"],[0.7777777777777778,\"#fb9f3a\"],[0.8888888888888888,\"#fdca26\"],[1.0,\"#f0f921\"]]}],\"heatmap\":[{\"type\":\"heatmap\",\"colorbar\":{\"outlinewidth\":0,\"ticks\":\"\"},\"colorscale\":[[0.0,\"#0d0887\"],[0.1111111111111111,\"#46039f\"],[0.2222222222222222,\"#7201a8\"],[0.3333333333333333,\"#9c179e\"],[0.4444444444444444,\"#bd3786\"],[0.5555555555555556,\"#d8576b\"],[0.6666666666666666,\"#ed7953\"],[0.7777777777777778,\"#fb9f3a\"],[0.8888888888888888,\"#fdca26\"],[1.0,\"#f0f921\"]]}],\"heatmapgl\":[{\"type\":\"heatmapgl\",\"colorbar\":{\"outlinewidth\":0,\"ticks\":\"\"},\"colorscale\":[[0.0,\"#0d0887\"],[0.1111111111111111,\"#46039f\"],[0.2222222222222222,\"#7201a8\"],[0.3333333333333333,\"#9c179e\"],[0.4444444444444444,\"#bd3786\"],[0.5555555555555556,\"#d8576b\"],[0.6666666666666666,\"#ed7953\"],[0.7777777777777778,\"#fb9f3a\"],[0.8888888888888888,\"#fdca26\"],[1.0,\"#f0f921\"]]}],\"contourcarpet\":[{\"type\":\"contourcarpet\",\"colorbar\":{\"outlinewidth\":0,\"ticks\":\"\"}}],\"contour\":[{\"type\":\"contour\",\"colorbar\":{\"outlinewidth\":0,\"ticks\":\"\"},\"colorscale\":[[0.0,\"#0d0887\"],[0.1111111111111111,\"#46039f\"],[0.2222222222222222,\"#7201a8\"],[0.3333333333333333,\"#9c179e\"],[0.4444444444444444,\"#bd3786\"],[0.5555555555555556,\"#d8576b\"],[0.6666666666666666,\"#ed7953\"],[0.7777777777777778,\"#fb9f3a\"],[0.8888888888888888,\"#fdca26\"],[1.0,\"#f0f921\"]]}],\"surface\":[{\"type\":\"surface\",\"colorbar\":{\"outlinewidth\":0,\"ticks\":\"\"},\"colorscale\":[[0.0,\"#0d0887\"],[0.1111111111111111,\"#46039f\"],[0.2222222222222222,\"#7201a8\"],[0.3333333333333333,\"#9c179e\"],[0.4444444444444444,\"#bd3786\"],[0.5555555555555556,\"#d8576b\"],[0.6666666666666666,\"#ed7953\"],[0.7777777777777778,\"#fb9f3a\"],[0.8888888888888888,\"#fdca26\"],[1.0,\"#f0f921\"]]}],\"mesh3d\":[{\"type\":\"mesh3d\",\"colorbar\":{\"outlinewidth\":0,\"ticks\":\"\"}}],\"scatter\":[{\"fillpattern\":{\"fillmode\":\"overlay\",\"size\":10,\"solidity\":0.2},\"type\":\"scatter\"}],\"parcoords\":[{\"type\":\"parcoords\",\"line\":{\"colorbar\":{\"outlinewidth\":0,\"ticks\":\"\"}}}],\"scatterpolargl\":[{\"type\":\"scatterpolargl\",\"marker\":{\"colorbar\":{\"outlinewidth\":0,\"ticks\":\"\"}}}],\"bar\":[{\"error_x\":{\"color\":\"#2a3f5f\"},\"error_y\":{\"color\":\"#2a3f5f\"},\"marker\":{\"line\":{\"color\":\"#E5ECF6\",\"width\":0.5},\"pattern\":{\"fillmode\":\"overlay\",\"size\":10,\"solidity\":0.2}},\"type\":\"bar\"}],\"scattergeo\":[{\"type\":\"scattergeo\",\"marker\":{\"colorbar\":{\"outlinewidth\":0,\"ticks\":\"\"}}}],\"scatterpolar\":[{\"type\":\"scatterpolar\",\"marker\":{\"colorbar\":{\"outlinewidth\":0,\"ticks\":\"\"}}}],\"histogram\":[{\"marker\":{\"pattern\":{\"fillmode\":\"overlay\",\"size\":10,\"solidity\":0.2}},\"type\":\"histogram\"}],\"scattergl\":[{\"type\":\"scattergl\",\"marker\":{\"colorbar\":{\"outlinewidth\":0,\"ticks\":\"\"}}}],\"scatter3d\":[{\"type\":\"scatter3d\",\"line\":{\"colorbar\":{\"outlinewidth\":0,\"ticks\":\"\"}},\"marker\":{\"colorbar\":{\"outlinewidth\":0,\"ticks\":\"\"}}}],\"scattermapbox\":[{\"type\":\"scattermapbox\",\"marker\":{\"colorbar\":{\"outlinewidth\":0,\"ticks\":\"\"}}}],\"scatterternary\":[{\"type\":\"scatterternary\",\"marker\":{\"colorbar\":{\"outlinewidth\":0,\"ticks\":\"\"}}}],\"scattercarpet\":[{\"type\":\"scattercarpet\",\"marker\":{\"colorbar\":{\"outlinewidth\":0,\"ticks\":\"\"}}}],\"carpet\":[{\"aaxis\":{\"endlinecolor\":\"#2a3f5f\",\"gridcolor\":\"white\",\"linecolor\":\"white\",\"minorgridcolor\":\"white\",\"startlinecolor\":\"#2a3f5f\"},\"baxis\":{\"endlinecolor\":\"#2a3f5f\",\"gridcolor\":\"white\",\"linecolor\":\"white\",\"minorgridcolor\":\"white\",\"startlinecolor\":\"#2a3f5f\"},\"type\":\"carpet\"}],\"table\":[{\"cells\":{\"fill\":{\"color\":\"#EBF0F8\"},\"line\":{\"color\":\"white\"}},\"header\":{\"fill\":{\"color\":\"#C8D4E3\"},\"line\":{\"color\":\"white\"}},\"type\":\"table\"}],\"barpolar\":[{\"marker\":{\"line\":{\"color\":\"#E5ECF6\",\"width\":0.5},\"pattern\":{\"fillmode\":\"overlay\",\"size\":10,\"solidity\":0.2}},\"type\":\"barpolar\"}],\"pie\":[{\"automargin\":true,\"type\":\"pie\"}]},\"layout\":{\"autotypenumbers\":\"strict\",\"colorway\":[\"#636efa\",\"#EF553B\",\"#00cc96\",\"#ab63fa\",\"#FFA15A\",\"#19d3f3\",\"#FF6692\",\"#B6E880\",\"#FF97FF\",\"#FECB52\"],\"font\":{\"color\":\"#2a3f5f\"},\"hovermode\":\"closest\",\"hoverlabel\":{\"align\":\"left\"},\"paper_bgcolor\":\"white\",\"plot_bgcolor\":\"#E5ECF6\",\"polar\":{\"bgcolor\":\"#E5ECF6\",\"angularaxis\":{\"gridcolor\":\"white\",\"linecolor\":\"white\",\"ticks\":\"\"},\"radialaxis\":{\"gridcolor\":\"white\",\"linecolor\":\"white\",\"ticks\":\"\"}},\"ternary\":{\"bgcolor\":\"#E5ECF6\",\"aaxis\":{\"gridcolor\":\"white\",\"linecolor\":\"white\",\"ticks\":\"\"},\"baxis\":{\"gridcolor\":\"white\",\"linecolor\":\"white\",\"ticks\":\"\"},\"caxis\":{\"gridcolor\":\"white\",\"linecolor\":\"white\",\"ticks\":\"\"}},\"coloraxis\":{\"colorbar\":{\"outlinewidth\":0,\"ticks\":\"\"}},\"colorscale\":{\"sequential\":[[0.0,\"#0d0887\"],[0.1111111111111111,\"#46039f\"],[0.2222222222222222,\"#7201a8\"],[0.3333333333333333,\"#9c179e\"],[0.4444444444444444,\"#bd3786\"],[0.5555555555555556,\"#d8576b\"],[0.6666666666666666,\"#ed7953\"],[0.7777777777777778,\"#fb9f3a\"],[0.8888888888888888,\"#fdca26\"],[1.0,\"#f0f921\"]],\"sequentialminus\":[[0.0,\"#0d0887\"],[0.1111111111111111,\"#46039f\"],[0.2222222222222222,\"#7201a8\"],[0.3333333333333333,\"#9c179e\"],[0.4444444444444444,\"#bd3786\"],[0.5555555555555556,\"#d8576b\"],[0.6666666666666666,\"#ed7953\"],[0.7777777777777778,\"#fb9f3a\"],[0.8888888888888888,\"#fdca26\"],[1.0,\"#f0f921\"]],\"diverging\":[[0,\"#8e0152\"],[0.1,\"#c51b7d\"],[0.2,\"#de77ae\"],[0.3,\"#f1b6da\"],[0.4,\"#fde0ef\"],[0.5,\"#f7f7f7\"],[0.6,\"#e6f5d0\"],[0.7,\"#b8e186\"],[0.8,\"#7fbc41\"],[0.9,\"#4d9221\"],[1,\"#276419\"]]},\"xaxis\":{\"gridcolor\":\"white\",\"linecolor\":\"white\",\"ticks\":\"\",\"title\":{\"standoff\":15},\"zerolinecolor\":\"white\",\"automargin\":true,\"zerolinewidth\":2},\"yaxis\":{\"gridcolor\":\"white\",\"linecolor\":\"white\",\"ticks\":\"\",\"title\":{\"standoff\":15},\"zerolinecolor\":\"white\",\"automargin\":true,\"zerolinewidth\":2},\"scene\":{\"xaxis\":{\"backgroundcolor\":\"#E5ECF6\",\"gridcolor\":\"white\",\"linecolor\":\"white\",\"showbackground\":true,\"ticks\":\"\",\"zerolinecolor\":\"white\",\"gridwidth\":2},\"yaxis\":{\"backgroundcolor\":\"#E5ECF6\",\"gridcolor\":\"white\",\"linecolor\":\"white\",\"showbackground\":true,\"ticks\":\"\",\"zerolinecolor\":\"white\",\"gridwidth\":2},\"zaxis\":{\"backgroundcolor\":\"#E5ECF6\",\"gridcolor\":\"white\",\"linecolor\":\"white\",\"showbackground\":true,\"ticks\":\"\",\"zerolinecolor\":\"white\",\"gridwidth\":2}},\"shapedefaults\":{\"line\":{\"color\":\"#2a3f5f\"}},\"annotationdefaults\":{\"arrowcolor\":\"#2a3f5f\",\"arrowhead\":0,\"arrowwidth\":1},\"geo\":{\"bgcolor\":\"white\",\"landcolor\":\"#E5ECF6\",\"subunitcolor\":\"white\",\"showland\":true,\"showlakes\":true,\"lakecolor\":\"white\"},\"title\":{\"x\":0.05},\"mapbox\":{\"style\":\"light\"}}},\"legend\":{\"tracegroupgap\":0},\"margin\":{\"t\":60}},                        {\"responsive\": true}                    ).then(function(){\n",
       "                            \n",
       "var gd = document.getElementById('703aae85-c237-4e59-9829-af8d63fb3775');\n",
       "var x = new MutationObserver(function (mutations, observer) {{\n",
       "        var display = window.getComputedStyle(gd).display;\n",
       "        if (!display || display === 'none') {{\n",
       "            console.log([gd, 'removed!']);\n",
       "            Plotly.purge(gd);\n",
       "            observer.disconnect();\n",
       "        }}\n",
       "}});\n",
       "\n",
       "// Listen for the removal of the full notebook cells\n",
       "var notebookContainer = gd.closest('#notebook-container');\n",
       "if (notebookContainer) {{\n",
       "    x.observe(notebookContainer, {childList: true});\n",
       "}}\n",
       "\n",
       "// Listen for the clearing of the current output cell\n",
       "var outputEl = gd.closest('.output');\n",
       "if (outputEl) {{\n",
       "    x.observe(outputEl, {childList: true});\n",
       "}}\n",
       "\n",
       "                        })                };                });            </script>        </div>"
      ]
     },
     "metadata": {},
     "output_type": "display_data"
    }
   ],
   "source": [
    "px.pie(unemployement_state,\n",
    "      names = 'Region',\n",
    "      values = 'Estimated_Unemployment_Rate_(%)')"
   ]
  },
  {
   "cell_type": "markdown",
   "id": "0a55cc7b",
   "metadata": {},
   "source": [
    "Tirupura, Haryana and Jharkand has the highest unemployement rate"
   ]
  },
  {
   "cell_type": "code",
   "execution_count": 42,
   "id": "b188505d",
   "metadata": {},
   "outputs": [
    {
     "data": {
      "image/png": "[encoded data removed]",
      "text/plain": [
       "<Figure size 2000x1500 with 1 Axes>"
      ]
     },
     "metadata": {},
     "output_type": "display_data"
    }
   ],
   "source": [
    "plt.figure(figsize=(20,15))\n",
    "plt.title(\"Average Unemployment Rate In All Regions In Year(2019-2020)\")\n",
    "\n",
    "sns.barplot(data=unemployement_state,\n",
    "            x='Region',\n",
    "            y='Estimated_Unemployment_Rate_(%)',\n",
    "            hue='Year', \n",
    "            palette = custom_colour,\n",
    "            width = 1\n",
    "           )\n",
    "plt.xticks(rotation=90)\n",
    "plt.xlabel('STATE')\n",
    "plt.ylabel('UNEMPLOYEMENT RATE')\n",
    "plt.show()"
   ]
  },
  {
   "cell_type": "code",
   "execution_count": 43,
   "id": "4105f433",
   "metadata": {},
   "outputs": [
    {
     "data": {
      "text/html": [
       "<div>\n",
       "<style scoped>\n",
       "    .dataframe tbody tr th:only-of-type {\n",
       "        vertical-align: middle;\n",
       "    }\n",
       "\n",
       "    .dataframe tbody tr th {\n",
       "        vertical-align: top;\n",
       "    }\n",
       "\n",
       "    .dataframe thead th {\n",
       "        text-align: right;\n",
       "    }\n",
       "</style>\n",
       "<table border=\"1\" class=\"dataframe\">\n",
       "  <thead>\n",
       "    <tr style=\"text-align: right;\">\n",
       "      <th></th>\n",
       "      <th>Month_name</th>\n",
       "      <th>Estimated_Labour_Participation_Rate_(%)</th>\n",
       "      <th>Estimated_Unemployment_Rate_(%)</th>\n",
       "      <th>Estimated_Employed</th>\n",
       "    </tr>\n",
       "  </thead>\n",
       "  <tbody>\n",
       "    <tr>\n",
       "      <th>0</th>\n",
       "      <td>April</td>\n",
       "      <td>35.141176</td>\n",
       "      <td>23.641569</td>\n",
       "      <td>5.283320e+06</td>\n",
       "    </tr>\n",
       "    <tr>\n",
       "      <th>1</th>\n",
       "      <td>August</td>\n",
       "      <td>43.646792</td>\n",
       "      <td>9.637925</td>\n",
       "      <td>7.539815e+06</td>\n",
       "    </tr>\n",
       "    <tr>\n",
       "      <th>2</th>\n",
       "      <td>December</td>\n",
       "      <td>43.667358</td>\n",
       "      <td>9.497358</td>\n",
       "      <td>7.377388e+06</td>\n",
       "    </tr>\n",
       "    <tr>\n",
       "      <th>3</th>\n",
       "      <td>February</td>\n",
       "      <td>43.723019</td>\n",
       "      <td>9.964717</td>\n",
       "      <td>7.603996e+06</td>\n",
       "    </tr>\n",
       "    <tr>\n",
       "      <th>4</th>\n",
       "      <td>January</td>\n",
       "      <td>44.051321</td>\n",
       "      <td>9.950755</td>\n",
       "      <td>7.677344e+06</td>\n",
       "    </tr>\n",
       "    <tr>\n",
       "      <th>5</th>\n",
       "      <td>July</td>\n",
       "      <td>43.706667</td>\n",
       "      <td>9.033889</td>\n",
       "      <td>7.404425e+06</td>\n",
       "    </tr>\n",
       "    <tr>\n",
       "      <th>6</th>\n",
       "      <td>June</td>\n",
       "      <td>42.211058</td>\n",
       "      <td>10.553462</td>\n",
       "      <td>7.372280e+06</td>\n",
       "    </tr>\n",
       "    <tr>\n",
       "      <th>7</th>\n",
       "      <td>March</td>\n",
       "      <td>43.084038</td>\n",
       "      <td>10.700577</td>\n",
       "      <td>7.516581e+06</td>\n",
       "    </tr>\n",
       "    <tr>\n",
       "      <th>8</th>\n",
       "      <td>May</td>\n",
       "      <td>41.277143</td>\n",
       "      <td>16.646190</td>\n",
       "      <td>6.666624e+06</td>\n",
       "    </tr>\n",
       "    <tr>\n",
       "      <th>9</th>\n",
       "      <td>November</td>\n",
       "      <td>44.110545</td>\n",
       "      <td>9.868364</td>\n",
       "      <td>7.273661e+06</td>\n",
       "    </tr>\n",
       "    <tr>\n",
       "      <th>10</th>\n",
       "      <td>October</td>\n",
       "      <td>44.001273</td>\n",
       "      <td>9.900909</td>\n",
       "      <td>7.298382e+06</td>\n",
       "    </tr>\n",
       "    <tr>\n",
       "      <th>11</th>\n",
       "      <td>September</td>\n",
       "      <td>44.301346</td>\n",
       "      <td>9.051731</td>\n",
       "      <td>7.739464e+06</td>\n",
       "    </tr>\n",
       "  </tbody>\n",
       "</table>\n",
       "</div>"
      ],
      "text/plain": [
       "   Month_name  Estimated_Labour_Participation_Rate_(%)  \\\n",
       "0       April                                35.141176   \n",
       "1      August                                43.646792   \n",
       "2    December                                43.667358   \n",
       "3    February                                43.723019   \n",
       "4     January                                44.051321   \n",
       "5        July                                43.706667   \n",
       "6        June                                42.211058   \n",
       "7       March                                43.084038   \n",
       "8         May                                41.277143   \n",
       "9    November                                44.110545   \n",
       "10    October                                44.001273   \n",
       "11  September                                44.301346   \n",
       "\n",
       "    Estimated_Unemployment_Rate_(%)  Estimated_Employed  \n",
       "0                         23.641569        5.283320e+06  \n",
       "1                          9.637925        7.539815e+06  \n",
       "2                          9.497358        7.377388e+06  \n",
       "3                          9.964717        7.603996e+06  \n",
       "4                          9.950755        7.677344e+06  \n",
       "5                          9.033889        7.404425e+06  \n",
       "6                         10.553462        7.372280e+06  \n",
       "7                         10.700577        7.516581e+06  \n",
       "8                         16.646190        6.666624e+06  \n",
       "9                          9.868364        7.273661e+06  \n",
       "10                         9.900909        7.298382e+06  \n",
       "11                         9.051731        7.739464e+06  "
      ]
     },
     "execution_count": 43,
     "metadata": {},
     "output_type": "execute_result"
    }
   ],
   "source": [
    "unemp_rate = data.groupby(['Month_name']).agg({'Estimated_Labour_Participation_Rate_(%)':'mean', 'Estimated_Unemployment_Rate_(%)':'mean', 'Estimated_Employed':'mean'}).reset_index()\n",
    "unemp_rate"
   ]
  },
  {
   "cell_type": "code",
   "execution_count": 44,
   "id": "a7f75860",
   "metadata": {},
   "outputs": [
    {
     "data": {
      "application/vnd.plotly.v1+json": {
       "config": {
        "plotlyServerURL": "https://plot.ly"
       },
       "data": [
        {
         "name": "Unemployement_rate",
         "type": "bar",
         "x": [
          "May",
          "June",
          "July",
          "August",
          "September",
          "October",
          "November",
          "December",
          "January",
          "February",
          "March",
          "April",
          "May",
          "June",
          "May",
          "June",
          "July",
          "August",
          "September",
          "October",
          "November",
          "January",
          "February",
          "March",
          "May",
          "June",
          "May",
          "June",
          "July",
          "August",
          "September",
          "October",
          "November",
          "December",
          "January",
          "February",
          "March",
          "April",
          "May",
          "June",
          "May",
          "June",
          "July",
          "August",
          "September",
          "October",
          "November",
          "December",
          "January",
          "February",
          "March",
          "April",
          "May",
          "June",
          "May",
          "June",
          "July",
          "August",
          "September",
          "October",
          "November",
          "December",
          "January",
          "February",
          "March",
          "April",
          "May",
          "June",
          "May",
          "June",
          "July",
          "August",
          "September",
          "October",
          "November",
          "December",
          "January",
          "February",
          "April",
          "May",
          "May",
          "June",
          "July",
          "August",
          "September",
          "October",
          "November",
          "December",
          "January",
          "February",
          "March",
          "April",
          "May",
          "June",
          "May",
          "June",
          "July",
          "August",
          "September",
          "October",
          "November",
          "December",
          "January",
          "February",
          "March",
          "April",
          "May",
          "June",
          "May",
          "June",
          "July",
          "August",
          "September",
          "October",
          "November",
          "December",
          "January",
          "February",
          "March",
          "April",
          "May",
          "June",
          "May",
          "June",
          "July",
          "August",
          "October",
          "November",
          "January",
          "February",
          "March",
          "May",
          "June",
          "May",
          "June",
          "July",
          "August",
          "September",
          "October",
          "November",
          "December",
          "January",
          "February",
          "March",
          "April",
          "May",
          "June",
          "May",
          "June",
          "July",
          "August",
          "September",
          "October",
          "November",
          "December",
          "January",
          "February",
          "March",
          "April",
          "May",
          "June",
          "May",
          "June",
          "July",
          "August",
          "September",
          "October",
          "November",
          "December",
          "January",
          "February",
          "March",
          "April",
          "May",
          "June",
          "May",
          "June",
          "July",
          "August",
          "September",
          "October",
          "November",
          "December",
          "January",
          "February",
          "March",
          "April",
          "May",
          "June",
          "May",
          "June",
          "July",
          "August",
          "September",
          "October",
          "November",
          "December",
          "January",
          "February",
          "March",
          "April",
          "May",
          "June",
          "May",
          "June",
          "July",
          "August",
          "September",
          "October",
          "November",
          "December",
          "January",
          "February",
          "March",
          "April",
          "May",
          "June",
          "May",
          "June",
          "July",
          "August",
          "September",
          "October",
          "November",
          "December",
          "January",
          "February",
          "March",
          "April",
          "May",
          "June",
          "May",
          "June",
          "July",
          "August",
          "September",
          "October",
          "November",
          "December",
          "January",
          "February",
          "March",
          "April",
          "May",
          "June",
          "July",
          "August",
          "September",
          "October",
          "November",
          "December",
          "January",
          "February",
          "March",
          "April",
          "May",
          "June",
          "May",
          "June",
          "July",
          "August",
          "September",
          "October",
          "November",
          "December",
          "January",
          "February",
          "March",
          "April",
          "May",
          "June",
          "October",
          "November",
          "December",
          "April",
          "June",
          "May",
          "June",
          "July",
          "August",
          "September",
          "October",
          "November",
          "December",
          "January",
          "February",
          "March",
          "April",
          "May",
          "June",
          "May",
          "June",
          "July",
          "August",
          "September",
          "October",
          "November",
          "December",
          "January",
          "February",
          "March",
          "April",
          "May",
          "June",
          "May",
          "June",
          "July",
          "August",
          "September",
          "October",
          "November",
          "December",
          "January",
          "February",
          "March",
          "April",
          "May",
          "June",
          "May",
          "June",
          "July",
          "August",
          "September",
          "October",
          "November",
          "December",
          "January",
          "February",
          "March",
          "April",
          "May",
          "June",
          "May",
          "June",
          "July",
          "August",
          "September",
          "October",
          "November",
          "December",
          "January",
          "February",
          "April",
          "May",
          "June",
          "May",
          "June",
          "July",
          "August",
          "September",
          "October",
          "November",
          "December",
          "January",
          "February",
          "March",
          "April",
          "May",
          "June",
          "May",
          "June",
          "July",
          "August",
          "September",
          "October",
          "November",
          "December",
          "January",
          "February",
          "March",
          "April",
          "May",
          "June",
          "May",
          "June",
          "July",
          "August",
          "September",
          "October",
          "November",
          "December",
          "January",
          "February",
          "March",
          "April",
          "May",
          "June",
          "May",
          "June",
          "July",
          "August",
          "September",
          "October",
          "November",
          "December",
          "January",
          "February",
          "March",
          "April",
          "May",
          "June",
          "May",
          "June",
          "July",
          "August",
          "September",
          "October",
          "November",
          "December",
          "January",
          "February",
          "March",
          "June",
          "May",
          "June",
          "July",
          "August",
          "September",
          "October",
          "November",
          "December",
          "January",
          "February",
          "March",
          "April",
          "May",
          "June",
          "May",
          "June",
          "July",
          "August",
          "September",
          "October",
          "November",
          "December",
          "January",
          "February",
          "March",
          "April",
          "May",
          "June",
          "May",
          "June",
          "July",
          "August",
          "September",
          "October",
          "November",
          "December",
          "January",
          "February",
          "March",
          "April",
          "May",
          "June",
          "July",
          "August",
          "September",
          "October",
          "November",
          "December",
          "January",
          "February",
          "March",
          "April",
          "May",
          "June",
          "May",
          "June",
          "July",
          "August",
          "September",
          "October",
          "November",
          "December",
          "January",
          "February",
          "March",
          "April",
          "May",
          "June",
          "May",
          "June",
          "July",
          "August",
          "September",
          "October",
          "November",
          "December",
          "January",
          "February",
          "March",
          "April",
          "May",
          "June",
          "May",
          "June",
          "July",
          "October",
          "November",
          "December",
          "January",
          "February",
          "March",
          "May",
          "May",
          "June",
          "July",
          "August",
          "September",
          "October",
          "November",
          "December",
          "January",
          "February",
          "March",
          "April",
          "May",
          "June",
          "May",
          "June",
          "July",
          "August",
          "September",
          "October",
          "November",
          "December",
          "January",
          "February",
          "March",
          "April",
          "May",
          "June",
          "May",
          "June",
          "July",
          "August",
          "September",
          "October",
          "November",
          "December",
          "January",
          "February",
          "March",
          "April",
          "May",
          "June",
          "May",
          "June",
          "July",
          "August",
          "September",
          "October",
          "November",
          "December",
          "January",
          "February",
          "March",
          "April",
          "May",
          "June",
          "May",
          "June",
          "July",
          "August",
          "September",
          "October",
          "November",
          "December",
          "January",
          "February",
          "March",
          "April",
          "May",
          "June",
          "May",
          "June",
          "July",
          "August",
          "September",
          "October",
          "November",
          "December",
          "January",
          "February",
          "March",
          "April",
          "May",
          "May",
          "June",
          "July",
          "August",
          "September",
          "October",
          "November",
          "December",
          "January",
          "February",
          "March",
          "April",
          "May",
          "June",
          "May",
          "June",
          "July",
          "August",
          "September",
          "October",
          "November",
          "December",
          "January",
          "February",
          "March",
          "April",
          "May",
          "June",
          "May",
          "June",
          "July",
          "August",
          "September",
          "October",
          "November",
          "December",
          "January",
          "February",
          "March",
          "April",
          "May",
          "June",
          "May",
          "June",
          "July",
          "August",
          "September",
          "October",
          "November",
          "December",
          "January",
          "February",
          "March",
          "April",
          "May",
          "June",
          "May",
          "June",
          "July",
          "August",
          "September",
          "October",
          "November",
          "December",
          "March",
          "April",
          "May",
          "June",
          "May",
          "June",
          "July",
          "August",
          "September",
          "October",
          "November",
          "December",
          "January",
          "February",
          "March",
          "April",
          "May",
          "June",
          "May",
          "June",
          "July",
          "August",
          "September",
          "October",
          "November",
          "December",
          "January",
          "February",
          "March",
          "April",
          "May",
          "June",
          "May",
          "June",
          "July",
          "August",
          "September",
          "October",
          "November",
          "December",
          "January",
          "February",
          "March",
          "April",
          "May",
          "June",
          "May",
          "June",
          "July",
          "August",
          "September",
          "October",
          "November",
          "December",
          "January",
          "February",
          "March",
          "April",
          "May",
          "June",
          "May",
          "June",
          "July",
          "August",
          "September",
          "October",
          "November",
          "December",
          "January",
          "February",
          "March",
          "April",
          "May",
          "June",
          "May",
          "June",
          "July",
          "August",
          "September",
          "October",
          "November",
          "December",
          "January",
          "February",
          "March",
          "April",
          "May",
          "June"
         ],
         "y": [
          3.65,
          3.05,
          3.75,
          3.32,
          5.17,
          3.52,
          4.12,
          4.38,
          4.84,
          5.91,
          4.06,
          16.29,
          14.46,
          0.85,
          4.29,
          5.08,
          4.26,
          5.79,
          4.46,
          4.65,
          4.66,
          4.29,
          3.26,
          3.77,
          9.38,
          0,
          9.27,
          10.2,
          13.44,
          11,
          8.87,
          12.47,
          12.4,
          10.16,
          9.13,
          9.61,
          15.39,
          45.09,
          47.26,
          20.49,
          9.82,
          6.76,
          4.54,
          4.64,
          8.33,
          6.96,
          2.77,
          6.11,
          9.89,
          7.89,
          7.31,
          0,
          7.64,
          10.14,
          12.56,
          9.33,
          11.07,
          17.18,
          12.5,
          15.84,
          11.11,
          16.97,
          13.48,
          13.81,
          15.18,
          20.69,
          22.76,
          21.14,
          2.91,
          5.45,
          10.98,
          1.98,
          3.61,
          7.21,
          23.71,
          3.54,
          5.38,
          0,
          15.91,
          20,
          2.88,
          4.77,
          4.58,
          3.7,
          6.29,
          4.91,
          4.68,
          3.46,
          5.35,
          6.64,
          7.59,
          12,
          14.58,
          1.41,
          14.54,
          23.08,
          16.22,
          30.94,
          16.36,
          24.17,
          16.59,
          29.56,
          16.21,
          27.19,
          23.92,
          41.61,
          34.22,
          35.57,
          13.68,
          11.43,
          20.59,
          18.56,
          15.98,
          15.81,
          22.86,
          19.46,
          16.67,
          15.42,
          17.71,
          2.13,
          25.64,
          1.12,
          12.78,
          12.09,
          13.67,
          11.32,
          19.27,
          14.73,
          22.19,
          21.23,
          16,
          2.22,
          18.97,
          7.11,
          8.46,
          9.98,
          12.06,
          7.12,
          6.57,
          8.07,
          15.15,
          6.16,
          9.06,
          5.01,
          41.72,
          55.1,
          21.53,
          5.46,
          5.98,
          0.52,
          0.37,
          3.2,
          7.13,
          1.19,
          0.41,
          2.57,
          4.11,
          2.39,
          33.17,
          23.72,
          10.92,
          6.63,
          9,
          4.95,
          10.32,
          5.35,
          9.14,
          5,
          10.77,
          4.11,
          8.91,
          8.85,
          10.71,
          23.38,
          27.66,
          3.63,
          4.25,
          3.92,
          4.94,
          3.08,
          2.98,
          2.72,
          2.94,
          3.66,
          4.42,
          1.19,
          12.5,
          22.46,
          6.46,
          3.67,
          4.34,
          3.66,
          3.76,
          4.4,
          3.81,
          3.68,
          3.03,
          3.8,
          4.24,
          5.38,
          25.28,
          16.89,
          9.4,
          3.16,
          4.23,
          1.03,
          0.52,
          0.24,
          3.7,
          1.5,
          1.8,
          0.97,
          2.76,
          1.28,
          8.38,
          3.73,
          1.35,
          4.17,
          4.71,
          3.31,
          3.68,
          4.31,
          4.28,
          4.72,
          4.67,
          1.81,
          3.31,
          15.09,
          24.48,
          9.45,
          4.59,
          0,
          0,
          0,
          4.85,
          0,
          1.18,
          0,
          1.99,
          0.58,
          1.74,
          2.31,
          74.51,
          9.17,
          12.21,
          9.64,
          6.69,
          8.59,
          12.56,
          7.07,
          6.13,
          9.69,
          10.41,
          10.51,
          3.69,
          40.59,
          20,
          4.03,
          13.7,
          9.7,
          12.5,
          5.45,
          14.66,
          10.47,
          13.96,
          8,
          14.48,
          9.47,
          12.25,
          10.45,
          13.86,
          5.48,
          13.11,
          1,
          0,
          5.81,
          0.97,
          0.92,
          6.01,
          2.91,
          1.71,
          1.46,
          2.46,
          3.73,
          1.18,
          1.17,
          6.36,
          53.19,
          38.73,
          2.06,
          2.23,
          5.92,
          2.45,
          1.4,
          5.49,
          7.29,
          6.47,
          1.35,
          5.02,
          9.02,
          5.63,
          4.51,
          34.01,
          19.3,
          29.25,
          26.64,
          22.47,
          25.49,
          30.23,
          27.54,
          25.25,
          26.53,
          31.91,
          26.22,
          31.61,
          43.64,
          14.71,
          18.84,
          10.26,
          11.13,
          9.19,
          11.47,
          6.45,
          10.18,
          6.94,
          8.43,
          6.06,
          8.12,
          9.37,
          19.92,
          16.89,
          8.51,
          1.63,
          4.65,
          5.74,
          6.11,
          3.47,
          4.83,
          5.56,
          4.52,
          4.17,
          4.85,
          3.66,
          3.57,
          10.71,
          6.02,
          5.85,
          5.62,
          5.58,
          5.26,
          6.78,
          5.83,
          5.79,
          6.79,
          3.78,
          7.02,
          18.32,
          18.43,
          4.94,
          6.09,
          3.8,
          5.64,
          4.61,
          6.01,
          4.7,
          7.54,
          7.88,
          7.11,
          5.66,
          9.88,
          32.3,
          24.91,
          5.86,
          7.87,
          9.89,
          3.21,
          10.39,
          9.26,
          11.17,
          6.31,
          5.02,
          7.24,
          9.98,
          10.34,
          8.37,
          10.77,
          3.42,
          19.9,
          13.29,
          16.41,
          17.66,
          20.46,
          14.06,
          17.62,
          14.91,
          20.69,
          15.11,
          15.73,
          58.77,
          37.87,
          12.45,
          18.35,
          12.4,
          21.8,
          9.52,
          20.14,
          13.99,
          22.05,
          8.33,
          20,
          16.67,
          21.43,
          7.22,
          9.77,
          11.77,
          8.17,
          6.29,
          9.46,
          10.27,
          8.32,
          3.57,
          9.01,
          9.79,
          8.21,
          20.13,
          24.1,
          27.07,
          12.31,
          12.76,
          14.68,
          13.52,
          20.59,
          12.41,
          16.11,
          11.07,
          22.45,
          14.86,
          17.09,
          16.51,
          45.78,
          18.11,
          2.75,
          13.33,
          12.28,
          4.9,
          3.16,
          12.31,
          25.2,
          16.22,
          10.92,
          4.31,
          4.76,
          11.76,
          4.09,
          6.31,
          5.15,
          4.2,
          5.96,
          5.45,
          7.53,
          5.71,
          5.82,
          6.04,
          5.39,
          25.94,
          11.62,
          4.54,
          24.67,
          20.42,
          25.45,
          24.19,
          26.84,
          21.04,
          27.06,
          23.65,
          27.24,
          23.29,
          27.14,
          46.89,
          38.46,
          29.41,
          10.88,
          21.43,
          21.51,
          24.48,
          12,
          23.77,
          27.27,
          25.32,
          18.15,
          27.31,
          26.44,
          2.7,
          50,
          10.81,
          23.04,
          19.88,
          21.55,
          24.06,
          14.29,
          7.02,
          18.54,
          19.86,
          14.29,
          12.96,
          17.23,
          20.51,
          15.67,
          20.25,
          21.16,
          19.05,
          17.34,
          22.01,
          22.96,
          19.67,
          16.4,
          61.48,
          70.17,
          19.38,
          6.56,
          5,
          2.29,
          1.27,
          3.57,
          3.87,
          3.44,
          1.56,
          3.31,
          2.88,
          4.92,
          25.12,
          15.88,
          6.12,
          6.11,
          6.67,
          7.58,
          7.69,
          5.52,
          5.35,
          6.71,
          7.31,
          6.65,
          6.08,
          9.14,
          21.43,
          30.28,
          12.17,
          3.91,
          6.38,
          7.38,
          6.82,
          7,
          4.4,
          6.06,
          6.2,
          5.17,
          4.96,
          4.8,
          11.94,
          40.49,
          12.72,
          6.08,
          6.46,
          6.35,
          7.57,
          7.6,
          7.51,
          7.6,
          7.83,
          6.67,
          5.34,
          6.34,
          14.99,
          15.92,
          10.01,
          8.4,
          8.66,
          4.43,
          5.8,
          5.3,
          7.2,
          3.02,
          5.21,
          4.76,
          7.37,
          2.8,
          17.39,
          14.58,
          2.95,
          2.63,
          1.78,
          3.5,
          3.78,
          4.5,
          2.23,
          3.36,
          2.28,
          2.19,
          3.96,
          20.5,
          10,
          2.18,
          1.25,
          0,
          0,
          8.95,
          1.22,
          1.17,
          1.37,
          5.21,
          0.57,
          1.78,
          0.62,
          76.74,
          75,
          4.55,
          13.49,
          13.17,
          11.61,
          11.99,
          15.69,
          13.75,
          10.39,
          11.97,
          13.68,
          11.99,
          9.97,
          1.13,
          20.54,
          10.55,
          13.62,
          14.36,
          11.67,
          14.71,
          12.63,
          13.02,
          14.3,
          18.04,
          18.82,
          17.02,
          18.54,
          35.53,
          25.35,
          13.04,
          8.2,
          7.76,
          2.56,
          4.82,
          4.81,
          9.68,
          4.04,
          7.37,
          20.45,
          5.77,
          19.75,
          2.63,
          0.89,
          1.56,
          3.18,
          9.53,
          1.86,
          1.13,
          2.65,
          8.05,
          2.05,
          3.31,
          6.46,
          45.55,
          25.95,
          24.93,
          1.52,
          1.43,
          3.73,
          4.19,
          6.19,
          6.74,
          5.23,
          4.22,
          6.49,
          6.74,
          6.1,
          10.5,
          36.57,
          6.92,
          34.69,
          25.59,
          25.81,
          33.45,
          33.57,
          26.67,
          27.15,
          33.48,
          34.37,
          33.88,
          25.69,
          34.88,
          16.78,
          27.47,
          14.4,
          11.62,
          11.8,
          14.73,
          13.58,
          10.35,
          11.31,
          12.37,
          12.34,
          11.65,
          12.32,
          26.94,
          32.06,
          13.05,
          9.17,
          4.69,
          6.94,
          7.43,
          9.62,
          4.72,
          6.34,
          7.39,
          8.92,
          5.28,
          8.15,
          13.18,
          17.36,
          5.08,
          7.25,
          7.38,
          7.91,
          7.27,
          7.79,
          7.83,
          6.61,
          7.24,
          7.27,
          7.55,
          6.67,
          15.63,
          15.22,
          9.86
         ]
        },
        {
         "name": "Employement_Force",
         "type": "bar",
         "x": [
          "May",
          "June",
          "July",
          "August",
          "September",
          "October",
          "November",
          "December",
          "January",
          "February",
          "March",
          "April",
          "May",
          "June",
          "May",
          "June",
          "July",
          "August",
          "September",
          "October",
          "November",
          "January",
          "February",
          "March",
          "May",
          "June",
          "May",
          "June",
          "July",
          "August",
          "September",
          "October",
          "November",
          "December",
          "January",
          "February",
          "March",
          "April",
          "May",
          "June",
          "May",
          "June",
          "July",
          "August",
          "September",
          "October",
          "November",
          "December",
          "January",
          "February",
          "March",
          "April",
          "May",
          "June",
          "May",
          "June",
          "July",
          "August",
          "September",
          "October",
          "November",
          "December",
          "January",
          "February",
          "March",
          "April",
          "May",
          "June",
          "May",
          "June",
          "July",
          "August",
          "September",
          "October",
          "November",
          "December",
          "January",
          "February",
          "April",
          "May",
          "May",
          "June",
          "July",
          "August",
          "September",
          "October",
          "November",
          "December",
          "January",
          "February",
          "March",
          "April",
          "May",
          "June",
          "May",
          "June",
          "July",
          "August",
          "September",
          "October",
          "November",
          "December",
          "January",
          "February",
          "March",
          "April",
          "May",
          "June",
          "May",
          "June",
          "July",
          "August",
          "September",
          "October",
          "November",
          "December",
          "January",
          "February",
          "March",
          "April",
          "May",
          "June",
          "May",
          "June",
          "July",
          "August",
          "October",
          "November",
          "January",
          "February",
          "March",
          "May",
          "June",
          "May",
          "June",
          "July",
          "August",
          "September",
          "October",
          "November",
          "December",
          "January",
          "February",
          "March",
          "April",
          "May",
          "June",
          "May",
          "June",
          "July",
          "August",
          "September",
          "October",
          "November",
          "December",
          "January",
          "February",
          "March",
          "April",
          "May",
          "June",
          "May",
          "June",
          "July",
          "August",
          "September",
          "October",
          "November",
          "December",
          "January",
          "February",
          "March",
          "April",
          "May",
          "June",
          "May",
          "June",
          "July",
          "August",
          "September",
          "October",
          "November",
          "December",
          "January",
          "February",
          "March",
          "April",
          "May",
          "June",
          "May",
          "June",
          "July",
          "August",
          "September",
          "October",
          "November",
          "December",
          "January",
          "February",
          "March",
          "April",
          "May",
          "June",
          "May",
          "June",
          "July",
          "August",
          "September",
          "October",
          "November",
          "December",
          "January",
          "February",
          "March",
          "April",
          "May",
          "June",
          "May",
          "June",
          "July",
          "August",
          "September",
          "October",
          "November",
          "December",
          "January",
          "February",
          "March",
          "April",
          "May",
          "June",
          "May",
          "June",
          "July",
          "August",
          "September",
          "October",
          "November",
          "December",
          "January",
          "February",
          "March",
          "April",
          "May",
          "June",
          "July",
          "August",
          "September",
          "October",
          "November",
          "December",
          "January",
          "February",
          "March",
          "April",
          "May",
          "June",
          "May",
          "June",
          "July",
          "August",
          "September",
          "October",
          "November",
          "December",
          "January",
          "February",
          "March",
          "April",
          "May",
          "June",
          "October",
          "November",
          "December",
          "April",
          "June",
          "May",
          "June",
          "July",
          "August",
          "September",
          "October",
          "November",
          "December",
          "January",
          "February",
          "March",
          "April",
          "May",
          "June",
          "May",
          "June",
          "July",
          "August",
          "September",
          "October",
          "November",
          "December",
          "January",
          "February",
          "March",
          "April",
          "May",
          "June",
          "May",
          "June",
          "July",
          "August",
          "September",
          "October",
          "November",
          "December",
          "January",
          "February",
          "March",
          "April",
          "May",
          "June",
          "May",
          "June",
          "July",
          "August",
          "September",
          "October",
          "November",
          "December",
          "January",
          "February",
          "March",
          "April",
          "May",
          "June",
          "May",
          "June",
          "July",
          "August",
          "September",
          "October",
          "November",
          "December",
          "January",
          "February",
          "April",
          "May",
          "June",
          "May",
          "June",
          "July",
          "August",
          "September",
          "October",
          "November",
          "December",
          "January",
          "February",
          "March",
          "April",
          "May",
          "June",
          "May",
          "June",
          "July",
          "August",
          "September",
          "October",
          "November",
          "December",
          "January",
          "February",
          "March",
          "April",
          "May",
          "June",
          "May",
          "June",
          "July",
          "August",
          "September",
          "October",
          "November",
          "December",
          "January",
          "February",
          "March",
          "April",
          "May",
          "June",
          "May",
          "June",
          "July",
          "August",
          "September",
          "October",
          "November",
          "December",
          "January",
          "February",
          "March",
          "April",
          "May",
          "June",
          "May",
          "June",
          "July",
          "August",
          "September",
          "October",
          "November",
          "December",
          "January",
          "February",
          "March",
          "June",
          "May",
          "June",
          "July",
          "August",
          "September",
          "October",
          "November",
          "December",
          "January",
          "February",
          "March",
          "April",
          "May",
          "June",
          "May",
          "June",
          "July",
          "August",
          "September",
          "October",
          "November",
          "December",
          "January",
          "February",
          "March",
          "April",
          "May",
          "June",
          "May",
          "June",
          "July",
          "August",
          "September",
          "October",
          "November",
          "December",
          "January",
          "February",
          "March",
          "April",
          "May",
          "June",
          "July",
          "August",
          "September",
          "October",
          "November",
          "December",
          "January",
          "February",
          "March",
          "April",
          "May",
          "June",
          "May",
          "June",
          "July",
          "August",
          "September",
          "October",
          "November",
          "December",
          "January",
          "February",
          "March",
          "April",
          "May",
          "June",
          "May",
          "June",
          "July",
          "August",
          "September",
          "October",
          "November",
          "December",
          "January",
          "February",
          "March",
          "April",
          "May",
          "June",
          "May",
          "June",
          "July",
          "October",
          "November",
          "December",
          "January",
          "February",
          "March",
          "May",
          "May",
          "June",
          "July",
          "August",
          "September",
          "October",
          "November",
          "December",
          "January",
          "February",
          "March",
          "April",
          "May",
          "June",
          "May",
          "June",
          "July",
          "August",
          "September",
          "October",
          "November",
          "December",
          "January",
          "February",
          "March",
          "April",
          "May",
          "June",
          "May",
          "June",
          "July",
          "August",
          "September",
          "October",
          "November",
          "December",
          "January",
          "February",
          "March",
          "April",
          "May",
          "June",
          "May",
          "June",
          "July",
          "August",
          "September",
          "October",
          "November",
          "December",
          "January",
          "February",
          "March",
          "April",
          "May",
          "June",
          "May",
          "June",
          "July",
          "August",
          "September",
          "October",
          "November",
          "December",
          "January",
          "February",
          "March",
          "April",
          "May",
          "June",
          "May",
          "June",
          "July",
          "August",
          "September",
          "October",
          "November",
          "December",
          "January",
          "February",
          "March",
          "April",
          "May",
          "May",
          "June",
          "July",
          "August",
          "September",
          "October",
          "November",
          "December",
          "January",
          "February",
          "March",
          "April",
          "May",
          "June",
          "May",
          "June",
          "July",
          "August",
          "September",
          "October",
          "November",
          "December",
          "January",
          "February",
          "March",
          "April",
          "May",
          "June",
          "May",
          "June",
          "July",
          "August",
          "September",
          "October",
          "November",
          "December",
          "January",
          "February",
          "March",
          "April",
          "May",
          "June",
          "May",
          "June",
          "July",
          "August",
          "September",
          "October",
          "November",
          "December",
          "January",
          "February",
          "March",
          "April",
          "May",
          "June",
          "May",
          "June",
          "July",
          "August",
          "September",
          "October",
          "November",
          "December",
          "March",
          "April",
          "May",
          "June",
          "May",
          "June",
          "July",
          "August",
          "September",
          "October",
          "November",
          "December",
          "January",
          "February",
          "March",
          "April",
          "May",
          "June",
          "May",
          "June",
          "July",
          "August",
          "September",
          "October",
          "November",
          "December",
          "January",
          "February",
          "March",
          "April",
          "May",
          "June",
          "May",
          "June",
          "July",
          "August",
          "September",
          "October",
          "November",
          "December",
          "January",
          "February",
          "March",
          "April",
          "May",
          "June",
          "May",
          "June",
          "July",
          "August",
          "September",
          "October",
          "November",
          "December",
          "January",
          "February",
          "March",
          "April",
          "May",
          "June",
          "May",
          "June",
          "July",
          "August",
          "September",
          "October",
          "November",
          "December",
          "January",
          "February",
          "March",
          "April",
          "May",
          "June",
          "May",
          "June",
          "July",
          "August",
          "September",
          "October",
          "November",
          "December",
          "January",
          "February",
          "March",
          "April",
          "May",
          "June"
         ],
         "y": [
          43.24,
          42.05,
          43.5,
          43.97,
          44.68,
          43.01,
          41,
          45.14,
          43.46,
          42.83,
          40.66,
          36.03,
          38.16,
          53.76,
          57.39,
          43.87,
          48.21,
          45.83,
          55.67,
          40.76,
          46.64,
          54.9,
          40.17,
          47.05,
          50,
          34.38,
          39.75,
          39.71,
          39.66,
          36.85,
          38.57,
          40.31,
          37.51,
          37.25,
          37.54,
          37.28,
          38.88,
          38.63,
          38.5,
          37.4,
          42.89,
          43.71,
          43.53,
          42.55,
          43.38,
          46.28,
          43.56,
          42.59,
          42.03,
          45.05,
          44.98,
          39.43,
          35.56,
          38.66,
          42.33,
          35.74,
          40.53,
          35.21,
          40.68,
          37.9,
          42.71,
          37.08,
          38.36,
          35.84,
          37.45,
          30.21,
          34.65,
          29.22,
          39.16,
          38.19,
          39.81,
          39.61,
          35.78,
          40.36,
          44.09,
          38.7,
          35.36,
          36.11,
          45.36,
          33.71,
          52.03,
          50.12,
          54.21,
          50.57,
          51.01,
          52.27,
          54.55,
          51.51,
          54.07,
          53.48,
          52.06,
          34.77,
          46.31,
          47.72,
          45.12,
          45.23,
          42.17,
          48.23,
          44.72,
          46.07,
          42.48,
          47.4,
          43.74,
          45.37,
          41.4,
          49.85,
          42.78,
          48.53,
          44.23,
          41.18,
          44.91,
          44.91,
          45.02,
          42.81,
          48.5,
          44.05,
          45.11,
          42.45,
          40.17,
          18.43,
          42.62,
          41.2,
          40.57,
          39.02,
          41.71,
          44.17,
          43.08,
          39.69,
          42.56,
          38.25,
          39.06,
          38.46,
          34.94,
          39.04,
          41.12,
          39.66,
          40.83,
          41.24,
          42.33,
          40.26,
          41.09,
          42.43,
          44.05,
          37.96,
          36.92,
          37.03,
          40.65,
          46.36,
          43.12,
          38.42,
          39.93,
          44.45,
          43.1,
          36.45,
          39.92,
          44.52,
          41.33,
          40.85,
          43.25,
          43.09,
          53.37,
          38.07,
          42.19,
          34.96,
          39.9,
          38.97,
          40.02,
          32.71,
          38.67,
          37.66,
          38.84,
          30.87,
          13.33,
          33.62,
          37.01,
          37.97,
          40.48,
          40.2,
          41.25,
          39.4,
          41.46,
          39.44,
          40.77,
          39.35,
          39.57,
          38.9,
          37.88,
          39.24,
          41.5,
          47.11,
          45.69,
          48.8,
          52.67,
          49.74,
          47.61,
          48.53,
          50.98,
          50.36,
          49.36,
          45.6,
          37.42,
          41.21,
          48.34,
          66.13,
          61.09,
          66.67,
          60.86,
          66.02,
          63.44,
          69.03,
          63.18,
          69.66,
          64.06,
          67.46,
          48.83,
          57.26,
          64.63,
          40.47,
          39.94,
          43.05,
          42.13,
          40.32,
          41.88,
          44.06,
          40.91,
          39.09,
          41.98,
          39.55,
          25.16,
          36.48,
          36.36,
          43.08,
          45.95,
          34.56,
          47.83,
          43.34,
          44.85,
          35,
          45.07,
          43.18,
          45.38,
          35.23,
          46.79,
          44.79,
          45.79,
          46.5,
          44.08,
          45.49,
          45.66,
          45.55,
          43.4,
          45.22,
          44.19,
          46.85,
          32.2,
          41.14,
          43.9,
          38.52,
          41.02,
          39.78,
          41.48,
          39.24,
          42.69,
          40.87,
          43,
          40.12,
          41.83,
          39.47,
          35.21,
          41.11,
          43.98,
          44.06,
          53.04,
          46.3,
          37.72,
          42.36,
          49.44,
          50.99,
          53.94,
          52.17,
          45.62,
          48.55,
          50.95,
          48.8,
          46.23,
          48.86,
          51.56,
          33.05,
          28.6,
          31.49,
          61.74,
          62.19,
          64.4,
          59.23,
          72.57,
          66.49,
          65.17,
          60.61,
          68.51,
          66.92,
          68.53,
          49.44,
          61,
          58.97,
          64.47,
          67.4,
          60.54,
          58.29,
          65.9,
          68.21,
          64.29,
          63.02,
          68.61,
          69.88,
          68.28,
          52.63,
          46.9,
          59.74,
          39.96,
          39.32,
          38.78,
          40.24,
          38.79,
          39.07,
          38.01,
          39.77,
          39.67,
          39.13,
          38.53,
          40.37,
          37.52,
          36.89,
          37.47,
          37.01,
          36.97,
          35.39,
          38.79,
          36.9,
          36.73,
          35.19,
          35.69,
          37.16,
          35.04,
          33.94,
          32,
          46.41,
          50.36,
          48.78,
          48.79,
          49.87,
          48.09,
          50,
          48.47,
          48.3,
          49.51,
          49.18,
          39.27,
          42.53,
          40.44,
          37.45,
          36.76,
          36.1,
          36.29,
          36.69,
          36.41,
          36.62,
          38.61,
          35.91,
          36.84,
          36.08,
          26.97,
          32.69,
          37.61,
          44.92,
          45.17,
          44.32,
          43.81,
          42.66,
          44.01,
          44.59,
          44.26,
          42.82,
          43.9,
          45.03,
          38.45,
          39.04,
          38.73,
          39.8,
          39.35,
          38.36,
          38.03,
          39.25,
          38.45,
          38.86,
          36.29,
          38.99,
          37.87,
          37.29,
          34.94,
          36.45,
          36.54,
          44.89,
          40.44,
          39.47,
          37.95,
          42.77,
          40.06,
          38.6,
          35.19,
          42.94,
          39.25,
          36.68,
          33.8,
          45.61,
          45.88,
          45.85,
          46.91,
          46.8,
          46.82,
          46.59,
          45.59,
          46.21,
          47.14,
          47.39,
          24.06,
          30.24,
          39.41,
          44.17,
          42.71,
          42.34,
          42.9,
          47.36,
          45.78,
          43.02,
          42.56,
          48.09,
          44.18,
          42.82,
          23.59,
          28.28,
          34.32,
          34.17,
          43.96,
          40,
          31.97,
          39.92,
          41.27,
          45.22,
          42.77,
          35.95,
          39.73,
          36.05,
          44.74,
          41.67,
          44.57,
          42.54,
          43.72,
          41.75,
          45.14,
          43.5,
          43.75,
          42.19,
          46.31,
          42.9,
          36.33,
          27.52,
          44.26,
          43.18,
          43.06,
          38.77,
          39.87,
          43.7,
          42.58,
          39.18,
          39.57,
          42.75,
          42.32,
          36.73,
          35.48,
          38.27,
          38.09,
          45.27,
          49.58,
          49.22,
          51.17,
          45.87,
          49.69,
          52.17,
          52.55,
          48.92,
          50.82,
          48.74,
          24.42,
          43.55,
          40.66,
          46.74,
          45.17,
          47.8,
          42.63,
          44.92,
          40.71,
          41.4,
          41.23,
          36.21,
          33.33,
          43.25,
          43.51,
          42.82,
          43.35,
          44.18,
          44.82,
          43.17,
          43.14,
          44.33,
          45.42,
          43.34,
          39.92,
          40.49,
          40.43,
          40.62,
          40.89,
          39.09,
          38.04,
          39,
          39.7,
          38.6,
          37.66,
          38.94,
          39.45,
          41.55,
          42.14,
          43.9,
          39.93,
          36.65,
          37.42,
          33.13,
          35.91,
          36.57,
          36.49,
          32.36,
          35.56,
          36.53,
          36.48,
          33.24,
          20.51,
          29.95,
          38.68,
          38.96,
          38.8,
          37.67,
          40.6,
          39.67,
          38.2,
          37.94,
          39.83,
          39.59,
          37.68,
          36.68,
          29.76,
          35.49,
          38.72,
          38.3,
          39.3,
          38.81,
          37.84,
          39.58,
          39.05,
          39.61,
          37.57,
          37.32,
          37.61,
          37.8,
          30.86,
          30.38,
          37.04,
          47.79,
          48.29,
          56.55,
          52.27,
          50.77,
          47.71,
          57.02,
          53.04,
          51.53,
          47.26,
          55.64,
          36.51,
          48.48,
          41.26,
          38.39,
          40.99,
          40.25,
          42.15,
          40.51,
          41.71,
          38.46,
          41.05,
          38.97,
          39.93,
          25.53,
          34.12,
          35.24,
          35.71,
          37.73,
          34.77,
          42.41,
          35.73,
          38.86,
          34.19,
          40.42,
          34.59,
          38.5,
          34.12,
          35.54,
          31.25,
          29.73,
          40.03,
          40.02,
          42.62,
          41.61,
          39.97,
          37.1,
          41.82,
          42.17,
          39.04,
          37.82,
          41.29,
          23.95,
          34.71,
          34.96,
          39.44,
          40.73,
          40.38,
          40.34,
          39.15,
          40.8,
          40.73,
          40.9,
          41.59,
          41.62,
          39.71,
          29.57,
          36.71,
          39.26,
          48.61,
          48.13,
          54.67,
          46.63,
          45.61,
          46.97,
          53.8,
          45.24,
          50.57,
          40.31,
          43.32,
          35.85,
          37.31,
          39.16,
          38.89,
          41.13,
          37.76,
          38.42,
          37.38,
          41.29,
          37.64,
          37.48,
          36.17,
          26.17,
          23.77,
          31.6,
          44.59,
          45.43,
          44.36,
          45.39,
          47.28,
          44.51,
          43.87,
          43.13,
          45.95,
          45.78,
          43.65,
          29.05,
          37.63,
          37.68,
          69.5,
          58.8,
          59.1,
          59.07,
          66.9,
          60,
          62.14,
          63.41,
          72.26,
          66.04,
          63.56,
          47.65,
          48.31,
          56.17,
          40.43,
          39.75,
          40.43,
          40.87,
          40.07,
          39.71,
          40.6,
          40.21,
          39.52,
          39.54,
          40,
          37.74,
          41.1,
          38.09,
          26.33,
          33.54,
          32.48,
          31.21,
          27.51,
          33.87,
          33.61,
          31.65,
          27.55,
          35.11,
          33.33,
          29.59,
          32.27,
          35.61,
          46.37,
          43.51,
          44.38,
          46.77,
          45.74,
          43.25,
          43.44,
          45.97,
          45.39,
          44.09,
          43.34,
          41.2,
          40.67,
          37.57
         ]
        }
       ],
       "layout": {
        "template": {
         "data": {
          "bar": [
           {
            "error_x": {
             "color": "#2a3f5f"
            },
            "error_y": {
             "color": "#2a3f5f"
            },
            "marker": {
             "line": {
              "color": "#E5ECF6",
              "width": 0.5
             },
             "pattern": {
              "fillmode": "overlay",
              "size": 10,
              "solidity": 0.2
             }
            },
            "type": "bar"
           }
          ],
          "barpolar": [
           {
            "marker": {
             "line": {
              "color": "#E5ECF6",
              "width": 0.5
             },
             "pattern": {
              "fillmode": "overlay",
              "size": 10,
              "solidity": 0.2
             }
            },
            "type": "barpolar"
           }
          ],
          "carpet": [
           {
            "aaxis": {
             "endlinecolor": "#2a3f5f",
             "gridcolor": "white",
             "linecolor": "white",
             "minorgridcolor": "white",
             "startlinecolor": "#2a3f5f"
            },
            "baxis": {
             "endlinecolor": "#2a3f5f",
             "gridcolor": "white",
             "linecolor": "white",
             "minorgridcolor": "white",
             "startlinecolor": "#2a3f5f"
            },
            "type": "carpet"
           }
          ],
          "choropleth": [
           {
            "colorbar": {
             "outlinewidth": 0,
             "ticks": ""
            },
            "type": "choropleth"
           }
          ],
          "contour": [
           {
            "colorbar": {
             "outlinewidth": 0,
             "ticks": ""
            },
            "colorscale": [
             [
              0,
              "#0d0887"
             ],
             [
              0.1111111111111111,
              "#46039f"
             ],
             [
              0.2222222222222222,
              "#7201a8"
             ],
             [
              0.3333333333333333,
              "#9c179e"
             ],
             [
              0.4444444444444444,
              "#bd3786"
             ],
             [
              0.5555555555555556,
              "#d8576b"
             ],
             [
              0.6666666666666666,
              "#ed7953"
             ],
             [
              0.7777777777777778,
              "#fb9f3a"
             ],
             [
              0.8888888888888888,
              "#fdca26"
             ],
             [
              1,
              "#f0f921"
             ]
            ],
            "type": "contour"
           }
          ],
          "contourcarpet": [
           {
            "colorbar": {
             "outlinewidth": 0,
             "ticks": ""
            },
            "type": "contourcarpet"
           }
          ],
          "heatmap": [
           {
            "colorbar": {
             "outlinewidth": 0,
             "ticks": ""
            },
            "colorscale": [
             [
              0,
              "#0d0887"
             ],
             [
              0.1111111111111111,
              "#46039f"
             ],
             [
              0.2222222222222222,
              "#7201a8"
             ],
             [
              0.3333333333333333,
              "#9c179e"
             ],
             [
              0.4444444444444444,
              "#bd3786"
             ],
             [
              0.5555555555555556,
              "#d8576b"
             ],
             [
              0.6666666666666666,
              "#ed7953"
             ],
             [
              0.7777777777777778,
              "#fb9f3a"
             ],
             [
              0.8888888888888888,
              "#fdca26"
             ],
             [
              1,
              "#f0f921"
             ]
            ],
            "type": "heatmap"
           }
          ],
          "heatmapgl": [
           {
            "colorbar": {
             "outlinewidth": 0,
             "ticks": ""
            },
            "colorscale": [
             [
              0,
              "#0d0887"
             ],
             [
              0.1111111111111111,
              "#46039f"
             ],
             [
              0.2222222222222222,
              "#7201a8"
             ],
             [
              0.3333333333333333,
              "#9c179e"
             ],
             [
              0.4444444444444444,
              "#bd3786"
             ],
             [
              0.5555555555555556,
              "#d8576b"
             ],
             [
              0.6666666666666666,
              "#ed7953"
             ],
             [
              0.7777777777777778,
              "#fb9f3a"
             ],
             [
              0.8888888888888888,
              "#fdca26"
             ],
             [
              1,
              "#f0f921"
             ]
            ],
            "type": "heatmapgl"
           }
          ],
          "histogram": [
           {
            "marker": {
             "pattern": {
              "fillmode": "overlay",
              "size": 10,
              "solidity": 0.2
             }
            },
            "type": "histogram"
           }
          ],
          "histogram2d": [
           {
            "colorbar": {
             "outlinewidth": 0,
             "ticks": ""
            },
            "colorscale": [
             [
              0,
              "#0d0887"
             ],
             [
              0.1111111111111111,
              "#46039f"
             ],
             [
              0.2222222222222222,
              "#7201a8"
             ],
             [
              0.3333333333333333,
              "#9c179e"
             ],
             [
              0.4444444444444444,
              "#bd3786"
             ],
             [
              0.5555555555555556,
              "#d8576b"
             ],
             [
              0.6666666666666666,
              "#ed7953"
             ],
             [
              0.7777777777777778,
              "#fb9f3a"
             ],
             [
              0.8888888888888888,
              "#fdca26"
             ],
             [
              1,
              "#f0f921"
             ]
            ],
            "type": "histogram2d"
           }
          ],
          "histogram2dcontour": [
           {
            "colorbar": {
             "outlinewidth": 0,
             "ticks": ""
            },
            "colorscale": [
             [
              0,
              "#0d0887"
             ],
             [
              0.1111111111111111,
              "#46039f"
             ],
             [
              0.2222222222222222,
              "#7201a8"
             ],
             [
              0.3333333333333333,
              "#9c179e"
             ],
             [
              0.4444444444444444,
              "#bd3786"
             ],
             [
              0.5555555555555556,
              "#d8576b"
             ],
             [
              0.6666666666666666,
              "#ed7953"
             ],
             [
              0.7777777777777778,
              "#fb9f3a"
             ],
             [
              0.8888888888888888,
              "#fdca26"
             ],
             [
              1,
              "#f0f921"
             ]
            ],
            "type": "histogram2dcontour"
           }
          ],
          "mesh3d": [
           {
            "colorbar": {
             "outlinewidth": 0,
             "ticks": ""
            },
            "type": "mesh3d"
           }
          ],
          "parcoords": [
           {
            "line": {
             "colorbar": {
              "outlinewidth": 0,
              "ticks": ""
             }
            },
            "type": "parcoords"
           }
          ],
          "pie": [
           {
            "automargin": true,
            "type": "pie"
           }
          ],
          "scatter": [
           {
            "fillpattern": {
             "fillmode": "overlay",
             "size": 10,
             "solidity": 0.2
            },
            "type": "scatter"
           }
          ],
          "scatter3d": [
           {
            "line": {
             "colorbar": {
              "outlinewidth": 0,
              "ticks": ""
             }
            },
            "marker": {
             "colorbar": {
              "outlinewidth": 0,
              "ticks": ""
             }
            },
            "type": "scatter3d"
           }
          ],
          "scattercarpet": [
           {
            "marker": {
             "colorbar": {
              "outlinewidth": 0,
              "ticks": ""
             }
            },
            "type": "scattercarpet"
           }
          ],
          "scattergeo": [
           {
            "marker": {
             "colorbar": {
              "outlinewidth": 0,
              "ticks": ""
             }
            },
            "type": "scattergeo"
           }
          ],
          "scattergl": [
           {
            "marker": {
             "colorbar": {
              "outlinewidth": 0,
              "ticks": ""
             }
            },
            "type": "scattergl"
           }
          ],
          "scattermapbox": [
           {
            "marker": {
             "colorbar": {
              "outlinewidth": 0,
              "ticks": ""
             }
            },
            "type": "scattermapbox"
           }
          ],
          "scatterpolar": [
           {
            "marker": {
             "colorbar": {
              "outlinewidth": 0,
              "ticks": ""
             }
            },
            "type": "scatterpolar"
           }
          ],
          "scatterpolargl": [
           {
            "marker": {
             "colorbar": {
              "outlinewidth": 0,
              "ticks": ""
             }
            },
            "type": "scatterpolargl"
           }
          ],
          "scatterternary": [
           {
            "marker": {
             "colorbar": {
              "outlinewidth": 0,
              "ticks": ""
             }
            },
            "type": "scatterternary"
           }
          ],
          "surface": [
           {
            "colorbar": {
             "outlinewidth": 0,
             "ticks": ""
            },
            "colorscale": [
             [
              0,
              "#0d0887"
             ],
             [
              0.1111111111111111,
              "#46039f"
             ],
             [
              0.2222222222222222,
              "#7201a8"
             ],
             [
              0.3333333333333333,
              "#9c179e"
             ],
             [
              0.4444444444444444,
              "#bd3786"
             ],
             [
              0.5555555555555556,
              "#d8576b"
             ],
             [
              0.6666666666666666,
              "#ed7953"
             ],
             [
              0.7777777777777778,
              "#fb9f3a"
             ],
             [
              0.8888888888888888,
              "#fdca26"
             ],
             [
              1,
              "#f0f921"
             ]
            ],
            "type": "surface"
           }
          ],
          "table": [
           {
            "cells": {
             "fill": {
              "color": "#EBF0F8"
             },
             "line": {
              "color": "white"
             }
            },
            "header": {
             "fill": {
              "color": "#C8D4E3"
             },
             "line": {
              "color": "white"
             }
            },
            "type": "table"
           }
          ]
         },
         "layout": {
          "annotationdefaults": {
           "arrowcolor": "#2a3f5f",
           "arrowhead": 0,
           "arrowwidth": 1
          },
          "autotypenumbers": "strict",
          "coloraxis": {
           "colorbar": {
            "outlinewidth": 0,
            "ticks": ""
           }
          },
          "colorscale": {
           "diverging": [
            [
             0,
             "#8e0152"
            ],
            [
             0.1,
             "#c51b7d"
            ],
            [
             0.2,
             "#de77ae"
            ],
            [
             0.3,
             "#f1b6da"
            ],
            [
             0.4,
             "#fde0ef"
            ],
            [
             0.5,
             "#f7f7f7"
            ],
            [
             0.6,
             "#e6f5d0"
            ],
            [
             0.7,
             "#b8e186"
            ],
            [
             0.8,
             "#7fbc41"
            ],
            [
             0.9,
             "#4d9221"
            ],
            [
             1,
             "#276419"
            ]
           ],
           "sequential": [
            [
             0,
             "#0d0887"
            ],
            [
             0.1111111111111111,
             "#46039f"
            ],
            [
             0.2222222222222222,
             "#7201a8"
            ],
            [
             0.3333333333333333,
             "#9c179e"
            ],
            [
             0.4444444444444444,
             "#bd3786"
            ],
            [
             0.5555555555555556,
             "#d8576b"
            ],
            [
             0.6666666666666666,
             "#ed7953"
            ],
            [
             0.7777777777777778,
             "#fb9f3a"
            ],
            [
             0.8888888888888888,
             "#fdca26"
            ],
            [
             1,
             "#f0f921"
            ]
           ],
           "sequentialminus": [
            [
             0,
             "#0d0887"
            ],
            [
             0.1111111111111111,
             "#46039f"
            ],
            [
             0.2222222222222222,
             "#7201a8"
            ],
            [
             0.3333333333333333,
             "#9c179e"
            ],
            [
             0.4444444444444444,
             "#bd3786"
            ],
            [
             0.5555555555555556,
             "#d8576b"
            ],
            [
             0.6666666666666666,
             "#ed7953"
            ],
            [
             0.7777777777777778,
             "#fb9f3a"
            ],
            [
             0.8888888888888888,
             "#fdca26"
            ],
            [
             1,
             "#f0f921"
            ]
           ]
          },
          "colorway": [
           "#636efa",
           "#EF553B",
           "#00cc96",
           "#ab63fa",
           "#FFA15A",
           "#19d3f3",
           "#FF6692",
           "#B6E880",
           "#FF97FF",
           "#FECB52"
          ],
          "font": {
           "color": "#2a3f5f"
          },
          "geo": {
           "bgcolor": "white",
           "lakecolor": "white",
           "landcolor": "#E5ECF6",
           "showlakes": true,
           "showland": true,
           "subunitcolor": "white"
          },
          "hoverlabel": {
           "align": "left"
          },
          "hovermode": "closest",
          "mapbox": {
           "style": "light"
          },
          "paper_bgcolor": "white",
          "plot_bgcolor": "#E5ECF6",
          "polar": {
           "angularaxis": {
            "gridcolor": "white",
            "linecolor": "white",
            "ticks": ""
           },
           "bgcolor": "#E5ECF6",
           "radialaxis": {
            "gridcolor": "white",
            "linecolor": "white",
            "ticks": ""
           }
          },
          "scene": {
           "xaxis": {
            "backgroundcolor": "#E5ECF6",
            "gridcolor": "white",
            "gridwidth": 2,
            "linecolor": "white",
            "showbackground": true,
            "ticks": "",
            "zerolinecolor": "white"
           },
           "yaxis": {
            "backgroundcolor": "#E5ECF6",
            "gridcolor": "white",
            "gridwidth": 2,
            "linecolor": "white",
            "showbackground": true,
            "ticks": "",
            "zerolinecolor": "white"
           },
           "zaxis": {
            "backgroundcolor": "#E5ECF6",
            "gridcolor": "white",
            "gridwidth": 2,
            "linecolor": "white",
            "showbackground": true,
            "ticks": "",
            "zerolinecolor": "white"
           }
          },
          "shapedefaults": {
           "line": {
            "color": "#2a3f5f"
           }
          },
          "ternary": {
           "aaxis": {
            "gridcolor": "white",
            "linecolor": "white",
            "ticks": ""
           },
           "baxis": {
            "gridcolor": "white",
            "linecolor": "white",
            "ticks": ""
           },
           "bgcolor": "#E5ECF6",
           "caxis": {
            "gridcolor": "white",
            "linecolor": "white",
            "ticks": ""
           }
          },
          "title": {
           "x": 0.05
          },
          "xaxis": {
           "automargin": true,
           "gridcolor": "white",
           "linecolor": "white",
           "ticks": "",
           "title": {
            "standoff": 15
           },
           "zerolinecolor": "white",
           "zerolinewidth": 2
          },
          "yaxis": {
           "automargin": true,
           "gridcolor": "white",
           "linecolor": "white",
           "ticks": "",
           "title": {
            "standoff": 15
           },
           "zerolinecolor": "white",
           "zerolinewidth": 2
          }
         }
        },
        "title": {
         "text": "Unemployment Rate and Labour Participation Rate"
        }
       }
      },
      "text/html": [
       "<div>                            <div id=\"d25f8efd-a5c9-42bb-a795-f74450030cad\" class=\"plotly-graph-div\" style=\"height:525px; width:100%;\"></div>            <script type=\"text/javascript\">                require([\"plotly\"], function(Plotly) {                    window.PLOTLYENV=window.PLOTLYENV || {};                                    if (document.getElementById(\"d25f8efd-a5c9-42bb-a795-f74450030cad\")) {                    Plotly.newPlot(                        \"d25f8efd-a5c9-42bb-a795-f74450030cad\",                        [{\"name\":\"Unemployement_rate\",\"x\":[\"May\",\"June\",\"July\",\"August\",\"September\",\"October\",\"November\",\"December\",\"January\",\"February\",\"March\",\"April\",\"May\",\"June\",\"May\",\"June\",\"July\",\"August\",\"September\",\"October\",\"November\",\"January\",\"February\",\"March\",\"May\",\"June\",\"May\",\"June\",\"July\",\"August\",\"September\",\"October\",\"November\",\"December\",\"January\",\"February\",\"March\",\"April\",\"May\",\"June\",\"May\",\"June\",\"July\",\"August\",\"September\",\"October\",\"November\",\"December\",\"January\",\"February\",\"March\",\"April\",\"May\",\"June\",\"May\",\"June\",\"July\",\"August\",\"September\",\"October\",\"November\",\"December\",\"January\",\"February\",\"March\",\"April\",\"May\",\"June\",\"May\",\"June\",\"July\",\"August\",\"September\",\"October\",\"November\",\"December\",\"January\",\"February\",\"April\",\"May\",\"May\",\"June\",\"July\",\"August\",\"September\",\"October\",\"November\",\"December\",\"January\",\"February\",\"March\",\"April\",\"May\",\"June\",\"May\",\"June\",\"July\",\"August\",\"September\",\"October\",\"November\",\"December\",\"January\",\"February\",\"March\",\"April\",\"May\",\"June\",\"May\",\"June\",\"July\",\"August\",\"September\",\"October\",\"November\",\"December\",\"January\",\"February\",\"March\",\"April\",\"May\",\"June\",\"May\",\"June\",\"July\",\"August\",\"October\",\"November\",\"January\",\"February\",\"March\",\"May\",\"June\",\"May\",\"June\",\"July\",\"August\",\"September\",\"October\",\"November\",\"December\",\"January\",\"February\",\"March\",\"April\",\"May\",\"June\",\"May\",\"June\",\"July\",\"August\",\"September\",\"October\",\"November\",\"December\",\"January\",\"February\",\"March\",\"April\",\"May\",\"June\",\"May\",\"June\",\"July\",\"August\",\"September\",\"October\",\"November\",\"December\",\"January\",\"February\",\"March\",\"April\",\"May\",\"June\",\"May\",\"June\",\"July\",\"August\",\"September\",\"October\",\"November\",\"December\",\"January\",\"February\",\"March\",\"April\",\"May\",\"June\",\"May\",\"June\",\"July\",\"August\",\"September\",\"October\",\"November\",\"December\",\"January\",\"February\",\"March\",\"April\",\"May\",\"June\",\"May\",\"June\",\"July\",\"August\",\"September\",\"October\",\"November\",\"December\",\"January\",\"February\",\"March\",\"April\",\"May\",\"June\",\"May\",\"June\",\"July\",\"August\",\"September\",\"October\",\"November\",\"December\",\"January\",\"February\",\"March\",\"April\",\"May\",\"June\",\"May\",\"June\",\"July\",\"August\",\"September\",\"October\",\"November\",\"December\",\"January\",\"February\",\"March\",\"April\",\"May\",\"June\",\"July\",\"August\",\"September\",\"October\",\"November\",\"December\",\"January\",\"February\",\"March\",\"April\",\"May\",\"June\",\"May\",\"June\",\"July\",\"August\",\"September\",\"October\",\"November\",\"December\",\"January\",\"February\",\"March\",\"April\",\"May\",\"June\",\"October\",\"November\",\"December\",\"April\",\"June\",\"May\",\"June\",\"July\",\"August\",\"September\",\"October\",\"November\",\"December\",\"January\",\"February\",\"March\",\"April\",\"May\",\"June\",\"May\",\"June\",\"July\",\"August\",\"September\",\"October\",\"November\",\"December\",\"January\",\"February\",\"March\",\"April\",\"May\",\"June\",\"May\",\"June\",\"July\",\"August\",\"September\",\"October\",\"November\",\"December\",\"January\",\"February\",\"March\",\"April\",\"May\",\"June\",\"May\",\"June\",\"July\",\"August\",\"September\",\"October\",\"November\",\"December\",\"January\",\"February\",\"March\",\"April\",\"May\",\"June\",\"May\",\"June\",\"July\",\"August\",\"September\",\"October\",\"November\",\"December\",\"January\",\"February\",\"April\",\"May\",\"June\",\"May\",\"June\",\"July\",\"August\",\"September\",\"October\",\"November\",\"December\",\"January\",\"February\",\"March\",\"April\",\"May\",\"June\",\"May\",\"June\",\"July\",\"August\",\"September\",\"October\",\"November\",\"December\",\"January\",\"February\",\"March\",\"April\",\"May\",\"June\",\"May\",\"June\",\"July\",\"August\",\"September\",\"October\",\"November\",\"December\",\"January\",\"February\",\"March\",\"April\",\"May\",\"June\",\"May\",\"June\",\"July\",\"August\",\"September\",\"October\",\"November\",\"December\",\"January\",\"February\",\"March\",\"April\",\"May\",\"June\",\"May\",\"June\",\"July\",\"August\",\"September\",\"October\",\"November\",\"December\",\"January\",\"February\",\"March\",\"June\",\"May\",\"June\",\"July\",\"August\",\"September\",\"October\",\"November\",\"December\",\"January\",\"February\",\"March\",\"April\",\"May\",\"June\",\"May\",\"June\",\"July\",\"August\",\"September\",\"October\",\"November\",\"December\",\"January\",\"February\",\"March\",\"April\",\"May\",\"June\",\"May\",\"June\",\"July\",\"August\",\"September\",\"October\",\"November\",\"December\",\"January\",\"February\",\"March\",\"April\",\"May\",\"June\",\"July\",\"August\",\"September\",\"October\",\"November\",\"December\",\"January\",\"February\",\"March\",\"April\",\"May\",\"June\",\"May\",\"June\",\"July\",\"August\",\"September\",\"October\",\"November\",\"December\",\"January\",\"February\",\"March\",\"April\",\"May\",\"June\",\"May\",\"June\",\"July\",\"August\",\"September\",\"October\",\"November\",\"December\",\"January\",\"February\",\"March\",\"April\",\"May\",\"June\",\"May\",\"June\",\"July\",\"October\",\"November\",\"December\",\"January\",\"February\",\"March\",\"May\",\"May\",\"June\",\"July\",\"August\",\"September\",\"October\",\"November\",\"December\",\"January\",\"February\",\"March\",\"April\",\"May\",\"June\",\"May\",\"June\",\"July\",\"August\",\"September\",\"October\",\"November\",\"December\",\"January\",\"February\",\"March\",\"April\",\"May\",\"June\",\"May\",\"June\",\"July\",\"August\",\"September\",\"October\",\"November\",\"December\",\"January\",\"February\",\"March\",\"April\",\"May\",\"June\",\"May\",\"June\",\"July\",\"August\",\"September\",\"October\",\"November\",\"December\",\"January\",\"February\",\"March\",\"April\",\"May\",\"June\",\"May\",\"June\",\"July\",\"August\",\"September\",\"October\",\"November\",\"December\",\"January\",\"February\",\"March\",\"April\",\"May\",\"June\",\"May\",\"June\",\"July\",\"August\",\"September\",\"October\",\"November\",\"December\",\"January\",\"February\",\"March\",\"April\",\"May\",\"May\",\"June\",\"July\",\"August\",\"September\",\"October\",\"November\",\"December\",\"January\",\"February\",\"March\",\"April\",\"May\",\"June\",\"May\",\"June\",\"July\",\"August\",\"September\",\"October\",\"November\",\"December\",\"January\",\"February\",\"March\",\"April\",\"May\",\"June\",\"May\",\"June\",\"July\",\"August\",\"September\",\"October\",\"November\",\"December\",\"January\",\"February\",\"March\",\"April\",\"May\",\"June\",\"May\",\"June\",\"July\",\"August\",\"September\",\"October\",\"November\",\"December\",\"January\",\"February\",\"March\",\"April\",\"May\",\"June\",\"May\",\"June\",\"July\",\"August\",\"September\",\"October\",\"November\",\"December\",\"March\",\"April\",\"May\",\"June\",\"May\",\"June\",\"July\",\"August\",\"September\",\"October\",\"November\",\"December\",\"January\",\"February\",\"March\",\"April\",\"May\",\"June\",\"May\",\"June\",\"July\",\"August\",\"September\",\"October\",\"November\",\"December\",\"January\",\"February\",\"March\",\"April\",\"May\",\"June\",\"May\",\"June\",\"July\",\"August\",\"September\",\"October\",\"November\",\"December\",\"January\",\"February\",\"March\",\"April\",\"May\",\"June\",\"May\",\"June\",\"July\",\"August\",\"September\",\"October\",\"November\",\"December\",\"January\",\"February\",\"March\",\"April\",\"May\",\"June\",\"May\",\"June\",\"July\",\"August\",\"September\",\"October\",\"November\",\"December\",\"January\",\"February\",\"March\",\"April\",\"May\",\"June\",\"May\",\"June\",\"July\",\"August\",\"September\",\"October\",\"November\",\"December\",\"January\",\"February\",\"March\",\"April\",\"May\",\"June\"],\"y\":[3.65,3.05,3.75,3.32,5.17,3.52,4.12,4.38,4.84,5.91,4.06,16.29,14.46,0.85,4.29,5.08,4.26,5.79,4.46,4.65,4.66,4.29,3.26,3.77,9.38,0.0,9.27,10.2,13.44,11.0,8.87,12.47,12.4,10.16,9.13,9.61,15.39,45.09,47.26,20.49,9.82,6.76,4.54,4.64,8.33,6.96,2.77,6.11,9.89,7.89,7.31,0.0,7.64,10.14,12.56,9.33,11.07,17.18,12.5,15.84,11.11,16.97,13.48,13.81,15.18,20.69,22.76,21.14,2.91,5.45,10.98,1.98,3.61,7.21,23.71,3.54,5.38,0.0,15.91,20.0,2.88,4.77,4.58,3.7,6.29,4.91,4.68,3.46,5.35,6.64,7.59,12.0,14.58,1.41,14.54,23.08,16.22,30.94,16.36,24.17,16.59,29.56,16.21,27.19,23.92,41.61,34.22,35.57,13.68,11.43,20.59,18.56,15.98,15.81,22.86,19.46,16.67,15.42,17.71,2.13,25.64,1.12,12.78,12.09,13.67,11.32,19.27,14.73,22.19,21.23,16.0,2.22,18.97,7.11,8.46,9.98,12.06,7.12,6.57,8.07,15.15,6.16,9.06,5.01,41.72,55.1,21.53,5.46,5.98,0.52,0.37,3.2,7.13,1.19,0.41,2.57,4.11,2.39,33.17,23.72,10.92,6.63,9.0,4.95,10.32,5.35,9.14,5.0,10.77,4.11,8.91,8.85,10.71,23.38,27.66,3.63,4.25,3.92,4.94,3.08,2.98,2.72,2.94,3.66,4.42,1.19,12.5,22.46,6.46,3.67,4.34,3.66,3.76,4.4,3.81,3.68,3.03,3.8,4.24,5.38,25.28,16.89,9.4,3.16,4.23,1.03,0.52,0.24,3.7,1.5,1.8,0.97,2.76,1.28,8.38,3.73,1.35,4.17,4.71,3.31,3.68,4.31,4.28,4.72,4.67,1.81,3.31,15.09,24.48,9.45,4.59,0.0,0.0,0.0,4.85,0.0,1.18,0.0,1.99,0.58,1.74,2.31,74.51,9.17,12.21,9.64,6.69,8.59,12.56,7.07,6.13,9.69,10.41,10.51,3.69,40.59,20.0,4.03,13.7,9.7,12.5,5.45,14.66,10.47,13.96,8.0,14.48,9.47,12.25,10.45,13.86,5.48,13.11,1.0,0.0,5.81,0.97,0.92,6.01,2.91,1.71,1.46,2.46,3.73,1.18,1.17,6.36,53.19,38.73,2.06,2.23,5.92,2.45,1.4,5.49,7.29,6.47,1.35,5.02,9.02,5.63,4.51,34.01,19.3,29.25,26.64,22.47,25.49,30.23,27.54,25.25,26.53,31.91,26.22,31.61,43.64,14.71,18.84,10.26,11.13,9.19,11.47,6.45,10.18,6.94,8.43,6.06,8.12,9.37,19.92,16.89,8.51,1.63,4.65,5.74,6.11,3.47,4.83,5.56,4.52,4.17,4.85,3.66,3.57,10.71,6.02,5.85,5.62,5.58,5.26,6.78,5.83,5.79,6.79,3.78,7.02,18.32,18.43,4.94,6.09,3.8,5.64,4.61,6.01,4.7,7.54,7.88,7.11,5.66,9.88,32.3,24.91,5.86,7.87,9.89,3.21,10.39,9.26,11.17,6.31,5.02,7.24,9.98,10.34,8.37,10.77,3.42,19.9,13.29,16.41,17.66,20.46,14.06,17.62,14.91,20.69,15.11,15.73,58.77,37.87,12.45,18.35,12.4,21.8,9.52,20.14,13.99,22.05,8.33,20.0,16.67,21.43,7.22,9.77,11.77,8.17,6.29,9.46,10.27,8.32,3.57,9.01,9.79,8.21,20.13,24.1,27.07,12.31,12.76,14.68,13.52,20.59,12.41,16.11,11.07,22.45,14.86,17.09,16.51,45.78,18.11,2.75,13.33,12.28,4.9,3.16,12.31,25.2,16.22,10.92,4.31,4.76,11.76,4.09,6.31,5.15,4.2,5.96,5.45,7.53,5.71,5.82,6.04,5.39,25.94,11.62,4.54,24.67,20.42,25.45,24.19,26.84,21.04,27.06,23.65,27.24,23.29,27.14,46.89,38.46,29.41,10.88,21.43,21.51,24.48,12.0,23.77,27.27,25.32,18.15,27.31,26.44,2.7,50.0,10.81,23.04,19.88,21.55,24.06,14.29,7.02,18.54,19.86,14.29,12.96,17.23,20.51,15.67,20.25,21.16,19.05,17.34,22.01,22.96,19.67,16.4,61.48,70.17,19.38,6.56,5.0,2.29,1.27,3.57,3.87,3.44,1.56,3.31,2.88,4.92,25.12,15.88,6.12,6.11,6.67,7.58,7.69,5.52,5.35,6.71,7.31,6.65,6.08,9.14,21.43,30.28,12.17,3.91,6.38,7.38,6.82,7.0,4.4,6.06,6.2,5.17,4.96,4.8,11.94,40.49,12.72,6.08,6.46,6.35,7.57,7.6,7.51,7.6,7.83,6.67,5.34,6.34,14.99,15.92,10.01,8.4,8.66,4.43,5.8,5.3,7.2,3.02,5.21,4.76,7.37,2.8,17.39,14.58,2.95,2.63,1.78,3.5,3.78,4.5,2.23,3.36,2.28,2.19,3.96,20.5,10.0,2.18,1.25,0.0,0.0,8.95,1.22,1.17,1.37,5.21,0.57,1.78,0.62,76.74,75.0,4.55,13.49,13.17,11.61,11.99,15.69,13.75,10.39,11.97,13.68,11.99,9.97,1.13,20.54,10.55,13.62,14.36,11.67,14.71,12.63,13.02,14.3,18.04,18.82,17.02,18.54,35.53,25.35,13.04,8.2,7.76,2.56,4.82,4.81,9.68,4.04,7.37,20.45,5.77,19.75,2.63,0.89,1.56,3.18,9.53,1.86,1.13,2.65,8.05,2.05,3.31,6.46,45.55,25.95,24.93,1.52,1.43,3.73,4.19,6.19,6.74,5.23,4.22,6.49,6.74,6.1,10.5,36.57,6.92,34.69,25.59,25.81,33.45,33.57,26.67,27.15,33.48,34.37,33.88,25.69,34.88,16.78,27.47,14.4,11.62,11.8,14.73,13.58,10.35,11.31,12.37,12.34,11.65,12.32,26.94,32.06,13.05,9.17,4.69,6.94,7.43,9.62,4.72,6.34,7.39,8.92,5.28,8.15,13.18,17.36,5.08,7.25,7.38,7.91,7.27,7.79,7.83,6.61,7.24,7.27,7.55,6.67,15.63,15.22,9.86],\"type\":\"bar\"},{\"name\":\"Employement_Force\",\"x\":[\"May\",\"June\",\"July\",\"August\",\"September\",\"October\",\"November\",\"December\",\"January\",\"February\",\"March\",\"April\",\"May\",\"June\",\"May\",\"June\",\"July\",\"August\",\"September\",\"October\",\"November\",\"January\",\"February\",\"March\",\"May\",\"June\",\"May\",\"June\",\"July\",\"August\",\"September\",\"October\",\"November\",\"December\",\"January\",\"February\",\"March\",\"April\",\"May\",\"June\",\"May\",\"June\",\"July\",\"August\",\"September\",\"October\",\"November\",\"December\",\"January\",\"February\",\"March\",\"April\",\"May\",\"June\",\"May\",\"June\",\"July\",\"August\",\"September\",\"October\",\"November\",\"December\",\"January\",\"February\",\"March\",\"April\",\"May\",\"June\",\"May\",\"June\",\"July\",\"August\",\"September\",\"October\",\"November\",\"December\",\"January\",\"February\",\"April\",\"May\",\"May\",\"June\",\"July\",\"August\",\"September\",\"October\",\"November\",\"December\",\"January\",\"February\",\"March\",\"April\",\"May\",\"June\",\"May\",\"June\",\"July\",\"August\",\"September\",\"October\",\"November\",\"December\",\"January\",\"February\",\"March\",\"April\",\"May\",\"June\",\"May\",\"June\",\"July\",\"August\",\"September\",\"October\",\"November\",\"December\",\"January\",\"February\",\"March\",\"April\",\"May\",\"June\",\"May\",\"June\",\"July\",\"August\",\"October\",\"November\",\"January\",\"February\",\"March\",\"May\",\"June\",\"May\",\"June\",\"July\",\"August\",\"September\",\"October\",\"November\",\"December\",\"January\",\"February\",\"March\",\"April\",\"May\",\"June\",\"May\",\"June\",\"July\",\"August\",\"September\",\"October\",\"November\",\"December\",\"January\",\"February\",\"March\",\"April\",\"May\",\"June\",\"May\",\"June\",\"July\",\"August\",\"September\",\"October\",\"November\",\"December\",\"January\",\"February\",\"March\",\"April\",\"May\",\"June\",\"May\",\"June\",\"July\",\"August\",\"September\",\"October\",\"November\",\"December\",\"January\",\"February\",\"March\",\"April\",\"May\",\"June\",\"May\",\"June\",\"July\",\"August\",\"September\",\"October\",\"November\",\"December\",\"January\",\"February\",\"March\",\"April\",\"May\",\"June\",\"May\",\"June\",\"July\",\"August\",\"September\",\"October\",\"November\",\"December\",\"January\",\"February\",\"March\",\"April\",\"May\",\"June\",\"May\",\"June\",\"July\",\"August\",\"September\",\"October\",\"November\",\"December\",\"January\",\"February\",\"March\",\"April\",\"May\",\"June\",\"May\",\"June\",\"July\",\"August\",\"September\",\"October\",\"November\",\"December\",\"January\",\"February\",\"March\",\"April\",\"May\",\"June\",\"July\",\"August\",\"September\",\"October\",\"November\",\"December\",\"January\",\"February\",\"March\",\"April\",\"May\",\"June\",\"May\",\"June\",\"July\",\"August\",\"September\",\"October\",\"November\",\"December\",\"January\",\"February\",\"March\",\"April\",\"May\",\"June\",\"October\",\"November\",\"December\",\"April\",\"June\",\"May\",\"June\",\"July\",\"August\",\"September\",\"October\",\"November\",\"December\",\"January\",\"February\",\"March\",\"April\",\"May\",\"June\",\"May\",\"June\",\"July\",\"August\",\"September\",\"October\",\"November\",\"December\",\"January\",\"February\",\"March\",\"April\",\"May\",\"June\",\"May\",\"June\",\"July\",\"August\",\"September\",\"October\",\"November\",\"December\",\"January\",\"February\",\"March\",\"April\",\"May\",\"June\",\"May\",\"June\",\"July\",\"August\",\"September\",\"October\",\"November\",\"December\",\"January\",\"February\",\"March\",\"April\",\"May\",\"June\",\"May\",\"June\",\"July\",\"August\",\"September\",\"October\",\"November\",\"December\",\"January\",\"February\",\"April\",\"May\",\"June\",\"May\",\"June\",\"July\",\"August\",\"September\",\"October\",\"November\",\"December\",\"January\",\"February\",\"March\",\"April\",\"May\",\"June\",\"May\",\"June\",\"July\",\"August\",\"September\",\"October\",\"November\",\"December\",\"January\",\"February\",\"March\",\"April\",\"May\",\"June\",\"May\",\"June\",\"July\",\"August\",\"September\",\"October\",\"November\",\"December\",\"January\",\"February\",\"March\",\"April\",\"May\",\"June\",\"May\",\"June\",\"July\",\"August\",\"September\",\"October\",\"November\",\"December\",\"January\",\"February\",\"March\",\"April\",\"May\",\"June\",\"May\",\"June\",\"July\",\"August\",\"September\",\"October\",\"November\",\"December\",\"January\",\"February\",\"March\",\"June\",\"May\",\"June\",\"July\",\"August\",\"September\",\"October\",\"November\",\"December\",\"January\",\"February\",\"March\",\"April\",\"May\",\"June\",\"May\",\"June\",\"July\",\"August\",\"September\",\"October\",\"November\",\"December\",\"January\",\"February\",\"March\",\"April\",\"May\",\"June\",\"May\",\"June\",\"July\",\"August\",\"September\",\"October\",\"November\",\"December\",\"January\",\"February\",\"March\",\"April\",\"May\",\"June\",\"July\",\"August\",\"September\",\"October\",\"November\",\"December\",\"January\",\"February\",\"March\",\"April\",\"May\",\"June\",\"May\",\"June\",\"July\",\"August\",\"September\",\"October\",\"November\",\"December\",\"January\",\"February\",\"March\",\"April\",\"May\",\"June\",\"May\",\"June\",\"July\",\"August\",\"September\",\"October\",\"November\",\"December\",\"January\",\"February\",\"March\",\"April\",\"May\",\"June\",\"May\",\"June\",\"July\",\"October\",\"November\",\"December\",\"January\",\"February\",\"March\",\"May\",\"May\",\"June\",\"July\",\"August\",\"September\",\"October\",\"November\",\"December\",\"January\",\"February\",\"March\",\"April\",\"May\",\"June\",\"May\",\"June\",\"July\",\"August\",\"September\",\"October\",\"November\",\"December\",\"January\",\"February\",\"March\",\"April\",\"May\",\"June\",\"May\",\"June\",\"July\",\"August\",\"September\",\"October\",\"November\",\"December\",\"January\",\"February\",\"March\",\"April\",\"May\",\"June\",\"May\",\"June\",\"July\",\"August\",\"September\",\"October\",\"November\",\"December\",\"January\",\"February\",\"March\",\"April\",\"May\",\"June\",\"May\",\"June\",\"July\",\"August\",\"September\",\"October\",\"November\",\"December\",\"January\",\"February\",\"March\",\"April\",\"May\",\"June\",\"May\",\"June\",\"July\",\"August\",\"September\",\"October\",\"November\",\"December\",\"January\",\"February\",\"March\",\"April\",\"May\",\"May\",\"June\",\"July\",\"August\",\"September\",\"October\",\"November\",\"December\",\"January\",\"February\",\"March\",\"April\",\"May\",\"June\",\"May\",\"June\",\"July\",\"August\",\"September\",\"October\",\"November\",\"December\",\"January\",\"February\",\"March\",\"April\",\"May\",\"June\",\"May\",\"June\",\"July\",\"August\",\"September\",\"October\",\"November\",\"December\",\"January\",\"February\",\"March\",\"April\",\"May\",\"June\",\"May\",\"June\",\"July\",\"August\",\"September\",\"October\",\"November\",\"December\",\"January\",\"February\",\"March\",\"April\",\"May\",\"June\",\"May\",\"June\",\"July\",\"August\",\"September\",\"October\",\"November\",\"December\",\"March\",\"April\",\"May\",\"June\",\"May\",\"June\",\"July\",\"August\",\"September\",\"October\",\"November\",\"December\",\"January\",\"February\",\"March\",\"April\",\"May\",\"June\",\"May\",\"June\",\"July\",\"August\",\"September\",\"October\",\"November\",\"December\",\"January\",\"February\",\"March\",\"April\",\"May\",\"June\",\"May\",\"June\",\"July\",\"August\",\"September\",\"October\",\"November\",\"December\",\"January\",\"February\",\"March\",\"April\",\"May\",\"June\",\"May\",\"June\",\"July\",\"August\",\"September\",\"October\",\"November\",\"December\",\"January\",\"February\",\"March\",\"April\",\"May\",\"June\",\"May\",\"June\",\"July\",\"August\",\"September\",\"October\",\"November\",\"December\",\"January\",\"February\",\"March\",\"April\",\"May\",\"June\",\"May\",\"June\",\"July\",\"August\",\"September\",\"October\",\"November\",\"December\",\"January\",\"February\",\"March\",\"April\",\"May\",\"June\"],\"y\":[43.24,42.05,43.5,43.97,44.68,43.01,41.0,45.14,43.46,42.83,40.66,36.03,38.16,53.76,57.39,43.87,48.21,45.83,55.67,40.76,46.64,54.9,40.17,47.05,50.0,34.38,39.75,39.71,39.66,36.85,38.57,40.31,37.51,37.25,37.54,37.28,38.88,38.63,38.5,37.4,42.89,43.71,43.53,42.55,43.38,46.28,43.56,42.59,42.03,45.05,44.98,39.43,35.56,38.66,42.33,35.74,40.53,35.21,40.68,37.9,42.71,37.08,38.36,35.84,37.45,30.21,34.65,29.22,39.16,38.19,39.81,39.61,35.78,40.36,44.09,38.7,35.36,36.11,45.36,33.71,52.03,50.12,54.21,50.57,51.01,52.27,54.55,51.51,54.07,53.48,52.06,34.77,46.31,47.72,45.12,45.23,42.17,48.23,44.72,46.07,42.48,47.4,43.74,45.37,41.4,49.85,42.78,48.53,44.23,41.18,44.91,44.91,45.02,42.81,48.5,44.05,45.11,42.45,40.17,18.43,42.62,41.2,40.57,39.02,41.71,44.17,43.08,39.69,42.56,38.25,39.06,38.46,34.94,39.04,41.12,39.66,40.83,41.24,42.33,40.26,41.09,42.43,44.05,37.96,36.92,37.03,40.65,46.36,43.12,38.42,39.93,44.45,43.1,36.45,39.92,44.52,41.33,40.85,43.25,43.09,53.37,38.07,42.19,34.96,39.9,38.97,40.02,32.71,38.67,37.66,38.84,30.87,13.33,33.62,37.01,37.97,40.48,40.2,41.25,39.4,41.46,39.44,40.77,39.35,39.57,38.9,37.88,39.24,41.5,47.11,45.69,48.8,52.67,49.74,47.61,48.53,50.98,50.36,49.36,45.6,37.42,41.21,48.34,66.13,61.09,66.67,60.86,66.02,63.44,69.03,63.18,69.66,64.06,67.46,48.83,57.26,64.63,40.47,39.94,43.05,42.13,40.32,41.88,44.06,40.91,39.09,41.98,39.55,25.16,36.48,36.36,43.08,45.95,34.56,47.83,43.34,44.85,35.0,45.07,43.18,45.38,35.23,46.79,44.79,45.79,46.5,44.08,45.49,45.66,45.55,43.4,45.22,44.19,46.85,32.2,41.14,43.9,38.52,41.02,39.78,41.48,39.24,42.69,40.87,43.0,40.12,41.83,39.47,35.21,41.11,43.98,44.06,53.04,46.3,37.72,42.36,49.44,50.99,53.94,52.17,45.62,48.55,50.95,48.8,46.23,48.86,51.56,33.05,28.6,31.49,61.74,62.19,64.4,59.23,72.57,66.49,65.17,60.61,68.51,66.92,68.53,49.44,61.0,58.97,64.47,67.4,60.54,58.29,65.9,68.21,64.29,63.02,68.61,69.88,68.28,52.63,46.9,59.74,39.96,39.32,38.78,40.24,38.79,39.07,38.01,39.77,39.67,39.13,38.53,40.37,37.52,36.89,37.47,37.01,36.97,35.39,38.79,36.9,36.73,35.19,35.69,37.16,35.04,33.94,32.0,46.41,50.36,48.78,48.79,49.87,48.09,50.0,48.47,48.3,49.51,49.18,39.27,42.53,40.44,37.45,36.76,36.1,36.29,36.69,36.41,36.62,38.61,35.91,36.84,36.08,26.97,32.69,37.61,44.92,45.17,44.32,43.81,42.66,44.01,44.59,44.26,42.82,43.9,45.03,38.45,39.04,38.73,39.8,39.35,38.36,38.03,39.25,38.45,38.86,36.29,38.99,37.87,37.29,34.94,36.45,36.54,44.89,40.44,39.47,37.95,42.77,40.06,38.6,35.19,42.94,39.25,36.68,33.8,45.61,45.88,45.85,46.91,46.8,46.82,46.59,45.59,46.21,47.14,47.39,24.06,30.24,39.41,44.17,42.71,42.34,42.9,47.36,45.78,43.02,42.56,48.09,44.18,42.82,23.59,28.28,34.32,34.17,43.96,40.0,31.97,39.92,41.27,45.22,42.77,35.95,39.73,36.05,44.74,41.67,44.57,42.54,43.72,41.75,45.14,43.5,43.75,42.19,46.31,42.9,36.33,27.52,44.26,43.18,43.06,38.77,39.87,43.7,42.58,39.18,39.57,42.75,42.32,36.73,35.48,38.27,38.09,45.27,49.58,49.22,51.17,45.87,49.69,52.17,52.55,48.92,50.82,48.74,24.42,43.55,40.66,46.74,45.17,47.8,42.63,44.92,40.71,41.4,41.23,36.21,33.33,43.25,43.51,42.82,43.35,44.18,44.82,43.17,43.14,44.33,45.42,43.34,39.92,40.49,40.43,40.62,40.89,39.09,38.04,39.0,39.7,38.6,37.66,38.94,39.45,41.55,42.14,43.9,39.93,36.65,37.42,33.13,35.91,36.57,36.49,32.36,35.56,36.53,36.48,33.24,20.51,29.95,38.68,38.96,38.8,37.67,40.6,39.67,38.2,37.94,39.83,39.59,37.68,36.68,29.76,35.49,38.72,38.3,39.3,38.81,37.84,39.58,39.05,39.61,37.57,37.32,37.61,37.8,30.86,30.38,37.04,47.79,48.29,56.55,52.27,50.77,47.71,57.02,53.04,51.53,47.26,55.64,36.51,48.48,41.26,38.39,40.99,40.25,42.15,40.51,41.71,38.46,41.05,38.97,39.93,25.53,34.12,35.24,35.71,37.73,34.77,42.41,35.73,38.86,34.19,40.42,34.59,38.5,34.12,35.54,31.25,29.73,40.03,40.02,42.62,41.61,39.97,37.1,41.82,42.17,39.04,37.82,41.29,23.95,34.71,34.96,39.44,40.73,40.38,40.34,39.15,40.8,40.73,40.9,41.59,41.62,39.71,29.57,36.71,39.26,48.61,48.13,54.67,46.63,45.61,46.97,53.8,45.24,50.57,40.31,43.32,35.85,37.31,39.16,38.89,41.13,37.76,38.42,37.38,41.29,37.64,37.48,36.17,26.17,23.77,31.6,44.59,45.43,44.36,45.39,47.28,44.51,43.87,43.13,45.95,45.78,43.65,29.05,37.63,37.68,69.5,58.8,59.1,59.07,66.9,60.0,62.14,63.41,72.26,66.04,63.56,47.65,48.31,56.17,40.43,39.75,40.43,40.87,40.07,39.71,40.6,40.21,39.52,39.54,40.0,37.74,41.1,38.09,26.33,33.54,32.48,31.21,27.51,33.87,33.61,31.65,27.55,35.11,33.33,29.59,32.27,35.61,46.37,43.51,44.38,46.77,45.74,43.25,43.44,45.97,45.39,44.09,43.34,41.2,40.67,37.57],\"type\":\"bar\"}],                        {\"template\":{\"data\":{\"histogram2dcontour\":[{\"type\":\"histogram2dcontour\",\"colorbar\":{\"outlinewidth\":0,\"ticks\":\"\"},\"colorscale\":[[0.0,\"#0d0887\"],[0.1111111111111111,\"#46039f\"],[0.2222222222222222,\"#7201a8\"],[0.3333333333333333,\"#9c179e\"],[0.4444444444444444,\"#bd3786\"],[0.5555555555555556,\"#d8576b\"],[0.6666666666666666,\"#ed7953\"],[0.7777777777777778,\"#fb9f3a\"],[0.8888888888888888,\"#fdca26\"],[1.0,\"#f0f921\"]]}],\"choropleth\":[{\"type\":\"choropleth\",\"colorbar\":{\"outlinewidth\":0,\"ticks\":\"\"}}],\"histogram2d\":[{\"type\":\"histogram2d\",\"colorbar\":{\"outlinewidth\":0,\"ticks\":\"\"},\"colorscale\":[[0.0,\"#0d0887\"],[0.1111111111111111,\"#46039f\"],[0.2222222222222222,\"#7201a8\"],[0.3333333333333333,\"#9c179e\"],[0.4444444444444444,\"#bd3786\"],[0.5555555555555556,\"#d8576b\"],[0.6666666666666666,\"#ed7953\"],[0.7777777777777778,\"#fb9f3a\"],[0.8888888888888888,\"#fdca26\"],[1.0,\"#f0f921\"]]}],\"heatmap\":[{\"type\":\"heatmap\",\"colorbar\":{\"outlinewidth\":0,\"ticks\":\"\"},\"colorscale\":[[0.0,\"#0d0887\"],[0.1111111111111111,\"#46039f\"],[0.2222222222222222,\"#7201a8\"],[0.3333333333333333,\"#9c179e\"],[0.4444444444444444,\"#bd3786\"],[0.5555555555555556,\"#d8576b\"],[0.6666666666666666,\"#ed7953\"],[0.7777777777777778,\"#fb9f3a\"],[0.8888888888888888,\"#fdca26\"],[1.0,\"#f0f921\"]]}],\"heatmapgl\":[{\"type\":\"heatmapgl\",\"colorbar\":{\"outlinewidth\":0,\"ticks\":\"\"},\"colorscale\":[[0.0,\"#0d0887\"],[0.1111111111111111,\"#46039f\"],[0.2222222222222222,\"#7201a8\"],[0.3333333333333333,\"#9c179e\"],[0.4444444444444444,\"#bd3786\"],[0.5555555555555556,\"#d8576b\"],[0.6666666666666666,\"#ed7953\"],[0.7777777777777778,\"#fb9f3a\"],[0.8888888888888888,\"#fdca26\"],[1.0,\"#f0f921\"]]}],\"contourcarpet\":[{\"type\":\"contourcarpet\",\"colorbar\":{\"outlinewidth\":0,\"ticks\":\"\"}}],\"contour\":[{\"type\":\"contour\",\"colorbar\":{\"outlinewidth\":0,\"ticks\":\"\"},\"colorscale\":[[0.0,\"#0d0887\"],[0.1111111111111111,\"#46039f\"],[0.2222222222222222,\"#7201a8\"],[0.3333333333333333,\"#9c179e\"],[0.4444444444444444,\"#bd3786\"],[0.5555555555555556,\"#d8576b\"],[0.6666666666666666,\"#ed7953\"],[0.7777777777777778,\"#fb9f3a\"],[0.8888888888888888,\"#fdca26\"],[1.0,\"#f0f921\"]]}],\"surface\":[{\"type\":\"surface\",\"colorbar\":{\"outlinewidth\":0,\"ticks\":\"\"},\"colorscale\":[[0.0,\"#0d0887\"],[0.1111111111111111,\"#46039f\"],[0.2222222222222222,\"#7201a8\"],[0.3333333333333333,\"#9c179e\"],[0.4444444444444444,\"#bd3786\"],[0.5555555555555556,\"#d8576b\"],[0.6666666666666666,\"#ed7953\"],[0.7777777777777778,\"#fb9f3a\"],[0.8888888888888888,\"#fdca26\"],[1.0,\"#f0f921\"]]}],\"mesh3d\":[{\"type\":\"mesh3d\",\"colorbar\":{\"outlinewidth\":0,\"ticks\":\"\"}}],\"scatter\":[{\"fillpattern\":{\"fillmode\":\"overlay\",\"size\":10,\"solidity\":0.2},\"type\":\"scatter\"}],\"parcoords\":[{\"type\":\"parcoords\",\"line\":{\"colorbar\":{\"outlinewidth\":0,\"ticks\":\"\"}}}],\"scatterpolargl\":[{\"type\":\"scatterpolargl\",\"marker\":{\"colorbar\":{\"outlinewidth\":0,\"ticks\":\"\"}}}],\"bar\":[{\"error_x\":{\"color\":\"#2a3f5f\"},\"error_y\":{\"color\":\"#2a3f5f\"},\"marker\":{\"line\":{\"color\":\"#E5ECF6\",\"width\":0.5},\"pattern\":{\"fillmode\":\"overlay\",\"size\":10,\"solidity\":0.2}},\"type\":\"bar\"}],\"scattergeo\":[{\"type\":\"scattergeo\",\"marker\":{\"colorbar\":{\"outlinewidth\":0,\"ticks\":\"\"}}}],\"scatterpolar\":[{\"type\":\"scatterpolar\",\"marker\":{\"colorbar\":{\"outlinewidth\":0,\"ticks\":\"\"}}}],\"histogram\":[{\"marker\":{\"pattern\":{\"fillmode\":\"overlay\",\"size\":10,\"solidity\":0.2}},\"type\":\"histogram\"}],\"scattergl\":[{\"type\":\"scattergl\",\"marker\":{\"colorbar\":{\"outlinewidth\":0,\"ticks\":\"\"}}}],\"scatter3d\":[{\"type\":\"scatter3d\",\"line\":{\"colorbar\":{\"outlinewidth\":0,\"ticks\":\"\"}},\"marker\":{\"colorbar\":{\"outlinewidth\":0,\"ticks\":\"\"}}}],\"scattermapbox\":[{\"type\":\"scattermapbox\",\"marker\":{\"colorbar\":{\"outlinewidth\":0,\"ticks\":\"\"}}}],\"scatterternary\":[{\"type\":\"scatterternary\",\"marker\":{\"colorbar\":{\"outlinewidth\":0,\"ticks\":\"\"}}}],\"scattercarpet\":[{\"type\":\"scattercarpet\",\"marker\":{\"colorbar\":{\"outlinewidth\":0,\"ticks\":\"\"}}}],\"carpet\":[{\"aaxis\":{\"endlinecolor\":\"#2a3f5f\",\"gridcolor\":\"white\",\"linecolor\":\"white\",\"minorgridcolor\":\"white\",\"startlinecolor\":\"#2a3f5f\"},\"baxis\":{\"endlinecolor\":\"#2a3f5f\",\"gridcolor\":\"white\",\"linecolor\":\"white\",\"minorgridcolor\":\"white\",\"startlinecolor\":\"#2a3f5f\"},\"type\":\"carpet\"}],\"table\":[{\"cells\":{\"fill\":{\"color\":\"#EBF0F8\"},\"line\":{\"color\":\"white\"}},\"header\":{\"fill\":{\"color\":\"#C8D4E3\"},\"line\":{\"color\":\"white\"}},\"type\":\"table\"}],\"barpolar\":[{\"marker\":{\"line\":{\"color\":\"#E5ECF6\",\"width\":0.5},\"pattern\":{\"fillmode\":\"overlay\",\"size\":10,\"solidity\":0.2}},\"type\":\"barpolar\"}],\"pie\":[{\"automargin\":true,\"type\":\"pie\"}]},\"layout\":{\"autotypenumbers\":\"strict\",\"colorway\":[\"#636efa\",\"#EF553B\",\"#00cc96\",\"#ab63fa\",\"#FFA15A\",\"#19d3f3\",\"#FF6692\",\"#B6E880\",\"#FF97FF\",\"#FECB52\"],\"font\":{\"color\":\"#2a3f5f\"},\"hovermode\":\"closest\",\"hoverlabel\":{\"align\":\"left\"},\"paper_bgcolor\":\"white\",\"plot_bgcolor\":\"#E5ECF6\",\"polar\":{\"bgcolor\":\"#E5ECF6\",\"angularaxis\":{\"gridcolor\":\"white\",\"linecolor\":\"white\",\"ticks\":\"\"},\"radialaxis\":{\"gridcolor\":\"white\",\"linecolor\":\"white\",\"ticks\":\"\"}},\"ternary\":{\"bgcolor\":\"#E5ECF6\",\"aaxis\":{\"gridcolor\":\"white\",\"linecolor\":\"white\",\"ticks\":\"\"},\"baxis\":{\"gridcolor\":\"white\",\"linecolor\":\"white\",\"ticks\":\"\"},\"caxis\":{\"gridcolor\":\"white\",\"linecolor\":\"white\",\"ticks\":\"\"}},\"coloraxis\":{\"colorbar\":{\"outlinewidth\":0,\"ticks\":\"\"}},\"colorscale\":{\"sequential\":[[0.0,\"#0d0887\"],[0.1111111111111111,\"#46039f\"],[0.2222222222222222,\"#7201a8\"],[0.3333333333333333,\"#9c179e\"],[0.4444444444444444,\"#bd3786\"],[0.5555555555555556,\"#d8576b\"],[0.6666666666666666,\"#ed7953\"],[0.7777777777777778,\"#fb9f3a\"],[0.8888888888888888,\"#fdca26\"],[1.0,\"#f0f921\"]],\"sequentialminus\":[[0.0,\"#0d0887\"],[0.1111111111111111,\"#46039f\"],[0.2222222222222222,\"#7201a8\"],[0.3333333333333333,\"#9c179e\"],[0.4444444444444444,\"#bd3786\"],[0.5555555555555556,\"#d8576b\"],[0.6666666666666666,\"#ed7953\"],[0.7777777777777778,\"#fb9f3a\"],[0.8888888888888888,\"#fdca26\"],[1.0,\"#f0f921\"]],\"diverging\":[[0,\"#8e0152\"],[0.1,\"#c51b7d\"],[0.2,\"#de77ae\"],[0.3,\"#f1b6da\"],[0.4,\"#fde0ef\"],[0.5,\"#f7f7f7\"],[0.6,\"#e6f5d0\"],[0.7,\"#b8e186\"],[0.8,\"#7fbc41\"],[0.9,\"#4d9221\"],[1,\"#276419\"]]},\"xaxis\":{\"gridcolor\":\"white\",\"linecolor\":\"white\",\"ticks\":\"\",\"title\":{\"standoff\":15},\"zerolinecolor\":\"white\",\"automargin\":true,\"zerolinewidth\":2},\"yaxis\":{\"gridcolor\":\"white\",\"linecolor\":\"white\",\"ticks\":\"\",\"title\":{\"standoff\":15},\"zerolinecolor\":\"white\",\"automargin\":true,\"zerolinewidth\":2},\"scene\":{\"xaxis\":{\"backgroundcolor\":\"#E5ECF6\",\"gridcolor\":\"white\",\"linecolor\":\"white\",\"showbackground\":true,\"ticks\":\"\",\"zerolinecolor\":\"white\",\"gridwidth\":2},\"yaxis\":{\"backgroundcolor\":\"#E5ECF6\",\"gridcolor\":\"white\",\"linecolor\":\"white\",\"showbackground\":true,\"ticks\":\"\",\"zerolinecolor\":\"white\",\"gridwidth\":2},\"zaxis\":{\"backgroundcolor\":\"#E5ECF6\",\"gridcolor\":\"white\",\"linecolor\":\"white\",\"showbackground\":true,\"ticks\":\"\",\"zerolinecolor\":\"white\",\"gridwidth\":2}},\"shapedefaults\":{\"line\":{\"color\":\"#2a3f5f\"}},\"annotationdefaults\":{\"arrowcolor\":\"#2a3f5f\",\"arrowhead\":0,\"arrowwidth\":1},\"geo\":{\"bgcolor\":\"white\",\"landcolor\":\"#E5ECF6\",\"subunitcolor\":\"white\",\"showland\":true,\"showlakes\":true,\"lakecolor\":\"white\"},\"title\":{\"x\":0.05},\"mapbox\":{\"style\":\"light\"}}},\"title\":{\"text\":\"Unemployment Rate and Labour Participation Rate\"}},                        {\"responsive\": true}                    ).then(function(){\n",
       "                            \n",
       "var gd = document.getElementById('d25f8efd-a5c9-42bb-a795-f74450030cad');\n",
       "var x = new MutationObserver(function (mutations, observer) {{\n",
       "        var display = window.getComputedStyle(gd).display;\n",
       "        if (!display || display === 'none') {{\n",
       "            console.log([gd, 'removed!']);\n",
       "            Plotly.purge(gd);\n",
       "            observer.disconnect();\n",
       "        }}\n",
       "}});\n",
       "\n",
       "// Listen for the removal of the full notebook cells\n",
       "var notebookContainer = gd.closest('#notebook-container');\n",
       "if (notebookContainer) {{\n",
       "    x.observe(notebookContainer, {childList: true});\n",
       "}}\n",
       "\n",
       "// Listen for the clearing of the current output cell\n",
       "var outputEl = gd.closest('.output');\n",
       "if (outputEl) {{\n",
       "    x.observe(outputEl, {childList: true});\n",
       "}}\n",
       "\n",
       "                        })                };                });            </script>        </div>"
      ]
     },
     "metadata": {},
     "output_type": "display_data"
    }
   ],
   "source": [
    "barfig = go.Figure()\n",
    "\n",
    "barfig.add_trace(go.Bar(x=data['Month_name'], y=data['Estimated_Unemployment_Rate_(%)'], name = 'Unemployement_rate'))\n",
    "barfig.add_trace(go.Bar(x=data['Month_name'], y=data['Estimated_Labour_Participation_Rate_(%)'], name = 'Employement_Force'))\n",
    "\n",
    "barfig.update_layout(title='Unemployment Rate and Labour Participation Rate')\n",
    "barfig.show()"
   ]
  },
  {
   "cell_type": "code",
   "execution_count": 45,
   "id": "c85fcdc0",
   "metadata": {},
   "outputs": [
    {
     "data": {
      "text/plain": [
       "array([<Axes: xlabel='Month_name'>, <Axes: xlabel='Month_name'>,\n",
       "       <Axes: xlabel='Month_name'>], dtype=object)"
      ]
     },
     "execution_count": 45,
     "metadata": {},
     "output_type": "execute_result"
    },
    {
     "data": {
      "image/png": "[encoded data removed]",
      "text/plain": [
       "<Figure size 1000x600 with 3 Axes>"
      ]
     },
     "metadata": {},
     "output_type": "display_data"
    }
   ],
   "source": [
    "unemp_rate.plot(kind = 'line',\n",
    "               x = 'Month_name',\n",
    "               y = ['Estimated_Unemployment_Rate_(%)', 'Estimated_Labour_Participation_Rate_(%)', 'Estimated_Employed'],\n",
    "                figsize = (10, 6),\n",
    "               subplots = True)"
   ]
  },
  {
   "cell_type": "markdown",
   "id": "b6e05480",
   "metadata": {},
   "source": [
    "# Conclusion\n",
    "\n",
    "Regional Disparities:\n",
    "\n",
    "Significant variations in unemployment rates exist across different states, highlighting diverse economic conditions and challenges.\n",
    "\n",
    "COVID-19 Impact:\n",
    "\n",
    "There is a noticeable spike in unemployment rates post-March 2020, indicating the probable impact of the COVID-19 pandemic and associated lockdown measures on employment.\n",
    "\n",
    "Rural-Urban Divide:\n",
    "\n",
    "Unemployment rates are distinct for rural and urban areas, emphasizing the need for targeted policies addressing the specific challenges in each setting.\n",
    "\n",
    "Temporal Fluctuations:\n",
    "\n",
    "Monthly variations in unemployment rates suggest the presence of temporal trends, emphasizing the dynamic nature of employment conditions.\n",
    "\n",
    "State-specific Factors:\n",
    "\n",
    "Each state exhibits unique employment dynamics influenced by local factors, necessitating tailored strategies for effective employment policies."
   ]
  },
  {
   "cell_type": "code",
   "execution_count": null,
   "id": "d5b1ae43",
   "metadata": {},
   "outputs": [],
   "source": []
  }
 ],
 "metadata": {
  "kernelspec": {
   "display_name": "Python 3 (ipykernel)",
   "language": "python",
   "name": "python3"
  },
  "language_info": {
   "codemirror_mode": {
    "name": "ipython",
    "version": 3
   },
   "file_extension": ".py",
   "mimetype": "text/x-python",
   "name": "python",
   "nbconvert_exporter": "python",
   "pygments_lexer": "ipython3",
   "version": "3.11.5"
  }
 },
 "nbformat": 4,
 "nbformat_minor": 5
}
